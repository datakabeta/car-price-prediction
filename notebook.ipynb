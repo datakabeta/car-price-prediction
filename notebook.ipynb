{
 "cells": [
  {
   "cell_type": "markdown",
   "metadata": {},
   "source": [
    "<h1><center>Geely Auto Case Study</center></h1>\n",
    "\n",
    "<div style=\"text-align: right\"> Submitted By: Kashif Sami"
   ]
  },
  {
   "cell_type": "markdown",
   "metadata": {},
   "source": [
    "# Table of Contents\n",
    "\n",
    "**[Business Understanding](#1)**\n",
    "   - [About the Company](#1.1)\n",
    "   - [Business Objective](#1.2)\n",
    "   \n",
    "**[Data Understanding & Cleaning](#2)**\n",
    "  - [Import Libraries](#2.1)\n",
    "  - [Import & Review Data](#2.2)\n",
    "  - [Create Index Column](#2.3)  \n",
    "  - [Deal with Null Values](#2.4)\n",
    "  - [Deal with Columns having with Many Zeroes](#2.5)\n",
    "  - [Clean strings](#2.6)\n",
    "  - [Extract Car Make ](#2.7) \n",
    "  \n",
    "  \n",
    "**[Data Analysis & Preparation](#3)**\n",
    "  - [Identify Data Types](#3.1)\n",
    "  - [Analyze Numerical Variables](#3.2)\n",
    "  - [Analyze & Encode Categorical Variables](#3.3)\n",
    "      * [Ordinal Variables](#3.3.1)\n",
    "      * [Nominal Variables with 2 levels](#3.3.2)\n",
    "      * [Nominal Variables with 2+ levels](#3.3.3)\n",
    "  - [Analyze Target Variable](#3.4)\n",
    "  - [Train-Test Split](#3.5)\n",
    "  - [Rescale Variables](#3.6)\n",
    "\n",
    "  \n",
    "**[Model Building & Evaluation](#4)**\n",
    "   - [Model 1](#4.1)\n",
    "   - [Model 2](#4.2)\n",
    "   - [Model 3](#4.3)\n",
    "   - [Model 4](#4.4)\n",
    "   - [Model 5](#4.5)\n",
    "   - [Model 6](#4.6)\n",
    "   - [Model 7](#4.7)\n",
    "   - [Model 8](#4.8)\n",
    "   - [Model 9](#4.9)\n",
    "   - [Model 10](#4.10)\n",
    "   - [Model 11](#4.11)\n",
    "   - [Model 12](#4.12)\n",
    "   - [Residual Analysis](#1.1)\n",
    "\n",
    "**[Predicting and Model Evaluation](#5)**\n",
    "  - [Prepare Test Data](#5.1)\n",
    "  - [Prediction on Test Data](#5.2)\n",
    "  - [Evaluate Model](#5.3)\n",
    " \n",
    "\n",
    "**[References](#6)**\n",
    "\n"
   ]
  },
  {
   "cell_type": "markdown",
   "metadata": {},
   "source": [
    "<a id=\"1\"></a>\n",
    "## Business Understanding"
   ]
  },
  {
   "cell_type": "markdown",
   "metadata": {},
   "source": [
    "<a id=\"1.1\"></a>\n",
    "**About the Company:** [GeelyAuto](https://www.geelyholding.com/)  is a privately held global automotive group headquartered in Hangzhou, Chinda. It sold over 1.5 million cars in 2018. "
   ]
  },
  {
   "cell_type": "markdown",
   "metadata": {},
   "source": [
    "<a id=\"1.2\"></a>\n",
    "**Business Objective:** Geely Auto aspires to enter the US market by setting up their manufacturing unit there and producing cars locally to give competition to their US and European counterparts. <br/>\n",
    "\n",
    "They have contracted an automobile consulting company to understand the factors on which the pricing of cars depends. Specifically, they want to understand the factors affecting the pricing of cars in the American market, since those may be very different from the Chinese market. The company wants to know:\n",
    "\n",
    "- Which variables are significant in predicting the price of a car\n",
    "- How well those variables describe the price of a car\n",
    "\n",
    "<a id=\"1.2\"></a>\n",
    "**Business Goal:**\n",
    "\n",
    "The goal is to model the price of cars with the available independent variables. It will be used by the management to understand how exactly the prices vary with the independent variables. They can accordingly manipulate the design of the cars, the business strategy etc. to meet certain price levels. Further, the model will be a good way for management to understand the pricing dynamics of a new market. "
   ]
  },
  {
   "cell_type": "markdown",
   "metadata": {},
   "source": [
    "<a id=\"2\"></a>\n",
    "## Data Understanding & Cleaning"
   ]
  },
  {
   "cell_type": "markdown",
   "metadata": {},
   "source": [
    "The purpose of this section is to :\n",
    "- Import and understand the data set\n",
    "- Run data quality checks and clean data, as needed"
   ]
  },
  {
   "cell_type": "markdown",
   "metadata": {},
   "source": [
    "<a id=\"2.1\"></a>\n",
    "### Import Libraries\n"
   ]
  },
  {
   "cell_type": "code",
   "execution_count": 4,
   "metadata": {},
   "outputs": [],
   "source": [
    "# Import Libraries\n",
    "import numpy as np\n",
    "import pandas as pd\n",
    "import matplotlib.pyplot as plt\n",
    "import seaborn as sns\n",
    "from sklearn.model_selection import train_test_split \n",
    "from sklearn.preprocessing import MinMaxScaler\n",
    "import statsmodels.api as sm #For linear regression modelling\n",
    "from statsmodels.stats.outliers_influence import variance_inflation_factor #For multicollinearity\n",
    "from sklearn.metrics import r2_score\n",
    "from sklearn.feature_selection import RFE\n",
    "from sklearn.linear_model import LinearRegression"
   ]
  },
  {
   "cell_type": "code",
   "execution_count": 5,
   "metadata": {},
   "outputs": [],
   "source": [
    "# Set Parameters for Displaying data\n",
    "pd.set_option('display.max_columns', 120)\n",
    "pd.options.display.float_format = '{:,.2f}'.format\n",
    "#pd.set_option('display.max_colwidth', 100, 'display.max_rows', None, 'display.max_columns', None)\n",
    "from IPython.core.interactiveshell import InteractiveShell\n",
    "#InteractiveShell.ast_node_interactivity = \"all\"\n",
    "sns.set_style(\"whitegrid\")\n",
    "%matplotlib inline"
   ]
  },
  {
   "cell_type": "markdown",
   "metadata": {},
   "source": [
    "<a id=\"2.2\"></a>\n",
    "### Import & Review Data\n"
   ]
  },
  {
   "cell_type": "code",
   "execution_count": 6,
   "metadata": {},
   "outputs": [
    {
     "ename": "FileNotFoundError",
     "evalue": "[Errno 2] File CarPrice_Assignment.csv does not exist: 'CarPrice_Assignment.csv'",
     "output_type": "error",
     "traceback": [
      "\u001b[1;31m---------------------------------------------------------------------------\u001b[0m",
      "\u001b[1;31mFileNotFoundError\u001b[0m                         Traceback (most recent call last)",
      "\u001b[1;32m<ipython-input-6-06e7ab627643>\u001b[0m in \u001b[0;36m<module>\u001b[1;34m\u001b[0m\n\u001b[1;32m----> 1\u001b[1;33m \u001b[0mdata\u001b[0m \u001b[1;33m=\u001b[0m \u001b[0mpd\u001b[0m\u001b[1;33m.\u001b[0m\u001b[0mread_csv\u001b[0m\u001b[1;33m(\u001b[0m\u001b[1;34m'CarPrice_Assignment.csv'\u001b[0m\u001b[1;33m)\u001b[0m\u001b[1;33m\u001b[0m\u001b[1;33m\u001b[0m\u001b[0m\n\u001b[0m",
      "\u001b[1;32mC:\\Anaconda3\\lib\\site-packages\\pandas\\io\\parsers.py\u001b[0m in \u001b[0;36mparser_f\u001b[1;34m(filepath_or_buffer, sep, delimiter, header, names, index_col, usecols, squeeze, prefix, mangle_dupe_cols, dtype, engine, converters, true_values, false_values, skipinitialspace, skiprows, skipfooter, nrows, na_values, keep_default_na, na_filter, verbose, skip_blank_lines, parse_dates, infer_datetime_format, keep_date_col, date_parser, dayfirst, cache_dates, iterator, chunksize, compression, thousands, decimal, lineterminator, quotechar, quoting, doublequote, escapechar, comment, encoding, dialect, error_bad_lines, warn_bad_lines, delim_whitespace, low_memory, memory_map, float_precision)\u001b[0m\n\u001b[0;32m    674\u001b[0m         )\n\u001b[0;32m    675\u001b[0m \u001b[1;33m\u001b[0m\u001b[0m\n\u001b[1;32m--> 676\u001b[1;33m         \u001b[1;32mreturn\u001b[0m \u001b[0m_read\u001b[0m\u001b[1;33m(\u001b[0m\u001b[0mfilepath_or_buffer\u001b[0m\u001b[1;33m,\u001b[0m \u001b[0mkwds\u001b[0m\u001b[1;33m)\u001b[0m\u001b[1;33m\u001b[0m\u001b[1;33m\u001b[0m\u001b[0m\n\u001b[0m\u001b[0;32m    677\u001b[0m \u001b[1;33m\u001b[0m\u001b[0m\n\u001b[0;32m    678\u001b[0m     \u001b[0mparser_f\u001b[0m\u001b[1;33m.\u001b[0m\u001b[0m__name__\u001b[0m \u001b[1;33m=\u001b[0m \u001b[0mname\u001b[0m\u001b[1;33m\u001b[0m\u001b[1;33m\u001b[0m\u001b[0m\n",
      "\u001b[1;32mC:\\Anaconda3\\lib\\site-packages\\pandas\\io\\parsers.py\u001b[0m in \u001b[0;36m_read\u001b[1;34m(filepath_or_buffer, kwds)\u001b[0m\n\u001b[0;32m    446\u001b[0m \u001b[1;33m\u001b[0m\u001b[0m\n\u001b[0;32m    447\u001b[0m     \u001b[1;31m# Create the parser.\u001b[0m\u001b[1;33m\u001b[0m\u001b[1;33m\u001b[0m\u001b[1;33m\u001b[0m\u001b[0m\n\u001b[1;32m--> 448\u001b[1;33m     \u001b[0mparser\u001b[0m \u001b[1;33m=\u001b[0m \u001b[0mTextFileReader\u001b[0m\u001b[1;33m(\u001b[0m\u001b[0mfp_or_buf\u001b[0m\u001b[1;33m,\u001b[0m \u001b[1;33m**\u001b[0m\u001b[0mkwds\u001b[0m\u001b[1;33m)\u001b[0m\u001b[1;33m\u001b[0m\u001b[1;33m\u001b[0m\u001b[0m\n\u001b[0m\u001b[0;32m    449\u001b[0m \u001b[1;33m\u001b[0m\u001b[0m\n\u001b[0;32m    450\u001b[0m     \u001b[1;32mif\u001b[0m \u001b[0mchunksize\u001b[0m \u001b[1;32mor\u001b[0m \u001b[0miterator\u001b[0m\u001b[1;33m:\u001b[0m\u001b[1;33m\u001b[0m\u001b[1;33m\u001b[0m\u001b[0m\n",
      "\u001b[1;32mC:\\Anaconda3\\lib\\site-packages\\pandas\\io\\parsers.py\u001b[0m in \u001b[0;36m__init__\u001b[1;34m(self, f, engine, **kwds)\u001b[0m\n\u001b[0;32m    878\u001b[0m             \u001b[0mself\u001b[0m\u001b[1;33m.\u001b[0m\u001b[0moptions\u001b[0m\u001b[1;33m[\u001b[0m\u001b[1;34m\"has_index_names\"\u001b[0m\u001b[1;33m]\u001b[0m \u001b[1;33m=\u001b[0m \u001b[0mkwds\u001b[0m\u001b[1;33m[\u001b[0m\u001b[1;34m\"has_index_names\"\u001b[0m\u001b[1;33m]\u001b[0m\u001b[1;33m\u001b[0m\u001b[1;33m\u001b[0m\u001b[0m\n\u001b[0;32m    879\u001b[0m \u001b[1;33m\u001b[0m\u001b[0m\n\u001b[1;32m--> 880\u001b[1;33m         \u001b[0mself\u001b[0m\u001b[1;33m.\u001b[0m\u001b[0m_make_engine\u001b[0m\u001b[1;33m(\u001b[0m\u001b[0mself\u001b[0m\u001b[1;33m.\u001b[0m\u001b[0mengine\u001b[0m\u001b[1;33m)\u001b[0m\u001b[1;33m\u001b[0m\u001b[1;33m\u001b[0m\u001b[0m\n\u001b[0m\u001b[0;32m    881\u001b[0m \u001b[1;33m\u001b[0m\u001b[0m\n\u001b[0;32m    882\u001b[0m     \u001b[1;32mdef\u001b[0m \u001b[0mclose\u001b[0m\u001b[1;33m(\u001b[0m\u001b[0mself\u001b[0m\u001b[1;33m)\u001b[0m\u001b[1;33m:\u001b[0m\u001b[1;33m\u001b[0m\u001b[1;33m\u001b[0m\u001b[0m\n",
      "\u001b[1;32mC:\\Anaconda3\\lib\\site-packages\\pandas\\io\\parsers.py\u001b[0m in \u001b[0;36m_make_engine\u001b[1;34m(self, engine)\u001b[0m\n\u001b[0;32m   1112\u001b[0m     \u001b[1;32mdef\u001b[0m \u001b[0m_make_engine\u001b[0m\u001b[1;33m(\u001b[0m\u001b[0mself\u001b[0m\u001b[1;33m,\u001b[0m \u001b[0mengine\u001b[0m\u001b[1;33m=\u001b[0m\u001b[1;34m\"c\"\u001b[0m\u001b[1;33m)\u001b[0m\u001b[1;33m:\u001b[0m\u001b[1;33m\u001b[0m\u001b[1;33m\u001b[0m\u001b[0m\n\u001b[0;32m   1113\u001b[0m         \u001b[1;32mif\u001b[0m \u001b[0mengine\u001b[0m \u001b[1;33m==\u001b[0m \u001b[1;34m\"c\"\u001b[0m\u001b[1;33m:\u001b[0m\u001b[1;33m\u001b[0m\u001b[1;33m\u001b[0m\u001b[0m\n\u001b[1;32m-> 1114\u001b[1;33m             \u001b[0mself\u001b[0m\u001b[1;33m.\u001b[0m\u001b[0m_engine\u001b[0m \u001b[1;33m=\u001b[0m \u001b[0mCParserWrapper\u001b[0m\u001b[1;33m(\u001b[0m\u001b[0mself\u001b[0m\u001b[1;33m.\u001b[0m\u001b[0mf\u001b[0m\u001b[1;33m,\u001b[0m \u001b[1;33m**\u001b[0m\u001b[0mself\u001b[0m\u001b[1;33m.\u001b[0m\u001b[0moptions\u001b[0m\u001b[1;33m)\u001b[0m\u001b[1;33m\u001b[0m\u001b[1;33m\u001b[0m\u001b[0m\n\u001b[0m\u001b[0;32m   1115\u001b[0m         \u001b[1;32melse\u001b[0m\u001b[1;33m:\u001b[0m\u001b[1;33m\u001b[0m\u001b[1;33m\u001b[0m\u001b[0m\n\u001b[0;32m   1116\u001b[0m             \u001b[1;32mif\u001b[0m \u001b[0mengine\u001b[0m \u001b[1;33m==\u001b[0m \u001b[1;34m\"python\"\u001b[0m\u001b[1;33m:\u001b[0m\u001b[1;33m\u001b[0m\u001b[1;33m\u001b[0m\u001b[0m\n",
      "\u001b[1;32mC:\\Anaconda3\\lib\\site-packages\\pandas\\io\\parsers.py\u001b[0m in \u001b[0;36m__init__\u001b[1;34m(self, src, **kwds)\u001b[0m\n\u001b[0;32m   1889\u001b[0m         \u001b[0mkwds\u001b[0m\u001b[1;33m[\u001b[0m\u001b[1;34m\"usecols\"\u001b[0m\u001b[1;33m]\u001b[0m \u001b[1;33m=\u001b[0m \u001b[0mself\u001b[0m\u001b[1;33m.\u001b[0m\u001b[0musecols\u001b[0m\u001b[1;33m\u001b[0m\u001b[1;33m\u001b[0m\u001b[0m\n\u001b[0;32m   1890\u001b[0m \u001b[1;33m\u001b[0m\u001b[0m\n\u001b[1;32m-> 1891\u001b[1;33m         \u001b[0mself\u001b[0m\u001b[1;33m.\u001b[0m\u001b[0m_reader\u001b[0m \u001b[1;33m=\u001b[0m \u001b[0mparsers\u001b[0m\u001b[1;33m.\u001b[0m\u001b[0mTextReader\u001b[0m\u001b[1;33m(\u001b[0m\u001b[0msrc\u001b[0m\u001b[1;33m,\u001b[0m \u001b[1;33m**\u001b[0m\u001b[0mkwds\u001b[0m\u001b[1;33m)\u001b[0m\u001b[1;33m\u001b[0m\u001b[1;33m\u001b[0m\u001b[0m\n\u001b[0m\u001b[0;32m   1892\u001b[0m         \u001b[0mself\u001b[0m\u001b[1;33m.\u001b[0m\u001b[0munnamed_cols\u001b[0m \u001b[1;33m=\u001b[0m \u001b[0mself\u001b[0m\u001b[1;33m.\u001b[0m\u001b[0m_reader\u001b[0m\u001b[1;33m.\u001b[0m\u001b[0munnamed_cols\u001b[0m\u001b[1;33m\u001b[0m\u001b[1;33m\u001b[0m\u001b[0m\n\u001b[0;32m   1893\u001b[0m \u001b[1;33m\u001b[0m\u001b[0m\n",
      "\u001b[1;32mpandas\\_libs\\parsers.pyx\u001b[0m in \u001b[0;36mpandas._libs.parsers.TextReader.__cinit__\u001b[1;34m()\u001b[0m\n",
      "\u001b[1;32mpandas\\_libs\\parsers.pyx\u001b[0m in \u001b[0;36mpandas._libs.parsers.TextReader._setup_parser_source\u001b[1;34m()\u001b[0m\n",
      "\u001b[1;31mFileNotFoundError\u001b[0m: [Errno 2] File CarPrice_Assignment.csv does not exist: 'CarPrice_Assignment.csv'"
     ]
    }
   ],
   "source": [
    "data = pd.read_csv('CarPrice_Assignment.csv')"
   ]
  },
  {
   "cell_type": "code",
   "execution_count": null,
   "metadata": {},
   "outputs": [],
   "source": [
    "data.head()"
   ]
  },
  {
   "cell_type": "code",
   "execution_count": null,
   "metadata": {},
   "outputs": [],
   "source": [
    "data.shape"
   ]
  },
  {
   "cell_type": "code",
   "execution_count": null,
   "metadata": {},
   "outputs": [],
   "source": [
    "data.info()"
   ]
  },
  {
   "cell_type": "code",
   "execution_count": null,
   "metadata": {},
   "outputs": [],
   "source": [
    "data.nunique().sort_values(ascending=False)"
   ]
  },
  {
   "cell_type": "markdown",
   "metadata": {},
   "source": [
    "> **Observation:** Each row represnts a car with unique specifications. There are 205 such cars with 26 attributes/specifications."
   ]
  },
  {
   "cell_type": "markdown",
   "metadata": {},
   "source": [
    "<a id=\"2.3\"></a>\n",
    "### Creating an Index Column\n"
   ]
  },
  {
   "cell_type": "code",
   "execution_count": null,
   "metadata": {},
   "outputs": [],
   "source": [
    "data.nunique().sort_values()"
   ]
  },
  {
   "cell_type": "markdown",
   "metadata": {},
   "source": [
    "> **Observation:** Car_ID is unique for each row, let's set it as the index."
   ]
  },
  {
   "cell_type": "code",
   "execution_count": null,
   "metadata": {},
   "outputs": [],
   "source": [
    "# Rename column as id for simplification\n",
    "data.rename(columns={'car_ID':'ID'},inplace=True)"
   ]
  },
  {
   "cell_type": "code",
   "execution_count": null,
   "metadata": {},
   "outputs": [],
   "source": [
    "data.set_index('ID',inplace=True)"
   ]
  },
  {
   "cell_type": "code",
   "execution_count": null,
   "metadata": {},
   "outputs": [],
   "source": [
    "data.head()"
   ]
  },
  {
   "cell_type": "markdown",
   "metadata": {},
   "source": [
    "<a id=\"2.4\"></a>\n",
    "### Deal with Null Values"
   ]
  },
  {
   "cell_type": "markdown",
   "metadata": {},
   "source": [
    "The Columns and Rows having most Null Values wil not be very usefeul in analysis, so let's remove them."
   ]
  },
  {
   "cell_type": "code",
   "execution_count": 7,
   "metadata": {},
   "outputs": [
    {
     "ename": "NameError",
     "evalue": "name 'data' is not defined",
     "output_type": "error",
     "traceback": [
      "\u001b[1;31m---------------------------------------------------------------------------\u001b[0m",
      "\u001b[1;31mNameError\u001b[0m                                 Traceback (most recent call last)",
      "\u001b[1;32m<ipython-input-7-6208d269f320>\u001b[0m in \u001b[0;36m<module>\u001b[1;34m\u001b[0m\n\u001b[1;32m----> 1\u001b[1;33m \u001b[0mdata\u001b[0m\u001b[1;33m.\u001b[0m\u001b[0minfo\u001b[0m\u001b[1;33m(\u001b[0m\u001b[1;33m)\u001b[0m\u001b[1;33m\u001b[0m\u001b[1;33m\u001b[0m\u001b[0m\n\u001b[0m",
      "\u001b[1;31mNameError\u001b[0m: name 'data' is not defined"
     ]
    }
   ],
   "source": [
    "data.info()"
   ]
  },
  {
   "cell_type": "code",
   "execution_count": null,
   "metadata": {},
   "outputs": [],
   "source": [
    "#Looking at columns with NaN Values\n",
    "data.isnull().sum().sort_values(ascending=False)"
   ]
  },
  {
   "cell_type": "code",
   "execution_count": null,
   "metadata": {},
   "outputs": [],
   "source": [
    "#Any rows with greater than 1 null value?\n",
    "data[data.isnull().sum(axis=1)>1]"
   ]
  },
  {
   "cell_type": "markdown",
   "metadata": {},
   "source": [
    "> **Observation:** There are zero null values, this is a very clean data set!"
   ]
  },
  {
   "cell_type": "markdown",
   "metadata": {},
   "source": [
    "<a id=\"2.5\"></a>\n",
    "### Deal with Columns having many zeros"
   ]
  },
  {
   "cell_type": "code",
   "execution_count": null,
   "metadata": {},
   "outputs": [],
   "source": [
    "#Number of non-zeros in each column?\n",
    "data.astype(bool).sum(axis=0).sort_values(ascending=True)"
   ]
  },
  {
   "cell_type": "code",
   "execution_count": null,
   "metadata": {},
   "outputs": [],
   "source": [
    "data['symboling'].unique()"
   ]
  },
  {
   "cell_type": "markdown",
   "metadata": {},
   "source": [
    "> **Observation:** No zero values found except in symboling but symboling is a risk rating of cars that is suppose to vary from -3 (safest car) to 3 (riskiest car). Therefore, 0 is a valid value in Symboling."
   ]
  },
  {
   "cell_type": "markdown",
   "metadata": {},
   "source": [
    "<a id=\"2.6\"></a>\n",
    "### Clean strings\n"
   ]
  },
  {
   "cell_type": "code",
   "execution_count": null,
   "metadata": {},
   "outputs": [],
   "source": [
    "# Stripping all the columns, so there are no leading or trailing white space\n",
    "data=data.apply(lambda x: x.str.strip()if x.dtype == \"object\" else x)"
   ]
  },
  {
   "cell_type": "code",
   "execution_count": null,
   "metadata": {},
   "outputs": [],
   "source": [
    "# Convert Data to lower case\n",
    "data=data.apply(lambda x: x.str.lower()if x.dtype == \"object\" else x)"
   ]
  },
  {
   "cell_type": "code",
   "execution_count": null,
   "metadata": {},
   "outputs": [],
   "source": [
    "data.head()"
   ]
  },
  {
   "cell_type": "markdown",
   "metadata": {},
   "source": [
    "<a id=\"2.7\"></a>\n",
    "### Extract Car Make \n",
    "\n"
   ]
  },
  {
   "cell_type": "markdown",
   "metadata": {},
   "source": [
    "As explained in the assignment instructions, CarName is a combination of the car's make (honda, audi etc.) and car's model (civic, accord) and that only the make/company name has to be considered as an independent variable. Therefore, let's extract the car's make and then drop the original column."
   ]
  },
  {
   "cell_type": "code",
   "execution_count": null,
   "metadata": {},
   "outputs": [],
   "source": [
    "#Unique values\n",
    "data['CarName'].unique()"
   ]
  },
  {
   "cell_type": "code",
   "execution_count": null,
   "metadata": {},
   "outputs": [],
   "source": [
    "#As there is a space right after the car company name, let's use this to strip off the model details\n",
    "data['CarName'] = data['CarName'].apply(lambda s:s.split()[0].strip())"
   ]
  },
  {
   "cell_type": "code",
   "execution_count": null,
   "metadata": {},
   "outputs": [],
   "source": [
    "data.rename(columns={'CarName':'car_make'},inplace=True)"
   ]
  },
  {
   "cell_type": "code",
   "execution_count": null,
   "metadata": {},
   "outputs": [],
   "source": [
    "#Result?\n",
    "data.head()\n",
    "data['car_make'].unique()"
   ]
  },
  {
   "cell_type": "markdown",
   "metadata": {},
   "source": [
    "> **Observation:** Some company names are misspelled such as maxda instead of mazda. Let's fix this "
   ]
  },
  {
   "cell_type": "code",
   "execution_count": null,
   "metadata": {},
   "outputs": [],
   "source": [
    "#Replace maxda with mazda, porcshce with porsche, toyouta with toyota and vw,vokswagen with volkswagen \n",
    "data['car_make'].replace({'maxda':'mazda','porcshce':'porsche','toyouta':'toyota','vokswagen':'volkswagen','vw':'volkswagen'},inplace=True)"
   ]
  },
  {
   "cell_type": "code",
   "execution_count": null,
   "metadata": {},
   "outputs": [],
   "source": [
    "#Confirm fix\n",
    "data['car_make'].unique()\n",
    "data['car_make'].nunique()"
   ]
  },
  {
   "cell_type": "markdown",
   "metadata": {},
   "source": [
    "<a id=\"3\"></a>\n",
    "## Data Analysis and Preparation"
   ]
  },
  {
   "cell_type": "markdown",
   "metadata": {},
   "source": [
    "The purpose of this section is to :\n",
    "- Understand the nature of the independent variables (univariate analysis)\n",
    "- Understand correlation between independent and independent variables\n",
    "- Prepare variables for regression modelling"
   ]
  },
  {
   "cell_type": "markdown",
   "metadata": {},
   "source": [
    "<a id=\"3.1\"></a>\n",
    "### Identify Data Types"
   ]
  },
  {
   "cell_type": "markdown",
   "metadata": {},
   "source": [
    "Let's identify the different data types in our dataset"
   ]
  },
  {
   "cell_type": "code",
   "execution_count": null,
   "metadata": {},
   "outputs": [],
   "source": [
    "data.info()"
   ]
  },
  {
   "cell_type": "markdown",
   "metadata": {},
   "source": [
    ">**Observation:** \n",
    "- The data types assigned during csv import are appropriate. \n",
    "- Symboling is a car rating ranging from -3 to 3 so it is categorical. Also, price is the dependent/target variable.  Therefore, there are 13 numeric and 10 categorical independent variables."
   ]
  },
  {
   "cell_type": "markdown",
   "metadata": {},
   "source": [
    "<a id=\"3.2\"></a>\n",
    "### Analyze Numerical Variables"
   ]
  },
  {
   "cell_type": "code",
   "execution_count": null,
   "metadata": {},
   "outputs": [],
   "source": [
    "#Get list of numeric variables\n",
    "num_vars = data.select_dtypes(exclude=['object']).columns\n",
    "num_vars = list(num_vars)\n",
    "num_vars.remove('symboling')#Remove symboling as it is a categorical variable\n",
    "num_vars.remove('price')#Remove price as it is the dependent variable\n",
    "\n",
    "#Let's review the numeric variables\n",
    "data[num_vars].shape\n",
    "data[num_vars].head()"
   ]
  },
  {
   "cell_type": "code",
   "execution_count": null,
   "metadata": {},
   "outputs": [],
   "source": [
    "#Let's get the statistical summary\n",
    "data.describe()"
   ]
  },
  {
   "cell_type": "markdown",
   "metadata": {},
   "source": [
    "Let's understand the relationship of numerical variables with price"
   ]
  },
  {
   "cell_type": "code",
   "execution_count": null,
   "metadata": {},
   "outputs": [],
   "source": [
    "#Scatterplot of numerical variables vs price\n",
    "sns.pairplot(data,x_vars=num_vars[:3],y_vars='price',height=6,aspect=1,kind='reg')\n",
    "sns.pairplot(data,x_vars=num_vars[3:6],y_vars='price',height=6,aspect=1,kind='reg')\n",
    "sns.pairplot(data,x_vars=num_vars[6:9],y_vars='price',height=6,aspect=1,kind='reg')\n",
    "sns.pairplot(data,x_vars=num_vars[9:12],y_vars='price',height=6,aspect=1,kind='reg')"
   ]
  },
  {
   "cell_type": "code",
   "execution_count": null,
   "metadata": {},
   "outputs": [],
   "source": [
    "#One variable left to plot!\n",
    "sns.pairplot(data,x_vars=num_vars[12],y_vars='price',height=6,aspect=1,kind='reg')"
   ]
  },
  {
   "cell_type": "code",
   "execution_count": null,
   "metadata": {},
   "outputs": [],
   "source": [
    "#Let's spot the highly correlated values\n",
    "corr = data.corr()\n",
    "high_corr = corr[(corr>.6) | (corr<-.6)]\n",
    "high_corr"
   ]
  },
  {
   "cell_type": "code",
   "execution_count": null,
   "metadata": {},
   "outputs": [],
   "source": [
    "#Let's spot the highly correlated values\n",
    "plt.figure(figsize=(30, 15)) #Plot size\n",
    "sns.set(font_scale=1.6) #Scale font size\n",
    "sns.heatmap(high_corr,cmap=\"YlGnBu\") "
   ]
  },
  {
   "cell_type": "markdown",
   "metadata": {},
   "source": [
    "> **Observation:**\n",
    "- Several variables clearly have a linear relationship with Price so we can go on to build a Linear Relationship model with them\n",
    "- Stroke, Compression Ratio, Peak RPM & Car Height have very weak linear relationships with Price. \n",
    "- Several variables have strong multicollinearity particularly **carlength, carwidth, curbweight,wheelbase & enginesize**. Also citympg and **highwaympg are highly** correlated. \n",
    "- Let's keep an eye on these variables during regression modelling."
   ]
  },
  {
   "cell_type": "code",
   "execution_count": null,
   "metadata": {},
   "outputs": [],
   "source": [
    "#Drop Stroke, Compression Ratio and Peak RPM from dataframe\n",
    "# data.drop(columns=['stroke','compressionratio','peakrpm'],axis=1,inplace=True)"
   ]
  },
  {
   "cell_type": "markdown",
   "metadata": {},
   "source": [
    "<a id=\"3.3\"></a>\n",
    "### Analyze & Encode Categorical Variables"
   ]
  },
  {
   "cell_type": "code",
   "execution_count": null,
   "metadata": {},
   "outputs": [],
   "source": [
    "#Let's analyze the categorical variables\n",
    "data.select_dtypes([object]).shape\n",
    "data.select_dtypes([object]).nunique().sort_values()\n",
    "data.select_dtypes([object]).head()"
   ]
  },
  {
   "cell_type": "code",
   "execution_count": null,
   "metadata": {},
   "outputs": [],
   "source": [
    "#Get unique values in each categorical column\n",
    "for col in data.select_dtypes([object]):\n",
    "    print(col,\":  \", data[col].unique(), \"\\n\")"
   ]
  },
  {
   "cell_type": "markdown",
   "metadata": {},
   "source": [
    ">**Observation:** \n",
    "- There are 10 categorical columns. \n",
    "- **Ordinal variables** - cylindernumber & doornumber have an atural order\n",
    "- **Variables with exactly 2 unique values** - fueltype, aspiration & enginelocation \n",
    "- **Variables with more than 2 levels** - car_make, carbody, drivewheel, enginetype & fuelsystem "
   ]
  },
  {
   "cell_type": "markdown",
   "metadata": {},
   "source": [
    "Let's analyze the relationship between these variables and car price using boxplots"
   ]
  },
  {
   "cell_type": "markdown",
   "metadata": {},
   "source": [
    "Note: A subplot is preferred for plotting multiple boxplots but given the number of levels per variable, it's best to create 1 boxplot in each cell."
   ]
  },
  {
   "cell_type": "code",
   "execution_count": null,
   "metadata": {},
   "outputs": [],
   "source": [
    "sns.boxplot(x='fueltype',y='price',data=data)"
   ]
  },
  {
   "cell_type": "code",
   "execution_count": 8,
   "metadata": {},
   "outputs": [
    {
     "ename": "NameError",
     "evalue": "name 'data' is not defined",
     "output_type": "error",
     "traceback": [
      "\u001b[1;31m---------------------------------------------------------------------------\u001b[0m",
      "\u001b[1;31mNameError\u001b[0m                                 Traceback (most recent call last)",
      "\u001b[1;32m<ipython-input-8-4ebd375d3dba>\u001b[0m in \u001b[0;36m<module>\u001b[1;34m\u001b[0m\n\u001b[1;32m----> 1\u001b[1;33m \u001b[0msns\u001b[0m\u001b[1;33m.\u001b[0m\u001b[0mboxplot\u001b[0m\u001b[1;33m(\u001b[0m\u001b[0mx\u001b[0m\u001b[1;33m=\u001b[0m\u001b[1;34m'aspiration'\u001b[0m\u001b[1;33m,\u001b[0m\u001b[0my\u001b[0m\u001b[1;33m=\u001b[0m\u001b[1;34m'price'\u001b[0m\u001b[1;33m,\u001b[0m\u001b[0mdata\u001b[0m\u001b[1;33m=\u001b[0m\u001b[0mdata\u001b[0m\u001b[1;33m)\u001b[0m\u001b[1;33m\u001b[0m\u001b[1;33m\u001b[0m\u001b[0m\n\u001b[0m",
      "\u001b[1;31mNameError\u001b[0m: name 'data' is not defined"
     ]
    }
   ],
   "source": [
    "sns.boxplot(x='aspiration',y='price',data=data)"
   ]
  },
  {
   "cell_type": "code",
   "execution_count": null,
   "metadata": {},
   "outputs": [],
   "source": [
    "sns.boxplot(x='doornumber',y='price',data=data)"
   ]
  },
  {
   "cell_type": "code",
   "execution_count": null,
   "metadata": {},
   "outputs": [],
   "source": [
    "sns.boxplot(x='carbody',y='price',data=data)"
   ]
  },
  {
   "cell_type": "code",
   "execution_count": null,
   "metadata": {},
   "outputs": [],
   "source": [
    "sns.boxplot(x='drivewheel',y='price',data=data)"
   ]
  },
  {
   "cell_type": "code",
   "execution_count": null,
   "metadata": {},
   "outputs": [],
   "source": [
    "sns.boxplot(x='enginelocation',y='price',data=data)"
   ]
  },
  {
   "cell_type": "code",
   "execution_count": null,
   "metadata": {},
   "outputs": [],
   "source": [
    "sns.boxplot(x='enginetype',y='price',data=data)"
   ]
  },
  {
   "cell_type": "code",
   "execution_count": null,
   "metadata": {},
   "outputs": [],
   "source": [
    "sns.boxplot(x='cylindernumber',y='price',data=data)"
   ]
  },
  {
   "cell_type": "code",
   "execution_count": null,
   "metadata": {},
   "outputs": [],
   "source": [
    "sns.boxplot(x='fuelsystem',y='price',data=data)"
   ]
  },
  {
   "cell_type": "markdown",
   "metadata": {},
   "source": [
    "> **Observation:**\n",
    "- Fuel Type, Aspiration, CarBody, DriveWheel, Engine location, Engine Type, CylinderNumber & FuelSystem all appear to impact car prices\n",
    "- Door Number does not seem to have a relationship with car price"
   ]
  },
  {
   "cell_type": "markdown",
   "metadata": {},
   "source": [
    "Let's now encode the categorical variables and re-evaluate their relationships with price"
   ]
  },
  {
   "cell_type": "markdown",
   "metadata": {},
   "source": [
    "<a id=\"3.3.1\"></a>\n",
    "#### Encode Ordinal variables\n",
    "Cylinder Number & Door Number are  categorical variables with a natural order i.e. they are ordinal variables. Let's encode them with Integers (Integer/Label Encoding)"
   ]
  },
  {
   "cell_type": "code",
   "execution_count": null,
   "metadata": {},
   "outputs": [],
   "source": [
    "# Function to convert string number to number\n",
    "def to_num(argument): \n",
    "    switcher = { \n",
    "        \"two\": 2, \n",
    "        \"three\": 3,\n",
    "        \"four\": 4,\n",
    "        \"five\": 5,\n",
    "        \"six\": 6, \n",
    "        \"eight\": 8,\n",
    "        \"twelve\": 12, \n",
    "    } \n",
    "    #Return corresponding number else 0\n",
    "    return switcher.get(argument, 0) "
   ]
  },
  {
   "cell_type": "code",
   "execution_count": null,
   "metadata": {},
   "outputs": [],
   "source": [
    "data['cylindernumber'] = data['cylindernumber'].apply(lambda s:to_num(s)).astype(int)\n",
    "data['doornumber'] = data['doornumber'].apply(lambda s:to_num(s)).astype(int)"
   ]
  },
  {
   "cell_type": "code",
   "execution_count": null,
   "metadata": {},
   "outputs": [],
   "source": [
    "#Confirm the outcome\n",
    "np.sort(data['cylindernumber'].unique())\n",
    "np.sort(data['doornumber'].unique())"
   ]
  },
  {
   "cell_type": "markdown",
   "metadata": {},
   "source": [
    "> __Let us ensure that the relationship between these numeric values and the prices is linear and NOT curvilinear. If it is curvilinear we will have to use one-hot encoding instead.__"
   ]
  },
  {
   "cell_type": "code",
   "execution_count": null,
   "metadata": {},
   "outputs": [],
   "source": [
    "#Is there a linear relationship between these variables and prices?\n",
    "data.corr().loc['cylindernumber','price']\n",
    "data.corr().loc['doornumber','price']\n",
    "\n",
    "\n",
    "plt.figure(figsize=(20,8))\n",
    "\n",
    "plt.subplot(1,2,1)\n",
    "sns.regplot('cylindernumber','price',data=data)\n",
    "\n",
    "plt.subplot(1,2,2)\n",
    "sns.regplot('doornumber','price',data=data)"
   ]
  },
  {
   "cell_type": "markdown",
   "metadata": {},
   "source": [
    "> **Observation:** \n",
    "- As the relationship is definitely linear, let's stick to the encoding we've done. \n",
    "- There is very weak correlation of doornumber with price."
   ]
  },
  {
   "cell_type": "markdown",
   "metadata": {},
   "source": [
    "Note: A 1/0 encoding for 'doornumber' would have worked as well, but only the scale of the parameter would change and not the fit/relationship between doornumber and price."
   ]
  },
  {
   "cell_type": "markdown",
   "metadata": {},
   "source": [
    "<a id=\"3.3.2\"></a>\n",
    "#### Encode Nominal Variables with 2-levels\n",
    "\n",
    "Fuel Type, Aspiration and Engine Location have 2 possible values with no order.So, let's map them to 0 and 1. "
   ]
  },
  {
   "cell_type": "code",
   "execution_count": null,
   "metadata": {},
   "outputs": [],
   "source": [
    "data['fueltype'].unique()\n",
    "data['aspiration'].unique()\n",
    "data['enginelocation'].unique()"
   ]
  },
  {
   "cell_type": "code",
   "execution_count": null,
   "metadata": {},
   "outputs": [],
   "source": [
    "#Map to 1/0 then convert to int\n",
    "data['fueltype'] = data['fueltype'].apply(lambda s:1 if s=='diesel' else 0).astype(int)\n",
    "data['aspiration'] = data['aspiration'].apply(lambda s:1 if s=='turbo' else 0).astype(int)\n",
    "data['enginelocation'] = data['enginelocation'].apply(lambda s:1 if s=='rear' else 0).astype(int)"
   ]
  },
  {
   "cell_type": "code",
   "execution_count": null,
   "metadata": {},
   "outputs": [],
   "source": [
    "#Confirm outcome\n",
    "data['fueltype'].unique()\n",
    "data['aspiration'].unique()\n",
    "data['enginelocation'].unique()"
   ]
  },
  {
   "cell_type": "code",
   "execution_count": null,
   "metadata": {},
   "outputs": [],
   "source": [
    "#Is there a linear relationship between these variables and car price?\n",
    "data.corr().loc['fueltype','price']\n",
    "data.corr().loc['aspiration','price']\n",
    "data.corr().loc['enginelocation','price']\n",
    "\n",
    "\n",
    "plt.figure(figsize=(20,8))\n",
    "\n",
    "plt.subplot(1,3,1)\n",
    "sns.regplot('fueltype','price',data=data)\n",
    "\n",
    "plt.subplot(1,3,2)\n",
    "sns.regplot('aspiration','price',data=data)\n",
    "\n",
    "plt.subplot(1,3,3)\n",
    "sns.regplot('enginelocation','price',data=data)"
   ]
  },
  {
   "cell_type": "markdown",
   "metadata": {},
   "source": [
    "> **Observation:** There is certainly a linear relationship between price and each of fuel type, aspiration & engine location."
   ]
  },
  {
   "cell_type": "markdown",
   "metadata": {},
   "source": [
    "<a id=\"3.3.3\"></a>\n",
    "#### Encode Nominal Variables with 2+ levels\n",
    "\n",
    "Car Make, Car Body,Drive Wheel,Engine Type and Fuel System have more than 2 unique but unordered. Let's encode them using one-hot encoding (dummy variables)."
   ]
  },
  {
   "cell_type": "code",
   "execution_count": null,
   "metadata": {},
   "outputs": [],
   "source": [
    "#List of variables to be encoded\n",
    "cat_vars = ['car_make','carbody','drivewheel','enginetype','fuelsystem']\n",
    "\n",
    "#Convert to dummy variables\n",
    "data = pd.get_dummies(data=data,columns=cat_vars,drop_first=True)"
   ]
  },
  {
   "cell_type": "code",
   "execution_count": null,
   "metadata": {},
   "outputs": [],
   "source": [
    "data.head()\n",
    "data.info()"
   ]
  },
  {
   "cell_type": "markdown",
   "metadata": {},
   "source": [
    "> **Observations:** One-Hot Encoding gave us 40 new columns"
   ]
  },
  {
   "cell_type": "code",
   "execution_count": null,
   "metadata": {},
   "outputs": [],
   "source": [
    "#How many dummy variables have less than 10 observations?\n",
    "data.astype('uint8').sum(axis=0).sort_values(ascending=True)"
   ]
  },
  {
   "cell_type": "markdown",
   "metadata": {},
   "source": [
    "> **Observation:** There are several dummy variables that have less than 10 observation for example there are only 2 mercury cars in the data set. These could adversely effect the regression model as there aren't sufficient observations to fit to."
   ]
  },
  {
   "cell_type": "code",
   "execution_count": null,
   "metadata": {},
   "outputs": [],
   "source": [
    "#Let's drop columns with less than 10 values, else these will affect the regression model later.\n",
    "# data.drop(['car_make_mercury','fuelsystem_mfi','enginetype_dohcv','fuelsystem_spfi','car_make_renault','enginelocation', 'fuelsystem_4bbl','car_make_jaguar','car_make_chevrolet', 'enginetype_rotor', 'car_make_isuzu','car_make_porsche','car_make_saab','car_make_audi','car_make_plymouth','carbody_hardtop','car_make_buick','car_make_bmw','car_make_dodge','fuelsystem_spdi'], axis=1, inplace=True)"
   ]
  },
  {
   "cell_type": "markdown",
   "metadata": {},
   "source": [
    "Let's now look at the correlation of categorical variables"
   ]
  },
  {
   "cell_type": "code",
   "execution_count": null,
   "metadata": {},
   "outputs": [],
   "source": [
    "#Spot high correlations\n",
    "corr = data.select_dtypes(['uint8']).corr()\n",
    "high_corr = corr[(corr>.6) | (corr<-.6)]\n",
    "high_corr"
   ]
  },
  {
   "cell_type": "code",
   "execution_count": null,
   "metadata": {},
   "outputs": [],
   "source": [
    "#Let's visualize the correlations\n",
    "plt.figure(figsize=(30, 15)) #Plot size\n",
    "sns.set(font_scale=1.6) #Scale font size\n",
    "sns.heatmap(high_corr ,cmap=\"YlGnBu\") "
   ]
  },
  {
   "cell_type": "markdown",
   "metadata": {},
   "source": [
    "> **Observations:**\n",
    "- Engine_type_i and car_make_peugeot are highly correlated\n",
    "- Engine_type_ohcf and car_make_subaru are high correlated\n",
    "- fuelsystem_spdi and car_make_mitsubishi are significantly correlated\n",
    "- Enginetype_rotor and fuelsystem_4bbl pairs are significantly correlated"
   ]
  },
  {
   "cell_type": "markdown",
   "metadata": {},
   "source": [
    "Let's review the correlation of ALL variables - numerical and encoded categorical"
   ]
  },
  {
   "cell_type": "code",
   "execution_count": null,
   "metadata": {},
   "outputs": [],
   "source": [
    "#Spot high correlations\n",
    "corr = data.corr()\n",
    "high_corr = corr[(corr>.8) | (corr<-.8)]\n",
    "high_corr.loc['compressionratio',:]\n",
    "# compression ratio, fuelsystem_4bbl, highwaympg, cylindernumber"
   ]
  },
  {
   "cell_type": "code",
   "execution_count": null,
   "metadata": {},
   "outputs": [],
   "source": [
    "#Let's visualize the correlations\n",
    "plt.figure(figsize=(30, 15)) #Plot size\n",
    "sns.set(font_scale=1.6) #Scale font size\n",
    "sns.heatmap(high_corr ,cmap=\"YlGnBu\") "
   ]
  },
  {
   "cell_type": "code",
   "execution_count": null,
   "metadata": {},
   "outputs": [],
   "source": [
    "#Final dataframe\n",
    "data.shape"
   ]
  },
  {
   "cell_type": "markdown",
   "metadata": {},
   "source": [
    "> **Observation:** \n",
    "- In addition to the previous correlation observations, we find that compressionratio is highly correlated to fuel_type and fuelsystem_idi. \n",
    "- We have 60 independent variables to analyze"
   ]
  },
  {
   "cell_type": "markdown",
   "metadata": {},
   "source": [
    "<a id='3.4'></a>\n",
    "## Analyze Target Variable"
   ]
  },
  {
   "cell_type": "markdown",
   "metadata": {},
   "source": [
    "Let's quickly analyze the dependent/target variable - price"
   ]
  },
  {
   "cell_type": "code",
   "execution_count": null,
   "metadata": {},
   "outputs": [],
   "source": [
    "data['price'].describe()"
   ]
  },
  {
   "cell_type": "code",
   "execution_count": 9,
   "metadata": {},
   "outputs": [
    {
     "ename": "NameError",
     "evalue": "name 'data' is not defined",
     "output_type": "error",
     "traceback": [
      "\u001b[1;31m---------------------------------------------------------------------------\u001b[0m",
      "\u001b[1;31mNameError\u001b[0m                                 Traceback (most recent call last)",
      "\u001b[1;32m<ipython-input-9-ce4d04262bf3>\u001b[0m in \u001b[0;36m<module>\u001b[1;34m\u001b[0m\n\u001b[0;32m      1\u001b[0m \u001b[1;31m#Let's visualize the distribution\u001b[0m\u001b[1;33m\u001b[0m\u001b[1;33m\u001b[0m\u001b[1;33m\u001b[0m\u001b[0m\n\u001b[1;32m----> 2\u001b[1;33m \u001b[0msns\u001b[0m\u001b[1;33m.\u001b[0m\u001b[0mboxplot\u001b[0m\u001b[1;33m(\u001b[0m\u001b[0mdata\u001b[0m\u001b[1;33m[\u001b[0m\u001b[1;34m'price'\u001b[0m\u001b[1;33m]\u001b[0m\u001b[1;33m,\u001b[0m\u001b[0morient\u001b[0m\u001b[1;33m=\u001b[0m\u001b[1;34m'v'\u001b[0m\u001b[1;33m)\u001b[0m\u001b[1;33m\u001b[0m\u001b[1;33m\u001b[0m\u001b[0m\n\u001b[0m",
      "\u001b[1;31mNameError\u001b[0m: name 'data' is not defined"
     ]
    }
   ],
   "source": [
    "#Let's visualize the distribution\n",
    "sns.boxplot(data['price'],orient='v')"
   ]
  },
  {
   "cell_type": "code",
   "execution_count": null,
   "metadata": {},
   "outputs": [],
   "source": [
    "#Plot histogram of pricing just to understand distribution\n",
    "\n",
    "fig = plt.figure()\n",
    "sns.distplot(data['price'])\n",
    "fig.suptitle(\"Distribution of Prices\")\n",
    "plt.xlabel(\"Car Price\")"
   ]
  },
  {
   "cell_type": "code",
   "execution_count": null,
   "metadata": {},
   "outputs": [],
   "source": [
    "# Plot features sorted by correlation to car price\n",
    "\n",
    "corr = data.corr().sort_values('price', ascending=False)\n",
    "\n",
    "#Positive correlations\n",
    "corr_pos = corr[:34]\n",
    "plt.figure(figsize=(12,10))\n",
    "plt.xlabel('Positive Predictors of Price')\n",
    "plt.xlabel('Car Price')\n",
    "plt.ylabel('Positive Predictors')\n",
    "sns.barplot(corr_pos.price[1:], corr_pos.index[1:], orient='h') \n",
    "plt.show()\n",
    "\n",
    "\n",
    "#Negative correlations\n",
    "corr_neg = corr[33:]\n",
    "plt.figure(figsize=(12,10))\n",
    "plt.xlabel('Negative Predictors of Price')\n",
    "plt.xlabel('Car Price')\n",
    "plt.ylabel('Negative Predictors')\n",
    "sns.barplot(corr_neg.price[1:], corr_neg.index[1:], orient='h') \n",
    "plt.show()"
   ]
  },
  {
   "cell_type": "markdown",
   "metadata": {},
   "source": [
    "> **Observation:**\n",
    "- Larger number of cars have low price points but there are some outliers with very high prices as well.\n",
    "- It is evident that predictors are not made equal! Some have significant correlations (positive or negative) while others have little to no correlation.\n",
    "- About 11 predictors have >=0.5 correlation and 4 have <-0.5 correlation with car price"
   ]
  },
  {
   "cell_type": "markdown",
   "metadata": {},
   "source": [
    "<a id='3.5'></a>\n",
    "## Train-Test Split"
   ]
  },
  {
   "cell_type": "markdown",
   "metadata": {},
   "source": [
    "Let's now split our data into train and test sets wherein train will be 70% of the original dataset using which we will build a regression model. "
   ]
  },
  {
   "cell_type": "code",
   "execution_count": null,
   "metadata": {},
   "outputs": [],
   "source": [
    "data_train, data_test = train_test_split(data,train_size=0.7,random_state=100)"
   ]
  },
  {
   "cell_type": "code",
   "execution_count": null,
   "metadata": {},
   "outputs": [],
   "source": [
    "data_train.shape\n",
    "data_test.shape"
   ]
  },
  {
   "cell_type": "markdown",
   "metadata": {},
   "source": [
    "<a id='3.6'></a>\n",
    "## Rescale Variables"
   ]
  },
  {
   "cell_type": "markdown",
   "metadata": {},
   "source": [
    "Let's bring all numeric variables to the same scale so as to simplify model evaluation and interpretation"
   ]
  },
  {
   "cell_type": "code",
   "execution_count": null,
   "metadata": {},
   "outputs": [],
   "source": [
    "data.head(3)"
   ]
  },
  {
   "cell_type": "code",
   "execution_count": null,
   "metadata": {},
   "outputs": [],
   "source": [
    "#Variables to scale\n",
    "vars_to_scale = ['symboling','doornumber','wheelbase','carlength','carwidth','carheight','carheight','curbweight','cylindernumber','enginesize','boreratio','stroke','compressionratio','horsepower','peakrpm','citympg','highwaympg','price']"
   ]
  },
  {
   "cell_type": "code",
   "execution_count": null,
   "metadata": {},
   "outputs": [],
   "source": [
    "#Instantiate scaler object\n",
    "scaler = MinMaxScaler()"
   ]
  },
  {
   "cell_type": "code",
   "execution_count": null,
   "metadata": {},
   "outputs": [],
   "source": [
    "#Fit variables \n",
    "data_train[vars_to_scale] = scaler.fit_transform(data_train[vars_to_scale])"
   ]
  },
  {
   "cell_type": "code",
   "execution_count": null,
   "metadata": {},
   "outputs": [],
   "source": [
    "#Verify outcomes\n",
    "data_train.describe()"
   ]
  },
  {
   "cell_type": "code",
   "execution_count": null,
   "metadata": {},
   "outputs": [],
   "source": [
    "l"
   ]
  },
  {
   "cell_type": "code",
   "execution_count": null,
   "metadata": {},
   "outputs": [],
   "source": [
    "data_test.head()"
   ]
  },
  {
   "cell_type": "markdown",
   "metadata": {},
   "source": [
    "<a id='4.1'></a>\n",
    "## Model Building & Evaluation"
   ]
  },
  {
   "cell_type": "markdown",
   "metadata": {},
   "source": [
    "We'll now build linear regression models to predict price and evaluate these models as well"
   ]
  },
  {
   "cell_type": "markdown",
   "metadata": {},
   "source": [
    "<a id='4.1'></a>\n",
    "## Model 1 - With all variables"
   ]
  },
  {
   "cell_type": "code",
   "execution_count": null,
   "metadata": {},
   "outputs": [],
   "source": [
    "#Let's start with building a model with ALL variables"
   ]
  },
  {
   "cell_type": "code",
   "execution_count": null,
   "metadata": {},
   "outputs": [],
   "source": [
    "#Add constant \n",
    "X_train_const = sm.add_constant(X_train)\n",
    "X_train_const.head()"
   ]
  },
  {
   "cell_type": "code",
   "execution_count": null,
   "metadata": {},
   "outputs": [],
   "source": [
    "#Fit LR model on trainin data set\n",
    "model_1 = sm.OLS(y_train,X_train_const).fit()\n",
    "model_1"
   ]
  },
  {
   "cell_type": "code",
   "execution_count": 78,
   "metadata": {},
   "outputs": [
    {
     "name": "stdout",
     "output_type": "stream",
     "text": [
      "                            OLS Regression Results                            \n",
      "==============================================================================\n",
      "Dep. Variable:                  price   R-squared:                       0.971\n",
      "Model:                            OLS   Adj. R-squared:                  0.954\n",
      "Method:                 Least Squares   F-statistic:                     54.97\n",
      "Date:                Mon, 26 Aug 2019   Prob (F-statistic):           8.61e-50\n",
      "Time:                        23:18:18   Log-Likelihood:                 270.60\n",
      "No. Observations:                 143   AIC:                            -431.2\n",
      "Df Residuals:                      88   BIC:                            -268.2\n",
      "Df Model:                          54                                         \n",
      "Covariance Type:            nonrobust                                         \n",
      "=======================================================================================\n",
      "                          coef    std err          t      P>|t|      [0.025      0.975]\n",
      "---------------------------------------------------------------------------------------\n",
      "const                   0.1164      0.135      0.860      0.392      -0.153       0.385\n",
      "symboling              -0.0080      0.039     -0.207      0.837      -0.085       0.069\n",
      "fueltype                0.1534      0.109      1.408      0.163      -0.063       0.370\n",
      "aspiration              0.0844      0.030      2.782      0.007       0.024       0.145\n",
      "doornumber              0.0089      0.016      0.565      0.573      -0.022       0.040\n",
      "enginelocation          0.2117      0.071      2.999      0.004       0.071       0.352\n",
      "wheelbase               0.2260      0.097      2.331      0.022       0.033       0.419\n",
      "carlength              -0.1273      0.102     -1.244      0.217      -0.331       0.076\n",
      "carwidth                0.2505      0.105      2.390      0.019       0.042       0.459\n",
      "carheight              -0.1700      0.054     -3.132      0.002      -0.278      -0.062\n",
      "curbweight              0.2777      0.134      2.070      0.041       0.011       0.544\n",
      "cylindernumber         -0.5379      0.325     -1.655      0.101      -1.184       0.108\n",
      "enginesize              1.3924      0.386      3.607      0.001       0.625       2.159\n",
      "boreratio              -0.3294      0.117     -2.812      0.006      -0.562      -0.097\n",
      "stroke                 -0.1490      0.086     -1.733      0.087      -0.320       0.022\n",
      "compressionratio       -0.4053      0.250     -1.623      0.108      -0.902       0.091\n",
      "horsepower             -0.1671      0.179     -0.935      0.353      -0.522       0.188\n",
      "peakrpm                 0.2076      0.052      3.990      0.000       0.104       0.311\n",
      "citympg                 0.0707      0.156      0.453      0.651      -0.239       0.381\n",
      "highwaympg              0.0910      0.143      0.636      0.527      -0.193       0.375\n",
      "car_make_audi          -0.0276      0.071     -0.388      0.699      -0.169       0.114\n",
      "car_make_bmw            0.2186      0.068      3.237      0.002       0.084       0.353\n",
      "car_make_buick          0.0242      0.076      0.316      0.753      -0.128       0.176\n",
      "car_make_chevrolet     -0.1270      0.071     -1.801      0.075      -0.267       0.013\n",
      "car_make_dodge         -0.1544      0.062     -2.480      0.015      -0.278      -0.031\n",
      "car_make_honda         -0.1078      0.079     -1.361      0.177      -0.265       0.050\n",
      "car_make_isuzu         -0.0659      0.066     -0.997      0.321      -0.197       0.065\n",
      "car_make_jaguar        -0.0533      0.082     -0.648      0.519      -0.217       0.110\n",
      "car_make_mazda         -0.0339      0.058     -0.589      0.557      -0.148       0.080\n",
      "car_make_mercury     1.429e-15   3.59e-16      3.980      0.000    7.15e-16    2.14e-15\n",
      "car_make_mitsubishi    -0.1739      0.064     -2.722      0.008      -0.301      -0.047\n",
      "car_make_nissan        -0.0534      0.057     -0.944      0.348      -0.166       0.059\n",
      "car_make_peugeot       -0.2866      0.107     -2.690      0.009      -0.498      -0.075\n",
      "car_make_plymouth      -0.1533      0.062     -2.480      0.015      -0.276      -0.030\n",
      "car_make_porsche        0.1708      0.085      2.004      0.048       0.001       0.340\n",
      "car_make_renault       -0.0712      0.077     -0.929      0.356      -0.224       0.081\n",
      "car_make_saab           0.1516      0.070      2.150      0.034       0.011       0.292\n",
      "car_make_subaru        -0.0805      0.064     -1.262      0.210      -0.207       0.046\n",
      "car_make_toyota        -0.0382      0.054     -0.701      0.485      -0.146       0.070\n",
      "car_make_volkswagen    -0.0380      0.058     -0.650      0.518      -0.154       0.078\n",
      "car_make_volvo          0.0040      0.072      0.056      0.956      -0.138       0.146\n",
      "carbody_hardtop        -0.1222      0.058     -2.100      0.039      -0.238      -0.007\n",
      "carbody_hatchback      -0.1362      0.044     -3.087      0.003      -0.224      -0.049\n",
      "carbody_sedan          -0.1146      0.047     -2.439      0.017      -0.208      -0.021\n",
      "carbody_wagon          -0.0955      0.051     -1.888      0.062      -0.196       0.005\n",
      "drivewheel_fwd         -0.0136      0.025     -0.533      0.595      -0.064       0.037\n",
      "drivewheel_rwd          0.0098      0.035      0.277      0.782      -0.061       0.080\n",
      "enginetype_dohcv        0.1940      0.117      1.655      0.101      -0.039       0.427\n",
      "enginetype_l            0.2138      0.070      3.047      0.003       0.074       0.353\n",
      "enginetype_ohc          0.0608      0.031      1.934      0.056      -0.002       0.123\n",
      "enginetype_ohcf         0.1312      0.039      3.391      0.001       0.054       0.208\n",
      "enginetype_ohcv         0.0017      0.039      0.044      0.965      -0.076       0.080\n",
      "enginetype_rotor        0.2408      0.083      2.885      0.005       0.075       0.407\n",
      "fuelsystem_2bbl         0.0258      0.058      0.444      0.658      -0.089       0.141\n",
      "fuelsystem_4bbl        -0.0656      0.083     -0.791      0.431      -0.231       0.099\n",
      "fuelsystem_idi          0.1534      0.109      1.408      0.163      -0.063       0.370\n",
      "fuelsystem_mfi               0          0        nan        nan           0           0\n",
      "fuelsystem_mpfi        -0.0086      0.064     -0.135      0.893      -0.135       0.118\n",
      "fuelsystem_spdi        -0.0126      0.068     -0.184      0.854      -0.148       0.123\n",
      "fuelsystem_spfi              0          0        nan        nan           0           0\n",
      "==============================================================================\n",
      "Omnibus:                       41.526   Durbin-Watson:                   1.919\n",
      "Prob(Omnibus):                  0.000   Jarque-Bera (JB):              172.601\n",
      "Skew:                           0.955   Prob(JB):                     3.31e-38\n",
      "Kurtosis:                       8.032   Cond. No.                     1.11e+16\n",
      "==============================================================================\n",
      "\n",
      "Warnings:\n",
      "[1] Standard Errors assume that the covariance matrix of the errors is correctly specified.\n",
      "[2] The smallest eigenvalue is 6.6e-30. This might indicate that there are\n",
      "strong multicollinearity problems or that the design matrix is singular.\n"
     ]
    },
    {
     "name": "stderr",
     "output_type": "stream",
     "text": [
      "C:\\Users\\ksami\\AppData\\Local\\Continuum\\anaconda3\\lib\\site-packages\\statsmodels\\base\\model.py:1294: RuntimeWarning: invalid value encountered in true_divide\n",
      "  return self.params / self.bse\n",
      "C:\\Users\\ksami\\AppData\\Local\\Continuum\\anaconda3\\lib\\site-packages\\scipy\\stats\\_distn_infrastructure.py:877: RuntimeWarning: invalid value encountered in greater\n",
      "  return (self.a < x) & (x < self.b)\n",
      "C:\\Users\\ksami\\AppData\\Local\\Continuum\\anaconda3\\lib\\site-packages\\scipy\\stats\\_distn_infrastructure.py:877: RuntimeWarning: invalid value encountered in less\n",
      "  return (self.a < x) & (x < self.b)\n",
      "C:\\Users\\ksami\\AppData\\Local\\Continuum\\anaconda3\\lib\\site-packages\\scipy\\stats\\_distn_infrastructure.py:1831: RuntimeWarning: invalid value encountered in less_equal\n",
      "  cond2 = cond0 & (x <= self.a)\n"
     ]
    }
   ],
   "source": [
    "#Get regression model stats\n",
    "print(model_1.summary())"
   ]
  },
  {
   "cell_type": "markdown",
   "metadata": {},
   "source": [
    "> **Observation:** \n",
    "- R-squared is suspiciously very high, there is a possibility that there is overfitting due to model complexity and multicollinearity \n",
    "- Beta parameters of several variables are *not* statistically significant (high p-values).\n"
   ]
  },
  {
   "cell_type": "markdown",
   "metadata": {},
   "source": [
    "Let's analyze multicollinearity with Variance Inflation Factor (VIF)"
   ]
  },
  {
   "cell_type": "code",
   "execution_count": 79,
   "metadata": {},
   "outputs": [
    {
     "name": "stderr",
     "output_type": "stream",
     "text": [
      "C:\\Users\\ksami\\AppData\\Local\\Continuum\\anaconda3\\lib\\site-packages\\statsmodels\\stats\\outliers_influence.py:185: RuntimeWarning: divide by zero encountered in double_scalars\n",
      "  vif = 1. / (1. - r_squared_i)\n",
      "C:\\Users\\ksami\\AppData\\Local\\Continuum\\anaconda3\\lib\\site-packages\\statsmodels\\regression\\linear_model.py:1638: RuntimeWarning: invalid value encountered in double_scalars\n",
      "  return 1 - self.ssr/self.uncentered_tss\n"
     ]
    },
    {
     "data": {
      "text/html": [
       "<div>\n",
       "<style scoped>\n",
       "    .dataframe tbody tr th:only-of-type {\n",
       "        vertical-align: middle;\n",
       "    }\n",
       "\n",
       "    .dataframe tbody tr th {\n",
       "        vertical-align: top;\n",
       "    }\n",
       "\n",
       "    .dataframe thead th {\n",
       "        text-align: right;\n",
       "    }\n",
       "</style>\n",
       "<table border=\"1\" class=\"dataframe\">\n",
       "  <thead>\n",
       "    <tr style=\"text-align: right;\">\n",
       "      <th></th>\n",
       "      <th>Features</th>\n",
       "      <th>VIF</th>\n",
       "    </tr>\n",
       "  </thead>\n",
       "  <tbody>\n",
       "    <tr>\n",
       "      <th>1</th>\n",
       "      <td>fueltype</td>\n",
       "      <td>inf</td>\n",
       "    </tr>\n",
       "    <tr>\n",
       "      <th>49</th>\n",
       "      <td>enginetype_ohcf</td>\n",
       "      <td>inf</td>\n",
       "    </tr>\n",
       "    <tr>\n",
       "      <th>54</th>\n",
       "      <td>fuelsystem_idi</td>\n",
       "      <td>inf</td>\n",
       "    </tr>\n",
       "    <tr>\n",
       "      <th>4</th>\n",
       "      <td>enginelocation</td>\n",
       "      <td>inf</td>\n",
       "    </tr>\n",
       "    <tr>\n",
       "      <th>36</th>\n",
       "      <td>car_make_subaru</td>\n",
       "      <td>inf</td>\n",
       "    </tr>\n",
       "    <tr>\n",
       "      <th>11</th>\n",
       "      <td>enginesize</td>\n",
       "      <td>722.88</td>\n",
       "    </tr>\n",
       "    <tr>\n",
       "      <th>14</th>\n",
       "      <td>compressionratio</td>\n",
       "      <td>376.70</td>\n",
       "    </tr>\n",
       "    <tr>\n",
       "      <th>10</th>\n",
       "      <td>cylindernumber</td>\n",
       "      <td>353.98</td>\n",
       "    </tr>\n",
       "    <tr>\n",
       "      <th>18</th>\n",
       "      <td>highwaympg</td>\n",
       "      <td>236.29</td>\n",
       "    </tr>\n",
       "    <tr>\n",
       "      <th>17</th>\n",
       "      <td>citympg</td>\n",
       "      <td>233.14</td>\n",
       "    </tr>\n",
       "    <tr>\n",
       "      <th>6</th>\n",
       "      <td>carlength</td>\n",
       "      <td>218.58</td>\n",
       "    </tr>\n",
       "    <tr>\n",
       "      <th>9</th>\n",
       "      <td>curbweight</td>\n",
       "      <td>218.55</td>\n",
       "    </tr>\n",
       "    <tr>\n",
       "      <th>12</th>\n",
       "      <td>boreratio</td>\n",
       "      <td>205.89</td>\n",
       "    </tr>\n",
       "    <tr>\n",
       "      <th>7</th>\n",
       "      <td>carwidth</td>\n",
       "      <td>172.69</td>\n",
       "    </tr>\n",
       "    <tr>\n",
       "      <th>15</th>\n",
       "      <td>horsepower</td>\n",
       "      <td>162.24</td>\n",
       "    </tr>\n",
       "    <tr>\n",
       "      <th>5</th>\n",
       "      <td>wheelbase</td>\n",
       "      <td>130.33</td>\n",
       "    </tr>\n",
       "    <tr>\n",
       "      <th>13</th>\n",
       "      <td>stroke</td>\n",
       "      <td>124.68</td>\n",
       "    </tr>\n",
       "    <tr>\n",
       "      <th>56</th>\n",
       "      <td>fuelsystem_mpfi</td>\n",
       "      <td>86.81</td>\n",
       "    </tr>\n",
       "    <tr>\n",
       "      <th>42</th>\n",
       "      <td>carbody_sedan</td>\n",
       "      <td>69.40</td>\n",
       "    </tr>\n",
       "    <tr>\n",
       "      <th>52</th>\n",
       "      <td>fuelsystem_2bbl</td>\n",
       "      <td>56.09</td>\n",
       "    </tr>\n",
       "    <tr>\n",
       "      <th>8</th>\n",
       "      <td>carheight</td>\n",
       "      <td>54.61</td>\n",
       "    </tr>\n",
       "    <tr>\n",
       "      <th>41</th>\n",
       "      <td>carbody_hatchback</td>\n",
       "      <td>43.90</td>\n",
       "    </tr>\n",
       "    <tr>\n",
       "      <th>48</th>\n",
       "      <td>enginetype_ohc</td>\n",
       "      <td>41.60</td>\n",
       "    </tr>\n",
       "    <tr>\n",
       "      <th>31</th>\n",
       "      <td>car_make_peugeot</td>\n",
       "      <td>38.71</td>\n",
       "    </tr>\n",
       "    <tr>\n",
       "      <th>0</th>\n",
       "      <td>symboling</td>\n",
       "      <td>33.06</td>\n",
       "    </tr>\n",
       "    <tr>\n",
       "      <th>16</th>\n",
       "      <td>peakrpm</td>\n",
       "      <td>30.49</td>\n",
       "    </tr>\n",
       "    <tr>\n",
       "      <th>45</th>\n",
       "      <td>drivewheel_rwd</td>\n",
       "      <td>26.43</td>\n",
       "    </tr>\n",
       "    <tr>\n",
       "      <th>24</th>\n",
       "      <td>car_make_honda</td>\n",
       "      <td>25.82</td>\n",
       "    </tr>\n",
       "    <tr>\n",
       "      <th>37</th>\n",
       "      <td>car_make_toyota</td>\n",
       "      <td>24.23</td>\n",
       "    </tr>\n",
       "    <tr>\n",
       "      <th>44</th>\n",
       "      <td>drivewheel_fwd</td>\n",
       "      <td>24.14</td>\n",
       "    </tr>\n",
       "    <tr>\n",
       "      <th>43</th>\n",
       "      <td>carbody_wagon</td>\n",
       "      <td>22.36</td>\n",
       "    </tr>\n",
       "    <tr>\n",
       "      <th>47</th>\n",
       "      <td>enginetype_l</td>\n",
       "      <td>20.34</td>\n",
       "    </tr>\n",
       "    <tr>\n",
       "      <th>30</th>\n",
       "      <td>car_make_nissan</td>\n",
       "      <td>18.38</td>\n",
       "    </tr>\n",
       "    <tr>\n",
       "      <th>27</th>\n",
       "      <td>car_make_mazda</td>\n",
       "      <td>18.21</td>\n",
       "    </tr>\n",
       "    <tr>\n",
       "      <th>29</th>\n",
       "      <td>car_make_mitsubishi</td>\n",
       "      <td>15.79</td>\n",
       "    </tr>\n",
       "    <tr>\n",
       "      <th>21</th>\n",
       "      <td>car_make_buick</td>\n",
       "      <td>11.89</td>\n",
       "    </tr>\n",
       "    <tr>\n",
       "      <th>39</th>\n",
       "      <td>car_make_volvo</td>\n",
       "      <td>11.59</td>\n",
       "    </tr>\n",
       "    <tr>\n",
       "      <th>51</th>\n",
       "      <td>enginetype_rotor</td>\n",
       "      <td>11.15</td>\n",
       "    </tr>\n",
       "    <tr>\n",
       "      <th>19</th>\n",
       "      <td>car_make_audi</td>\n",
       "      <td>10.84</td>\n",
       "    </tr>\n",
       "    <tr>\n",
       "      <th>20</th>\n",
       "      <td>car_make_bmw</td>\n",
       "      <td>10.72</td>\n",
       "    </tr>\n",
       "    <tr>\n",
       "      <th>2</th>\n",
       "      <td>aspiration</td>\n",
       "      <td>10.59</td>\n",
       "    </tr>\n",
       "    <tr>\n",
       "      <th>57</th>\n",
       "      <td>fuelsystem_spdi</td>\n",
       "      <td>10.58</td>\n",
       "    </tr>\n",
       "    <tr>\n",
       "      <th>23</th>\n",
       "      <td>car_make_dodge</td>\n",
       "      <td>10.12</td>\n",
       "    </tr>\n",
       "    <tr>\n",
       "      <th>38</th>\n",
       "      <td>car_make_volkswagen</td>\n",
       "      <td>9.69</td>\n",
       "    </tr>\n",
       "    <tr>\n",
       "      <th>33</th>\n",
       "      <td>car_make_porsche</td>\n",
       "      <td>9.51</td>\n",
       "    </tr>\n",
       "    <tr>\n",
       "      <th>26</th>\n",
       "      <td>car_make_jaguar</td>\n",
       "      <td>8.96</td>\n",
       "    </tr>\n",
       "    <tr>\n",
       "      <th>53</th>\n",
       "      <td>fuelsystem_4bbl</td>\n",
       "      <td>8.68</td>\n",
       "    </tr>\n",
       "    <tr>\n",
       "      <th>3</th>\n",
       "      <td>doornumber</td>\n",
       "      <td>8.59</td>\n",
       "    </tr>\n",
       "    <tr>\n",
       "      <th>32</th>\n",
       "      <td>car_make_plymouth</td>\n",
       "      <td>6.64</td>\n",
       "    </tr>\n",
       "    <tr>\n",
       "      <th>50</th>\n",
       "      <td>enginetype_ohcv</td>\n",
       "      <td>6.42</td>\n",
       "    </tr>\n",
       "    <tr>\n",
       "      <th>22</th>\n",
       "      <td>car_make_chevrolet</td>\n",
       "      <td>6.28</td>\n",
       "    </tr>\n",
       "    <tr>\n",
       "      <th>46</th>\n",
       "      <td>enginetype_dohcv</td>\n",
       "      <td>6.16</td>\n",
       "    </tr>\n",
       "    <tr>\n",
       "      <th>35</th>\n",
       "      <td>car_make_saab</td>\n",
       "      <td>5.97</td>\n",
       "    </tr>\n",
       "    <tr>\n",
       "      <th>25</th>\n",
       "      <td>car_make_isuzu</td>\n",
       "      <td>5.53</td>\n",
       "    </tr>\n",
       "    <tr>\n",
       "      <th>34</th>\n",
       "      <td>car_make_renault</td>\n",
       "      <td>4.84</td>\n",
       "    </tr>\n",
       "    <tr>\n",
       "      <th>40</th>\n",
       "      <td>carbody_hardtop</td>\n",
       "      <td>4.69</td>\n",
       "    </tr>\n",
       "    <tr>\n",
       "      <th>28</th>\n",
       "      <td>car_make_mercury</td>\n",
       "      <td>nan</td>\n",
       "    </tr>\n",
       "    <tr>\n",
       "      <th>55</th>\n",
       "      <td>fuelsystem_mfi</td>\n",
       "      <td>nan</td>\n",
       "    </tr>\n",
       "    <tr>\n",
       "      <th>58</th>\n",
       "      <td>fuelsystem_spfi</td>\n",
       "      <td>nan</td>\n",
       "    </tr>\n",
       "  </tbody>\n",
       "</table>\n",
       "</div>"
      ],
      "text/plain": [
       "               Features    VIF\n",
       "1              fueltype    inf\n",
       "49      enginetype_ohcf    inf\n",
       "54       fuelsystem_idi    inf\n",
       "4        enginelocation    inf\n",
       "36      car_make_subaru    inf\n",
       "11           enginesize 722.88\n",
       "14     compressionratio 376.70\n",
       "10       cylindernumber 353.98\n",
       "18           highwaympg 236.29\n",
       "17              citympg 233.14\n",
       "6             carlength 218.58\n",
       "9            curbweight 218.55\n",
       "12            boreratio 205.89\n",
       "7              carwidth 172.69\n",
       "15           horsepower 162.24\n",
       "5             wheelbase 130.33\n",
       "13               stroke 124.68\n",
       "56      fuelsystem_mpfi  86.81\n",
       "42        carbody_sedan  69.40\n",
       "52      fuelsystem_2bbl  56.09\n",
       "8             carheight  54.61\n",
       "41    carbody_hatchback  43.90\n",
       "48       enginetype_ohc  41.60\n",
       "31     car_make_peugeot  38.71\n",
       "0             symboling  33.06\n",
       "16              peakrpm  30.49\n",
       "45       drivewheel_rwd  26.43\n",
       "24       car_make_honda  25.82\n",
       "37      car_make_toyota  24.23\n",
       "44       drivewheel_fwd  24.14\n",
       "43        carbody_wagon  22.36\n",
       "47         enginetype_l  20.34\n",
       "30      car_make_nissan  18.38\n",
       "27       car_make_mazda  18.21\n",
       "29  car_make_mitsubishi  15.79\n",
       "21       car_make_buick  11.89\n",
       "39       car_make_volvo  11.59\n",
       "51     enginetype_rotor  11.15\n",
       "19        car_make_audi  10.84\n",
       "20         car_make_bmw  10.72\n",
       "2            aspiration  10.59\n",
       "57      fuelsystem_spdi  10.58\n",
       "23       car_make_dodge  10.12\n",
       "38  car_make_volkswagen   9.69\n",
       "33     car_make_porsche   9.51\n",
       "26      car_make_jaguar   8.96\n",
       "53      fuelsystem_4bbl   8.68\n",
       "3            doornumber   8.59\n",
       "32    car_make_plymouth   6.64\n",
       "50      enginetype_ohcv   6.42\n",
       "22   car_make_chevrolet   6.28\n",
       "46     enginetype_dohcv   6.16\n",
       "35        car_make_saab   5.97\n",
       "25       car_make_isuzu   5.53\n",
       "34     car_make_renault   4.84\n",
       "40      carbody_hardtop   4.69\n",
       "28     car_make_mercury    nan\n",
       "55       fuelsystem_mfi    nan\n",
       "58      fuelsystem_spfi    nan"
      ]
     },
     "execution_count": 79,
     "metadata": {},
     "output_type": "execute_result"
    }
   ],
   "source": [
    "# Create a dataframe that will contain the names of all the feature variables and their respective VIFs\n",
    "vif = pd.DataFrame()\n",
    "vif['Features'] = X_train.columns\n",
    "vif['VIF'] = [variance_inflation_factor(X_train.values, i) for i in range(X_train.shape[1])]\n",
    "vif['VIF'] = round(vif['VIF'], 2) #Round off VIF to 2 decimal places\n",
    "vif = vif.sort_values(by = \"VIF\", ascending = False) #Sort ascending\n",
    "vif"
   ]
  },
  {
   "cell_type": "markdown",
   "metadata": {},
   "source": [
    "> **Observation:** \n",
    "- Lot of variables have multicollinearity (high VIF) which is not a surprise given our analysis of correlations earlier. \n",
    "- The multicollinearity has rendered the p-values unreliable. \n",
    "- We've taken too many predictor variables into the model given the small sample size which may be leading to overfitting. "
   ]
  },
  {
   "cell_type": "markdown",
   "metadata": {},
   "source": [
    "We need to simplify the model and manage multicollinearity so let's build a coarse model using an automatic feature selection tool and then manually tune it to arrive at a final model"
   ]
  },
  {
   "cell_type": "markdown",
   "metadata": {},
   "source": [
    "<a id='4.2'></a>\n",
    "## Model 2 - With RFE"
   ]
  },
  {
   "cell_type": "markdown",
   "metadata": {},
   "source": [
    "Let's use Recursive Feature Elimination (RFE) to automatically select 15 best features"
   ]
  },
  {
   "cell_type": "markdown",
   "metadata": {},
   "source": [
    ">Note: Number of features to select is a subjective decision. My decision of is based on the fact that:\n",
    "- We have 15 features that have >0.5 and <0.5 correlated with price.\n",
    "- Pragmatically, each independent variable typically requires at least 10 observations to accurately fit an LR model and we have about 140 observations in the training dataset so we can't obtain accurate parameters for more than 14 features. \n",
    "\n",
    ">I am thus going with 15 features to begin with. "
   ]
  },
  {
   "cell_type": "code",
   "execution_count": 80,
   "metadata": {},
   "outputs": [
    {
     "data": {
      "text/plain": [
       "LinearRegression(copy_X=True, fit_intercept=True, n_jobs=None, normalize=False)"
      ]
     },
     "execution_count": 80,
     "metadata": {},
     "output_type": "execute_result"
    }
   ],
   "source": [
    "#Build a model with all variables > Use RFE to identify best independent variables to use for modelling\n",
    "model2 = LinearRegression() \n",
    "model2.fit(X_train,y_train)\n",
    "\n",
    "rfe = RFE(model2,15).fit(X_train,y_train) "
   ]
  },
  {
   "cell_type": "code",
   "execution_count": 81,
   "metadata": {},
   "outputs": [
    {
     "data": {
      "text/plain": [
       "0.9712064047413828"
      ]
     },
     "execution_count": 81,
     "metadata": {},
     "output_type": "execute_result"
    }
   ],
   "source": [
    "model2.score(X_train,y_train)"
   ]
  },
  {
   "cell_type": "code",
   "execution_count": 82,
   "metadata": {},
   "outputs": [
    {
     "data": {
      "text/plain": [
       "[('symboling', False, 37),\n",
       " ('fueltype', False, 8),\n",
       " ('aspiration', False, 5),\n",
       " ('doornumber', False, 35),\n",
       " ('enginelocation', True, 1),\n",
       " ('wheelbase', False, 13),\n",
       " ('carlength', False, 14),\n",
       " ('carwidth', True, 1),\n",
       " ('carheight', False, 10),\n",
       " ('curbweight', True, 1),\n",
       " ('cylindernumber', True, 1),\n",
       " ('enginesize', True, 1),\n",
       " ('boreratio', True, 1),\n",
       " ('stroke', True, 1),\n",
       " ('compressionratio', True, 1),\n",
       " ('horsepower', False, 3),\n",
       " ('peakrpm', True, 1),\n",
       " ('citympg', False, 28),\n",
       " ('highwaympg', False, 16),\n",
       " ('car_make_audi', False, 38),\n",
       " ('car_make_bmw', True, 1),\n",
       " ('car_make_buick', False, 7),\n",
       " ('car_make_chevrolet', False, 17),\n",
       " ('car_make_dodge', False, 12),\n",
       " ('car_make_honda', False, 15),\n",
       " ('car_make_isuzu', False, 29),\n",
       " ('car_make_jaguar', False, 39),\n",
       " ('car_make_mazda', False, 34),\n",
       " ('car_make_mercury', False, 41),\n",
       " ('car_make_mitsubishi', False, 6),\n",
       " ('car_make_nissan', False, 30),\n",
       " ('car_make_peugeot', True, 1),\n",
       " ('car_make_plymouth', False, 11),\n",
       " ('car_make_porsche', True, 1),\n",
       " ('car_make_renault', False, 27),\n",
       " ('car_make_saab', False, 4),\n",
       " ('car_make_subaru', False, 24),\n",
       " ('car_make_toyota', False, 33),\n",
       " ('car_make_volkswagen', False, 31),\n",
       " ('car_make_volvo', False, 9),\n",
       " ('carbody_hardtop', False, 19),\n",
       " ('carbody_hatchback', False, 18),\n",
       " ('carbody_sedan', False, 20),\n",
       " ('carbody_wagon', False, 21),\n",
       " ('drivewheel_fwd', False, 26),\n",
       " ('drivewheel_rwd', False, 36),\n",
       " ('enginetype_dohcv', True, 1),\n",
       " ('enginetype_l', True, 1),\n",
       " ('enginetype_ohc', False, 23),\n",
       " ('enginetype_ohcf', False, 22),\n",
       " ('enginetype_ohcv', False, 32),\n",
       " ('enginetype_rotor', False, 2),\n",
       " ('fuelsystem_2bbl', False, 25),\n",
       " ('fuelsystem_4bbl', False, 42),\n",
       " ('fuelsystem_idi', True, 1),\n",
       " ('fuelsystem_mfi', False, 44),\n",
       " ('fuelsystem_mpfi', False, 43),\n",
       " ('fuelsystem_spdi', False, 40),\n",
       " ('fuelsystem_spfi', False, 45)]"
      ]
     },
     "execution_count": 82,
     "metadata": {},
     "output_type": "execute_result"
    }
   ],
   "source": [
    "list(zip(X_train.columns,rfe.support_,rfe.ranking_))"
   ]
  },
  {
   "cell_type": "code",
   "execution_count": 83,
   "metadata": {},
   "outputs": [
    {
     "data": {
      "text/plain": [
       "Index(['enginelocation', 'carwidth', 'curbweight', 'cylindernumber',\n",
       "       'enginesize', 'boreratio', 'stroke', 'compressionratio', 'peakrpm',\n",
       "       'car_make_bmw', 'car_make_peugeot', 'car_make_porsche',\n",
       "       'enginetype_dohcv', 'enginetype_l', 'fuelsystem_idi'],\n",
       "      dtype='object')"
      ]
     },
     "execution_count": 83,
     "metadata": {},
     "output_type": "execute_result"
    }
   ],
   "source": [
    "#Features selected by RFE\n",
    "selected = X_train.columns[rfe.support_]\n",
    "selected"
   ]
  },
  {
   "cell_type": "code",
   "execution_count": 84,
   "metadata": {},
   "outputs": [
    {
     "data": {
      "text/plain": [
       "Index(['symboling', 'fueltype', 'aspiration', 'doornumber', 'wheelbase',\n",
       "       'carlength', 'carheight', 'horsepower', 'citympg', 'highwaympg',\n",
       "       'car_make_audi', 'car_make_buick', 'car_make_chevrolet',\n",
       "       'car_make_dodge', 'car_make_honda', 'car_make_isuzu', 'car_make_jaguar',\n",
       "       'car_make_mazda', 'car_make_mercury', 'car_make_mitsubishi',\n",
       "       'car_make_nissan', 'car_make_plymouth', 'car_make_renault',\n",
       "       'car_make_saab', 'car_make_subaru', 'car_make_toyota',\n",
       "       'car_make_volkswagen', 'car_make_volvo', 'carbody_hardtop',\n",
       "       'carbody_hatchback', 'carbody_sedan', 'carbody_wagon', 'drivewheel_fwd',\n",
       "       'drivewheel_rwd', 'enginetype_ohc', 'enginetype_ohcf',\n",
       "       'enginetype_ohcv', 'enginetype_rotor', 'fuelsystem_2bbl',\n",
       "       'fuelsystem_4bbl', 'fuelsystem_mfi', 'fuelsystem_mpfi',\n",
       "       'fuelsystem_spdi', 'fuelsystem_spfi'],\n",
       "      dtype='object')"
      ]
     },
     "execution_count": 84,
     "metadata": {},
     "output_type": "execute_result"
    }
   ],
   "source": [
    "#Features not selected by RFE\n",
    "X_train.columns[~rfe.support_]"
   ]
  },
  {
   "cell_type": "markdown",
   "metadata": {},
   "source": [
    "RFE has selected variables for us. Let's now build a model using this list of variables. "
   ]
  },
  {
   "cell_type": "code",
   "execution_count": 85,
   "metadata": {},
   "outputs": [],
   "source": [
    "#Training dataset with only the RFE selected variables\n",
    "X_train_rfe = X_train[selected]"
   ]
  },
  {
   "cell_type": "code",
   "execution_count": 86,
   "metadata": {},
   "outputs": [
    {
     "name": "stderr",
     "output_type": "stream",
     "text": [
      "C:\\Users\\ksami\\AppData\\Local\\Continuum\\anaconda3\\lib\\site-packages\\numpy\\core\\fromnumeric.py:2389: FutureWarning: Method .ptp is deprecated and will be removed in a future version. Use numpy.ptp instead.\n",
      "  return ptp(axis=axis, out=out, **kwargs)\n"
     ]
    }
   ],
   "source": [
    "X_train_rfe_const = sm.add_constant(X_train_rfe)"
   ]
  },
  {
   "cell_type": "code",
   "execution_count": 87,
   "metadata": {},
   "outputs": [
    {
     "data": {
      "text/plain": [
       "<statsmodels.regression.linear_model.RegressionResultsWrapper at 0x1f4bb3e53c8>"
      ]
     },
     "execution_count": 87,
     "metadata": {},
     "output_type": "execute_result"
    }
   ],
   "source": [
    "model_2 = sm.OLS(y_train,X_train_rfe_const).fit()\n",
    "model_2"
   ]
  },
  {
   "cell_type": "code",
   "execution_count": 88,
   "metadata": {},
   "outputs": [
    {
     "data": {
      "text/html": [
       "<table class=\"simpletable\">\n",
       "<caption>OLS Regression Results</caption>\n",
       "<tr>\n",
       "  <th>Dep. Variable:</th>          <td>price</td>      <th>  R-squared:         </th> <td>   0.937</td>\n",
       "</tr>\n",
       "<tr>\n",
       "  <th>Model:</th>                   <td>OLS</td>       <th>  Adj. R-squared:    </th> <td>   0.929</td>\n",
       "</tr>\n",
       "<tr>\n",
       "  <th>Method:</th>             <td>Least Squares</td>  <th>  F-statistic:       </th> <td>   125.4</td>\n",
       "</tr>\n",
       "<tr>\n",
       "  <th>Date:</th>             <td>Mon, 26 Aug 2019</td> <th>  Prob (F-statistic):</th> <td>1.94e-68</td>\n",
       "</tr>\n",
       "<tr>\n",
       "  <th>Time:</th>                 <td>23:18:19</td>     <th>  Log-Likelihood:    </th> <td>  214.35</td>\n",
       "</tr>\n",
       "<tr>\n",
       "  <th>No. Observations:</th>      <td>   143</td>      <th>  AIC:               </th> <td>  -396.7</td>\n",
       "</tr>\n",
       "<tr>\n",
       "  <th>Df Residuals:</th>          <td>   127</td>      <th>  BIC:               </th> <td>  -349.3</td>\n",
       "</tr>\n",
       "<tr>\n",
       "  <th>Df Model:</th>              <td>    15</td>      <th>                     </th>     <td> </td>   \n",
       "</tr>\n",
       "<tr>\n",
       "  <th>Covariance Type:</th>      <td>nonrobust</td>    <th>                     </th>     <td> </td>   \n",
       "</tr>\n",
       "</table>\n",
       "<table class=\"simpletable\">\n",
       "<tr>\n",
       "          <td></td>            <th>coef</th>     <th>std err</th>      <th>t</th>      <th>P>|t|</th>  <th>[0.025</th>    <th>0.975]</th>  \n",
       "</tr>\n",
       "<tr>\n",
       "  <th>const</th>            <td>    0.1591</td> <td>    0.071</td> <td>    2.246</td> <td> 0.026</td> <td>    0.019</td> <td>    0.299</td>\n",
       "</tr>\n",
       "<tr>\n",
       "  <th>enginelocation</th>   <td>    0.3046</td> <td>    0.085</td> <td>    3.593</td> <td> 0.000</td> <td>    0.137</td> <td>    0.472</td>\n",
       "</tr>\n",
       "<tr>\n",
       "  <th>carwidth</th>         <td>    0.4104</td> <td>    0.061</td> <td>    6.703</td> <td> 0.000</td> <td>    0.289</td> <td>    0.532</td>\n",
       "</tr>\n",
       "<tr>\n",
       "  <th>curbweight</th>       <td>    0.2790</td> <td>    0.078</td> <td>    3.600</td> <td> 0.000</td> <td>    0.126</td> <td>    0.432</td>\n",
       "</tr>\n",
       "<tr>\n",
       "  <th>cylindernumber</th>   <td>   -1.0327</td> <td>    0.198</td> <td>   -5.222</td> <td> 0.000</td> <td>   -1.424</td> <td>   -0.641</td>\n",
       "</tr>\n",
       "<tr>\n",
       "  <th>enginesize</th>       <td>    1.4273</td> <td>    0.209</td> <td>    6.845</td> <td> 0.000</td> <td>    1.015</td> <td>    1.840</td>\n",
       "</tr>\n",
       "<tr>\n",
       "  <th>boreratio</th>        <td>   -0.3754</td> <td>    0.066</td> <td>   -5.707</td> <td> 0.000</td> <td>   -0.506</td> <td>   -0.245</td>\n",
       "</tr>\n",
       "<tr>\n",
       "  <th>stroke</th>           <td>   -0.3698</td> <td>    0.062</td> <td>   -5.949</td> <td> 0.000</td> <td>   -0.493</td> <td>   -0.247</td>\n",
       "</tr>\n",
       "<tr>\n",
       "  <th>compressionratio</th> <td>   -0.1505</td> <td>    0.140</td> <td>   -1.079</td> <td> 0.283</td> <td>   -0.427</td> <td>    0.126</td>\n",
       "</tr>\n",
       "<tr>\n",
       "  <th>peakrpm</th>          <td>    0.1138</td> <td>    0.033</td> <td>    3.483</td> <td> 0.001</td> <td>    0.049</td> <td>    0.178</td>\n",
       "</tr>\n",
       "<tr>\n",
       "  <th>car_make_bmw</th>     <td>    0.2527</td> <td>    0.025</td> <td>   10.013</td> <td> 0.000</td> <td>    0.203</td> <td>    0.303</td>\n",
       "</tr>\n",
       "<tr>\n",
       "  <th>car_make_peugeot</th> <td>   -0.2789</td> <td>    0.066</td> <td>   -4.219</td> <td> 0.000</td> <td>   -0.410</td> <td>   -0.148</td>\n",
       "</tr>\n",
       "<tr>\n",
       "  <th>car_make_porsche</th> <td>    0.1244</td> <td>    0.061</td> <td>    2.040</td> <td> 0.043</td> <td>    0.004</td> <td>    0.245</td>\n",
       "</tr>\n",
       "<tr>\n",
       "  <th>enginetype_dohcv</th> <td>    0.1848</td> <td>    0.093</td> <td>    1.992</td> <td> 0.048</td> <td>    0.001</td> <td>    0.368</td>\n",
       "</tr>\n",
       "<tr>\n",
       "  <th>enginetype_l</th>     <td>    0.1499</td> <td>    0.060</td> <td>    2.501</td> <td> 0.014</td> <td>    0.031</td> <td>    0.268</td>\n",
       "</tr>\n",
       "<tr>\n",
       "  <th>fuelsystem_idi</th>   <td>    0.2034</td> <td>    0.122</td> <td>    1.664</td> <td> 0.098</td> <td>   -0.038</td> <td>    0.445</td>\n",
       "</tr>\n",
       "</table>\n",
       "<table class=\"simpletable\">\n",
       "<tr>\n",
       "  <th>Omnibus:</th>       <td> 7.270</td> <th>  Durbin-Watson:     </th> <td>   1.925</td>\n",
       "</tr>\n",
       "<tr>\n",
       "  <th>Prob(Omnibus):</th> <td> 0.026</td> <th>  Jarque-Bera (JB):  </th> <td>   8.593</td>\n",
       "</tr>\n",
       "<tr>\n",
       "  <th>Skew:</th>          <td> 0.337</td> <th>  Prob(JB):          </th> <td>  0.0136</td>\n",
       "</tr>\n",
       "<tr>\n",
       "  <th>Kurtosis:</th>      <td> 3.993</td> <th>  Cond. No.          </th> <td>    96.1</td>\n",
       "</tr>\n",
       "</table><br/><br/>Warnings:<br/>[1] Standard Errors assume that the covariance matrix of the errors is correctly specified."
      ],
      "text/plain": [
       "<class 'statsmodels.iolib.summary.Summary'>\n",
       "\"\"\"\n",
       "                            OLS Regression Results                            \n",
       "==============================================================================\n",
       "Dep. Variable:                  price   R-squared:                       0.937\n",
       "Model:                            OLS   Adj. R-squared:                  0.929\n",
       "Method:                 Least Squares   F-statistic:                     125.4\n",
       "Date:                Mon, 26 Aug 2019   Prob (F-statistic):           1.94e-68\n",
       "Time:                        23:18:19   Log-Likelihood:                 214.35\n",
       "No. Observations:                 143   AIC:                            -396.7\n",
       "Df Residuals:                     127   BIC:                            -349.3\n",
       "Df Model:                          15                                         \n",
       "Covariance Type:            nonrobust                                         \n",
       "====================================================================================\n",
       "                       coef    std err          t      P>|t|      [0.025      0.975]\n",
       "------------------------------------------------------------------------------------\n",
       "const                0.1591      0.071      2.246      0.026       0.019       0.299\n",
       "enginelocation       0.3046      0.085      3.593      0.000       0.137       0.472\n",
       "carwidth             0.4104      0.061      6.703      0.000       0.289       0.532\n",
       "curbweight           0.2790      0.078      3.600      0.000       0.126       0.432\n",
       "cylindernumber      -1.0327      0.198     -5.222      0.000      -1.424      -0.641\n",
       "enginesize           1.4273      0.209      6.845      0.000       1.015       1.840\n",
       "boreratio           -0.3754      0.066     -5.707      0.000      -0.506      -0.245\n",
       "stroke              -0.3698      0.062     -5.949      0.000      -0.493      -0.247\n",
       "compressionratio    -0.1505      0.140     -1.079      0.283      -0.427       0.126\n",
       "peakrpm              0.1138      0.033      3.483      0.001       0.049       0.178\n",
       "car_make_bmw         0.2527      0.025     10.013      0.000       0.203       0.303\n",
       "car_make_peugeot    -0.2789      0.066     -4.219      0.000      -0.410      -0.148\n",
       "car_make_porsche     0.1244      0.061      2.040      0.043       0.004       0.245\n",
       "enginetype_dohcv     0.1848      0.093      1.992      0.048       0.001       0.368\n",
       "enginetype_l         0.1499      0.060      2.501      0.014       0.031       0.268\n",
       "fuelsystem_idi       0.2034      0.122      1.664      0.098      -0.038       0.445\n",
       "==============================================================================\n",
       "Omnibus:                        7.270   Durbin-Watson:                   1.925\n",
       "Prob(Omnibus):                  0.026   Jarque-Bera (JB):                8.593\n",
       "Skew:                           0.337   Prob(JB):                       0.0136\n",
       "Kurtosis:                       3.993   Cond. No.                         96.1\n",
       "==============================================================================\n",
       "\n",
       "Warnings:\n",
       "[1] Standard Errors assume that the covariance matrix of the errors is correctly specified.\n",
       "\"\"\""
      ]
     },
     "execution_count": 88,
     "metadata": {},
     "output_type": "execute_result"
    }
   ],
   "source": [
    "model_2.summary()"
   ]
  },
  {
   "cell_type": "code",
   "execution_count": 89,
   "metadata": {},
   "outputs": [
    {
     "data": {
      "text/html": [
       "<div>\n",
       "<style scoped>\n",
       "    .dataframe tbody tr th:only-of-type {\n",
       "        vertical-align: middle;\n",
       "    }\n",
       "\n",
       "    .dataframe tbody tr th {\n",
       "        vertical-align: top;\n",
       "    }\n",
       "\n",
       "    .dataframe thead th {\n",
       "        text-align: right;\n",
       "    }\n",
       "</style>\n",
       "<table border=\"1\" class=\"dataframe\">\n",
       "  <thead>\n",
       "    <tr style=\"text-align: right;\">\n",
       "      <th></th>\n",
       "      <th>Features</th>\n",
       "      <th>VIF</th>\n",
       "    </tr>\n",
       "  </thead>\n",
       "  <tbody>\n",
       "    <tr>\n",
       "      <th>7</th>\n",
       "      <td>compressionratio</td>\n",
       "      <td>68.69</td>\n",
       "    </tr>\n",
       "    <tr>\n",
       "      <th>14</th>\n",
       "      <td>fuelsystem_idi</td>\n",
       "      <td>52.02</td>\n",
       "    </tr>\n",
       "    <tr>\n",
       "      <th>4</th>\n",
       "      <td>enginesize</td>\n",
       "      <td>51.27</td>\n",
       "    </tr>\n",
       "    <tr>\n",
       "      <th>2</th>\n",
       "      <td>curbweight</td>\n",
       "      <td>48.97</td>\n",
       "    </tr>\n",
       "    <tr>\n",
       "      <th>1</th>\n",
       "      <td>carwidth</td>\n",
       "      <td>39.45</td>\n",
       "    </tr>\n",
       "    <tr>\n",
       "      <th>3</th>\n",
       "      <td>cylindernumber</td>\n",
       "      <td>36.44</td>\n",
       "    </tr>\n",
       "    <tr>\n",
       "      <th>5</th>\n",
       "      <td>boreratio</td>\n",
       "      <td>13.91</td>\n",
       "    </tr>\n",
       "    <tr>\n",
       "      <th>6</th>\n",
       "      <td>stroke</td>\n",
       "      <td>11.57</td>\n",
       "    </tr>\n",
       "    <tr>\n",
       "      <th>10</th>\n",
       "      <td>car_make_peugeot</td>\n",
       "      <td>10.46</td>\n",
       "    </tr>\n",
       "    <tr>\n",
       "      <th>13</th>\n",
       "      <td>enginetype_l</td>\n",
       "      <td>9.51</td>\n",
       "    </tr>\n",
       "    <tr>\n",
       "      <th>8</th>\n",
       "      <td>peakrpm</td>\n",
       "      <td>8.89</td>\n",
       "    </tr>\n",
       "    <tr>\n",
       "      <th>11</th>\n",
       "      <td>car_make_porsche</td>\n",
       "      <td>3.37</td>\n",
       "    </tr>\n",
       "    <tr>\n",
       "      <th>12</th>\n",
       "      <td>enginetype_dohcv</td>\n",
       "      <td>2.18</td>\n",
       "    </tr>\n",
       "    <tr>\n",
       "      <th>0</th>\n",
       "      <td>enginelocation</td>\n",
       "      <td>2.17</td>\n",
       "    </tr>\n",
       "    <tr>\n",
       "      <th>9</th>\n",
       "      <td>car_make_bmw</td>\n",
       "      <td>1.16</td>\n",
       "    </tr>\n",
       "  </tbody>\n",
       "</table>\n",
       "</div>"
      ],
      "text/plain": [
       "            Features   VIF\n",
       "7   compressionratio 68.69\n",
       "14    fuelsystem_idi 52.02\n",
       "4         enginesize 51.27\n",
       "2         curbweight 48.97\n",
       "1           carwidth 39.45\n",
       "3     cylindernumber 36.44\n",
       "5          boreratio 13.91\n",
       "6             stroke 11.57\n",
       "10  car_make_peugeot 10.46\n",
       "13      enginetype_l  9.51\n",
       "8            peakrpm  8.89\n",
       "11  car_make_porsche  3.37\n",
       "12  enginetype_dohcv  2.18\n",
       "0     enginelocation  2.17\n",
       "9       car_make_bmw  1.16"
      ]
     },
     "execution_count": 89,
     "metadata": {},
     "output_type": "execute_result"
    }
   ],
   "source": [
    "# Create a dataframe that will contain the names of all the feature variables and their respective VIFs\n",
    "vif = pd.DataFrame()\n",
    "vif['Features'] = X_train_rfe.columns\n",
    "vif['VIF'] = [variance_inflation_factor(X_train_rfe.values, i) for i in range(X_train_rfe.shape[1])]\n",
    "vif['VIF'] = round(vif['VIF'], 2) #Round off VIF to 2 decimal places\n",
    "vif = vif.sort_values(by = \"VIF\", ascending = False) #Sort ascending\n",
    "vif"
   ]
  },
  {
   "cell_type": "markdown",
   "metadata": {},
   "source": [
    "> **Observation:** \n",
    "- Adjusted R-square is lesser than model 1 but the model has become much simpler now with 15 variables.\n",
    "- Compression ratio has highest VIF and high p-value. During correlation analysis as well, we found that it had multicollinearity with fuelsystem_idi so dropping compression ratio should improve the VIF for fuelsystem_idi and other variables"
   ]
  },
  {
   "cell_type": "markdown",
   "metadata": {},
   "source": [
    "<a id='4.3'></a>\n",
    "## Model 3 - RFE after removing compression ratio"
   ]
  },
  {
   "cell_type": "code",
   "execution_count": 90,
   "metadata": {},
   "outputs": [
    {
     "name": "stderr",
     "output_type": "stream",
     "text": [
      "C:\\Users\\ksami\\AppData\\Local\\Continuum\\anaconda3\\lib\\site-packages\\numpy\\core\\fromnumeric.py:2389: FutureWarning: Method .ptp is deprecated and will be removed in a future version. Use numpy.ptp instead.\n",
      "  return ptp(axis=axis, out=out, **kwargs)\n"
     ]
    }
   ],
   "source": [
    "#Rebuild model without compression ratio\n",
    "X_train3 = X_train_rfe.drop(['compressionratio'],axis=1)\n",
    "X_train3_const = sm.add_constant(X_train3)\n",
    "model3 = sm.OLS(y_train,X_train3_const).fit()"
   ]
  },
  {
   "cell_type": "code",
   "execution_count": 91,
   "metadata": {},
   "outputs": [
    {
     "data": {
      "text/html": [
       "<table class=\"simpletable\">\n",
       "<caption>OLS Regression Results</caption>\n",
       "<tr>\n",
       "  <th>Dep. Variable:</th>          <td>price</td>      <th>  R-squared:         </th> <td>   0.936</td>\n",
       "</tr>\n",
       "<tr>\n",
       "  <th>Model:</th>                   <td>OLS</td>       <th>  Adj. R-squared:    </th> <td>   0.929</td>\n",
       "</tr>\n",
       "<tr>\n",
       "  <th>Method:</th>             <td>Least Squares</td>  <th>  F-statistic:       </th> <td>   134.1</td>\n",
       "</tr>\n",
       "<tr>\n",
       "  <th>Date:</th>             <td>Mon, 26 Aug 2019</td> <th>  Prob (F-statistic):</th> <td>2.91e-69</td>\n",
       "</tr>\n",
       "<tr>\n",
       "  <th>Time:</th>                 <td>23:18:19</td>     <th>  Log-Likelihood:    </th> <td>  213.70</td>\n",
       "</tr>\n",
       "<tr>\n",
       "  <th>No. Observations:</th>      <td>   143</td>      <th>  AIC:               </th> <td>  -397.4</td>\n",
       "</tr>\n",
       "<tr>\n",
       "  <th>Df Residuals:</th>          <td>   128</td>      <th>  BIC:               </th> <td>  -353.0</td>\n",
       "</tr>\n",
       "<tr>\n",
       "  <th>Df Model:</th>              <td>    14</td>      <th>                     </th>     <td> </td>   \n",
       "</tr>\n",
       "<tr>\n",
       "  <th>Covariance Type:</th>      <td>nonrobust</td>    <th>                     </th>     <td> </td>   \n",
       "</tr>\n",
       "</table>\n",
       "<table class=\"simpletable\">\n",
       "<tr>\n",
       "          <td></td>            <th>coef</th>     <th>std err</th>      <th>t</th>      <th>P>|t|</th>  <th>[0.025</th>    <th>0.975]</th>  \n",
       "</tr>\n",
       "<tr>\n",
       "  <th>const</th>            <td>    0.1326</td> <td>    0.066</td> <td>    1.994</td> <td> 0.048</td> <td>    0.001</td> <td>    0.264</td>\n",
       "</tr>\n",
       "<tr>\n",
       "  <th>enginelocation</th>   <td>    0.3111</td> <td>    0.085</td> <td>    3.676</td> <td> 0.000</td> <td>    0.144</td> <td>    0.479</td>\n",
       "</tr>\n",
       "<tr>\n",
       "  <th>carwidth</th>         <td>    0.4079</td> <td>    0.061</td> <td>    6.663</td> <td> 0.000</td> <td>    0.287</td> <td>    0.529</td>\n",
       "</tr>\n",
       "<tr>\n",
       "  <th>curbweight</th>       <td>    0.2977</td> <td>    0.076</td> <td>    3.937</td> <td> 0.000</td> <td>    0.148</td> <td>    0.447</td>\n",
       "</tr>\n",
       "<tr>\n",
       "  <th>cylindernumber</th>   <td>   -1.0383</td> <td>    0.198</td> <td>   -5.249</td> <td> 0.000</td> <td>   -1.430</td> <td>   -0.647</td>\n",
       "</tr>\n",
       "<tr>\n",
       "  <th>enginesize</th>       <td>    1.4098</td> <td>    0.208</td> <td>    6.777</td> <td> 0.000</td> <td>    0.998</td> <td>    1.821</td>\n",
       "</tr>\n",
       "<tr>\n",
       "  <th>boreratio</th>        <td>   -0.3708</td> <td>    0.066</td> <td>   -5.645</td> <td> 0.000</td> <td>   -0.501</td> <td>   -0.241</td>\n",
       "</tr>\n",
       "<tr>\n",
       "  <th>stroke</th>           <td>   -0.3548</td> <td>    0.061</td> <td>   -5.852</td> <td> 0.000</td> <td>   -0.475</td> <td>   -0.235</td>\n",
       "</tr>\n",
       "<tr>\n",
       "  <th>peakrpm</th>          <td>    0.1091</td> <td>    0.032</td> <td>    3.367</td> <td> 0.001</td> <td>    0.045</td> <td>    0.173</td>\n",
       "</tr>\n",
       "<tr>\n",
       "  <th>car_make_bmw</th>     <td>    0.2548</td> <td>    0.025</td> <td>   10.118</td> <td> 0.000</td> <td>    0.205</td> <td>    0.305</td>\n",
       "</tr>\n",
       "<tr>\n",
       "  <th>car_make_peugeot</th> <td>   -0.2716</td> <td>    0.066</td> <td>   -4.127</td> <td> 0.000</td> <td>   -0.402</td> <td>   -0.141</td>\n",
       "</tr>\n",
       "<tr>\n",
       "  <th>car_make_porsche</th> <td>    0.1178</td> <td>    0.061</td> <td>    1.941</td> <td> 0.054</td> <td>   -0.002</td> <td>    0.238</td>\n",
       "</tr>\n",
       "<tr>\n",
       "  <th>enginetype_dohcv</th> <td>    0.1829</td> <td>    0.093</td> <td>    1.970</td> <td> 0.051</td> <td>   -0.001</td> <td>    0.367</td>\n",
       "</tr>\n",
       "<tr>\n",
       "  <th>enginetype_l</th>     <td>    0.1480</td> <td>    0.060</td> <td>    2.470</td> <td> 0.015</td> <td>    0.029</td> <td>    0.267</td>\n",
       "</tr>\n",
       "<tr>\n",
       "  <th>fuelsystem_idi</th>   <td>    0.0737</td> <td>    0.022</td> <td>    3.337</td> <td> 0.001</td> <td>    0.030</td> <td>    0.117</td>\n",
       "</tr>\n",
       "</table>\n",
       "<table class=\"simpletable\">\n",
       "<tr>\n",
       "  <th>Omnibus:</th>       <td> 8.255</td> <th>  Durbin-Watson:     </th> <td>   1.927</td>\n",
       "</tr>\n",
       "<tr>\n",
       "  <th>Prob(Omnibus):</th> <td> 0.016</td> <th>  Jarque-Bera (JB):  </th> <td>  10.630</td>\n",
       "</tr>\n",
       "<tr>\n",
       "  <th>Skew:</th>          <td> 0.346</td> <th>  Prob(JB):          </th> <td> 0.00492</td>\n",
       "</tr>\n",
       "<tr>\n",
       "  <th>Kurtosis:</th>      <td> 4.142</td> <th>  Cond. No.          </th> <td>    95.0</td>\n",
       "</tr>\n",
       "</table><br/><br/>Warnings:<br/>[1] Standard Errors assume that the covariance matrix of the errors is correctly specified."
      ],
      "text/plain": [
       "<class 'statsmodels.iolib.summary.Summary'>\n",
       "\"\"\"\n",
       "                            OLS Regression Results                            \n",
       "==============================================================================\n",
       "Dep. Variable:                  price   R-squared:                       0.936\n",
       "Model:                            OLS   Adj. R-squared:                  0.929\n",
       "Method:                 Least Squares   F-statistic:                     134.1\n",
       "Date:                Mon, 26 Aug 2019   Prob (F-statistic):           2.91e-69\n",
       "Time:                        23:18:19   Log-Likelihood:                 213.70\n",
       "No. Observations:                 143   AIC:                            -397.4\n",
       "Df Residuals:                     128   BIC:                            -353.0\n",
       "Df Model:                          14                                         \n",
       "Covariance Type:            nonrobust                                         \n",
       "====================================================================================\n",
       "                       coef    std err          t      P>|t|      [0.025      0.975]\n",
       "------------------------------------------------------------------------------------\n",
       "const                0.1326      0.066      1.994      0.048       0.001       0.264\n",
       "enginelocation       0.3111      0.085      3.676      0.000       0.144       0.479\n",
       "carwidth             0.4079      0.061      6.663      0.000       0.287       0.529\n",
       "curbweight           0.2977      0.076      3.937      0.000       0.148       0.447\n",
       "cylindernumber      -1.0383      0.198     -5.249      0.000      -1.430      -0.647\n",
       "enginesize           1.4098      0.208      6.777      0.000       0.998       1.821\n",
       "boreratio           -0.3708      0.066     -5.645      0.000      -0.501      -0.241\n",
       "stroke              -0.3548      0.061     -5.852      0.000      -0.475      -0.235\n",
       "peakrpm              0.1091      0.032      3.367      0.001       0.045       0.173\n",
       "car_make_bmw         0.2548      0.025     10.118      0.000       0.205       0.305\n",
       "car_make_peugeot    -0.2716      0.066     -4.127      0.000      -0.402      -0.141\n",
       "car_make_porsche     0.1178      0.061      1.941      0.054      -0.002       0.238\n",
       "enginetype_dohcv     0.1829      0.093      1.970      0.051      -0.001       0.367\n",
       "enginetype_l         0.1480      0.060      2.470      0.015       0.029       0.267\n",
       "fuelsystem_idi       0.0737      0.022      3.337      0.001       0.030       0.117\n",
       "==============================================================================\n",
       "Omnibus:                        8.255   Durbin-Watson:                   1.927\n",
       "Prob(Omnibus):                  0.016   Jarque-Bera (JB):               10.630\n",
       "Skew:                           0.346   Prob(JB):                      0.00492\n",
       "Kurtosis:                       4.142   Cond. No.                         95.0\n",
       "==============================================================================\n",
       "\n",
       "Warnings:\n",
       "[1] Standard Errors assume that the covariance matrix of the errors is correctly specified.\n",
       "\"\"\""
      ]
     },
     "execution_count": 91,
     "metadata": {},
     "output_type": "execute_result"
    }
   ],
   "source": [
    "model3.summary()"
   ]
  },
  {
   "cell_type": "code",
   "execution_count": 92,
   "metadata": {},
   "outputs": [
    {
     "data": {
      "text/html": [
       "<div>\n",
       "<style scoped>\n",
       "    .dataframe tbody tr th:only-of-type {\n",
       "        vertical-align: middle;\n",
       "    }\n",
       "\n",
       "    .dataframe tbody tr th {\n",
       "        vertical-align: top;\n",
       "    }\n",
       "\n",
       "    .dataframe thead th {\n",
       "        text-align: right;\n",
       "    }\n",
       "</style>\n",
       "<table border=\"1\" class=\"dataframe\">\n",
       "  <thead>\n",
       "    <tr style=\"text-align: right;\">\n",
       "      <th></th>\n",
       "      <th>Features</th>\n",
       "      <th>VIF</th>\n",
       "    </tr>\n",
       "  </thead>\n",
       "  <tbody>\n",
       "    <tr>\n",
       "      <th>2</th>\n",
       "      <td>curbweight</td>\n",
       "      <td>48.25</td>\n",
       "    </tr>\n",
       "    <tr>\n",
       "      <th>4</th>\n",
       "      <td>enginesize</td>\n",
       "      <td>43.77</td>\n",
       "    </tr>\n",
       "    <tr>\n",
       "      <th>1</th>\n",
       "      <td>carwidth</td>\n",
       "      <td>39.45</td>\n",
       "    </tr>\n",
       "    <tr>\n",
       "      <th>3</th>\n",
       "      <td>cylindernumber</td>\n",
       "      <td>22.65</td>\n",
       "    </tr>\n",
       "    <tr>\n",
       "      <th>6</th>\n",
       "      <td>stroke</td>\n",
       "      <td>11.17</td>\n",
       "    </tr>\n",
       "    <tr>\n",
       "      <th>5</th>\n",
       "      <td>boreratio</td>\n",
       "      <td>10.48</td>\n",
       "    </tr>\n",
       "    <tr>\n",
       "      <th>9</th>\n",
       "      <td>car_make_peugeot</td>\n",
       "      <td>10.19</td>\n",
       "    </tr>\n",
       "    <tr>\n",
       "      <th>12</th>\n",
       "      <td>enginetype_l</td>\n",
       "      <td>9.42</td>\n",
       "    </tr>\n",
       "    <tr>\n",
       "      <th>7</th>\n",
       "      <td>peakrpm</td>\n",
       "      <td>8.48</td>\n",
       "    </tr>\n",
       "    <tr>\n",
       "      <th>10</th>\n",
       "      <td>car_make_porsche</td>\n",
       "      <td>3.35</td>\n",
       "    </tr>\n",
       "    <tr>\n",
       "      <th>0</th>\n",
       "      <td>enginelocation</td>\n",
       "      <td>2.17</td>\n",
       "    </tr>\n",
       "    <tr>\n",
       "      <th>11</th>\n",
       "      <td>enginetype_dohcv</td>\n",
       "      <td>2.14</td>\n",
       "    </tr>\n",
       "    <tr>\n",
       "      <th>13</th>\n",
       "      <td>fuelsystem_idi</td>\n",
       "      <td>1.93</td>\n",
       "    </tr>\n",
       "    <tr>\n",
       "      <th>8</th>\n",
       "      <td>car_make_bmw</td>\n",
       "      <td>1.16</td>\n",
       "    </tr>\n",
       "  </tbody>\n",
       "</table>\n",
       "</div>"
      ],
      "text/plain": [
       "            Features   VIF\n",
       "2         curbweight 48.25\n",
       "4         enginesize 43.77\n",
       "1           carwidth 39.45\n",
       "3     cylindernumber 22.65\n",
       "6             stroke 11.17\n",
       "5          boreratio 10.48\n",
       "9   car_make_peugeot 10.19\n",
       "12      enginetype_l  9.42\n",
       "7            peakrpm  8.48\n",
       "10  car_make_porsche  3.35\n",
       "0     enginelocation  2.17\n",
       "11  enginetype_dohcv  2.14\n",
       "13    fuelsystem_idi  1.93\n",
       "8       car_make_bmw  1.16"
      ]
     },
     "execution_count": 92,
     "metadata": {},
     "output_type": "execute_result"
    }
   ],
   "source": [
    "# Check VIF after dropping enginesize\n",
    "vif = pd.DataFrame()\n",
    "vif['Features'] = X_train3.columns\n",
    "vif['VIF'] = [variance_inflation_factor(X_train3.values, i) for i in range(X_train3.shape[1])]\n",
    "vif['VIF'] = round(vif['VIF'], 2) #Round off VIF to 2 decimal places\n",
    "vif = vif.sort_values(by = \"VIF\", ascending = False) #Sort ascending\n",
    "vif"
   ]
  },
  {
   "cell_type": "markdown",
   "metadata": {},
   "source": [
    "### > **Observation**: \n",
    "- Adjusted R-square is unaffected but VIF of other variables has improved.\n",
    "- curbweight is highly multicollinear and insignificant to our model"
   ]
  },
  {
   "cell_type": "markdown",
   "metadata": {},
   "source": [
    "<a id='4.4'></a>\n",
    "## Model 4 - RFE after removing curb weight"
   ]
  },
  {
   "cell_type": "code",
   "execution_count": 93,
   "metadata": {},
   "outputs": [
    {
     "name": "stderr",
     "output_type": "stream",
     "text": [
      "C:\\Users\\ksami\\AppData\\Local\\Continuum\\anaconda3\\lib\\site-packages\\numpy\\core\\fromnumeric.py:2389: FutureWarning: Method .ptp is deprecated and will be removed in a future version. Use numpy.ptp instead.\n",
      "  return ptp(axis=axis, out=out, **kwargs)\n"
     ]
    }
   ],
   "source": [
    "#Rebuild model without compression ratio\n",
    "X_train4 = X_train3.drop(['curbweight'],axis=1)\n",
    "X_train4_const = sm.add_constant(X_train4)\n",
    "model4 = sm.OLS(y_train,X_train4_const).fit()"
   ]
  },
  {
   "cell_type": "code",
   "execution_count": 94,
   "metadata": {},
   "outputs": [
    {
     "data": {
      "text/html": [
       "<table class=\"simpletable\">\n",
       "<caption>OLS Regression Results</caption>\n",
       "<tr>\n",
       "  <th>Dep. Variable:</th>          <td>price</td>      <th>  R-squared:         </th> <td>   0.928</td>\n",
       "</tr>\n",
       "<tr>\n",
       "  <th>Model:</th>                   <td>OLS</td>       <th>  Adj. R-squared:    </th> <td>   0.921</td>\n",
       "</tr>\n",
       "<tr>\n",
       "  <th>Method:</th>             <td>Least Squares</td>  <th>  F-statistic:       </th> <td>   128.8</td>\n",
       "</tr>\n",
       "<tr>\n",
       "  <th>Date:</th>             <td>Mon, 26 Aug 2019</td> <th>  Prob (F-statistic):</th> <td>3.60e-67</td>\n",
       "</tr>\n",
       "<tr>\n",
       "  <th>Time:</th>                 <td>23:18:19</td>     <th>  Log-Likelihood:    </th> <td>  205.53</td>\n",
       "</tr>\n",
       "<tr>\n",
       "  <th>No. Observations:</th>      <td>   143</td>      <th>  AIC:               </th> <td>  -383.1</td>\n",
       "</tr>\n",
       "<tr>\n",
       "  <th>Df Residuals:</th>          <td>   129</td>      <th>  BIC:               </th> <td>  -341.6</td>\n",
       "</tr>\n",
       "<tr>\n",
       "  <th>Df Model:</th>              <td>    13</td>      <th>                     </th>     <td> </td>   \n",
       "</tr>\n",
       "<tr>\n",
       "  <th>Covariance Type:</th>      <td>nonrobust</td>    <th>                     </th>     <td> </td>   \n",
       "</tr>\n",
       "</table>\n",
       "<table class=\"simpletable\">\n",
       "<tr>\n",
       "          <td></td>            <th>coef</th>     <th>std err</th>      <th>t</th>      <th>P>|t|</th>  <th>[0.025</th>    <th>0.975]</th>  \n",
       "</tr>\n",
       "<tr>\n",
       "  <th>const</th>            <td>    0.2054</td> <td>    0.067</td> <td>    3.049</td> <td> 0.003</td> <td>    0.072</td> <td>    0.339</td>\n",
       "</tr>\n",
       "<tr>\n",
       "  <th>enginelocation</th>   <td>    0.3121</td> <td>    0.089</td> <td>    3.497</td> <td> 0.001</td> <td>    0.135</td> <td>    0.489</td>\n",
       "</tr>\n",
       "<tr>\n",
       "  <th>carwidth</th>         <td>    0.5468</td> <td>    0.053</td> <td>   10.362</td> <td> 0.000</td> <td>    0.442</td> <td>    0.651</td>\n",
       "</tr>\n",
       "<tr>\n",
       "  <th>cylindernumber</th>   <td>   -1.3246</td> <td>    0.194</td> <td>   -6.827</td> <td> 0.000</td> <td>   -1.708</td> <td>   -0.941</td>\n",
       "</tr>\n",
       "<tr>\n",
       "  <th>enginesize</th>       <td>    1.8707</td> <td>    0.181</td> <td>   10.316</td> <td> 0.000</td> <td>    1.512</td> <td>    2.230</td>\n",
       "</tr>\n",
       "<tr>\n",
       "  <th>boreratio</th>        <td>   -0.4208</td> <td>    0.068</td> <td>   -6.191</td> <td> 0.000</td> <td>   -0.555</td> <td>   -0.286</td>\n",
       "</tr>\n",
       "<tr>\n",
       "  <th>stroke</th>           <td>   -0.4274</td> <td>    0.061</td> <td>   -7.018</td> <td> 0.000</td> <td>   -0.548</td> <td>   -0.307</td>\n",
       "</tr>\n",
       "<tr>\n",
       "  <th>peakrpm</th>          <td>    0.1184</td> <td>    0.034</td> <td>    3.474</td> <td> 0.001</td> <td>    0.051</td> <td>    0.186</td>\n",
       "</tr>\n",
       "<tr>\n",
       "  <th>car_make_bmw</th>     <td>    0.2593</td> <td>    0.027</td> <td>    9.773</td> <td> 0.000</td> <td>    0.207</td> <td>    0.312</td>\n",
       "</tr>\n",
       "<tr>\n",
       "  <th>car_make_peugeot</th> <td>   -0.2384</td> <td>    0.069</td> <td>   -3.463</td> <td> 0.001</td> <td>   -0.375</td> <td>   -0.102</td>\n",
       "</tr>\n",
       "<tr>\n",
       "  <th>car_make_porsche</th> <td>    0.0807</td> <td>    0.063</td> <td>    1.276</td> <td> 0.204</td> <td>   -0.044</td> <td>    0.206</td>\n",
       "</tr>\n",
       "<tr>\n",
       "  <th>enginetype_dohcv</th> <td>    0.2276</td> <td>    0.097</td> <td>    2.343</td> <td> 0.021</td> <td>    0.035</td> <td>    0.420</td>\n",
       "</tr>\n",
       "<tr>\n",
       "  <th>enginetype_l</th>     <td>    0.1402</td> <td>    0.063</td> <td>    2.219</td> <td> 0.028</td> <td>    0.015</td> <td>    0.265</td>\n",
       "</tr>\n",
       "<tr>\n",
       "  <th>fuelsystem_idi</th>   <td>    0.0859</td> <td>    0.023</td> <td>    3.721</td> <td> 0.000</td> <td>    0.040</td> <td>    0.132</td>\n",
       "</tr>\n",
       "</table>\n",
       "<table class=\"simpletable\">\n",
       "<tr>\n",
       "  <th>Omnibus:</th>       <td> 3.236</td> <th>  Durbin-Watson:     </th> <td>   1.939</td>\n",
       "</tr>\n",
       "<tr>\n",
       "  <th>Prob(Omnibus):</th> <td> 0.198</td> <th>  Jarque-Bera (JB):  </th> <td>   2.712</td>\n",
       "</tr>\n",
       "<tr>\n",
       "  <th>Skew:</th>          <td> 0.292</td> <th>  Prob(JB):          </th> <td>   0.258</td>\n",
       "</tr>\n",
       "<tr>\n",
       "  <th>Kurtosis:</th>      <td> 3.339</td> <th>  Cond. No.          </th> <td>    80.6</td>\n",
       "</tr>\n",
       "</table><br/><br/>Warnings:<br/>[1] Standard Errors assume that the covariance matrix of the errors is correctly specified."
      ],
      "text/plain": [
       "<class 'statsmodels.iolib.summary.Summary'>\n",
       "\"\"\"\n",
       "                            OLS Regression Results                            \n",
       "==============================================================================\n",
       "Dep. Variable:                  price   R-squared:                       0.928\n",
       "Model:                            OLS   Adj. R-squared:                  0.921\n",
       "Method:                 Least Squares   F-statistic:                     128.8\n",
       "Date:                Mon, 26 Aug 2019   Prob (F-statistic):           3.60e-67\n",
       "Time:                        23:18:19   Log-Likelihood:                 205.53\n",
       "No. Observations:                 143   AIC:                            -383.1\n",
       "Df Residuals:                     129   BIC:                            -341.6\n",
       "Df Model:                          13                                         \n",
       "Covariance Type:            nonrobust                                         \n",
       "====================================================================================\n",
       "                       coef    std err          t      P>|t|      [0.025      0.975]\n",
       "------------------------------------------------------------------------------------\n",
       "const                0.2054      0.067      3.049      0.003       0.072       0.339\n",
       "enginelocation       0.3121      0.089      3.497      0.001       0.135       0.489\n",
       "carwidth             0.5468      0.053     10.362      0.000       0.442       0.651\n",
       "cylindernumber      -1.3246      0.194     -6.827      0.000      -1.708      -0.941\n",
       "enginesize           1.8707      0.181     10.316      0.000       1.512       2.230\n",
       "boreratio           -0.4208      0.068     -6.191      0.000      -0.555      -0.286\n",
       "stroke              -0.4274      0.061     -7.018      0.000      -0.548      -0.307\n",
       "peakrpm              0.1184      0.034      3.474      0.001       0.051       0.186\n",
       "car_make_bmw         0.2593      0.027      9.773      0.000       0.207       0.312\n",
       "car_make_peugeot    -0.2384      0.069     -3.463      0.001      -0.375      -0.102\n",
       "car_make_porsche     0.0807      0.063      1.276      0.204      -0.044       0.206\n",
       "enginetype_dohcv     0.2276      0.097      2.343      0.021       0.035       0.420\n",
       "enginetype_l         0.1402      0.063      2.219      0.028       0.015       0.265\n",
       "fuelsystem_idi       0.0859      0.023      3.721      0.000       0.040       0.132\n",
       "==============================================================================\n",
       "Omnibus:                        3.236   Durbin-Watson:                   1.939\n",
       "Prob(Omnibus):                  0.198   Jarque-Bera (JB):                2.712\n",
       "Skew:                           0.292   Prob(JB):                        0.258\n",
       "Kurtosis:                       3.339   Cond. No.                         80.6\n",
       "==============================================================================\n",
       "\n",
       "Warnings:\n",
       "[1] Standard Errors assume that the covariance matrix of the errors is correctly specified.\n",
       "\"\"\""
      ]
     },
     "execution_count": 94,
     "metadata": {},
     "output_type": "execute_result"
    }
   ],
   "source": [
    "model4.summary()"
   ]
  },
  {
   "cell_type": "code",
   "execution_count": 95,
   "metadata": {},
   "outputs": [
    {
     "data": {
      "text/html": [
       "<div>\n",
       "<style scoped>\n",
       "    .dataframe tbody tr th:only-of-type {\n",
       "        vertical-align: middle;\n",
       "    }\n",
       "\n",
       "    .dataframe tbody tr th {\n",
       "        vertical-align: top;\n",
       "    }\n",
       "\n",
       "    .dataframe thead th {\n",
       "        text-align: right;\n",
       "    }\n",
       "</style>\n",
       "<table border=\"1\" class=\"dataframe\">\n",
       "  <thead>\n",
       "    <tr style=\"text-align: right;\">\n",
       "      <th></th>\n",
       "      <th>enginelocation</th>\n",
       "      <th>carwidth</th>\n",
       "      <th>cylindernumber</th>\n",
       "      <th>enginesize</th>\n",
       "      <th>boreratio</th>\n",
       "      <th>stroke</th>\n",
       "      <th>peakrpm</th>\n",
       "      <th>car_make_bmw</th>\n",
       "      <th>car_make_peugeot</th>\n",
       "      <th>car_make_porsche</th>\n",
       "      <th>enginetype_dohcv</th>\n",
       "      <th>enginetype_l</th>\n",
       "      <th>fuelsystem_idi</th>\n",
       "    </tr>\n",
       "    <tr>\n",
       "      <th>ID</th>\n",
       "      <th></th>\n",
       "      <th></th>\n",
       "      <th></th>\n",
       "      <th></th>\n",
       "      <th></th>\n",
       "      <th></th>\n",
       "      <th></th>\n",
       "      <th></th>\n",
       "      <th></th>\n",
       "      <th></th>\n",
       "      <th></th>\n",
       "      <th></th>\n",
       "      <th></th>\n",
       "    </tr>\n",
       "  </thead>\n",
       "  <tbody>\n",
       "    <tr>\n",
       "      <th>123</th>\n",
       "      <td>0</td>\n",
       "      <td>0.29</td>\n",
       "      <td>0.20</td>\n",
       "      <td>0.14</td>\n",
       "      <td>0.23</td>\n",
       "      <td>0.53</td>\n",
       "      <td>0.55</td>\n",
       "      <td>0</td>\n",
       "      <td>0</td>\n",
       "      <td>0</td>\n",
       "      <td>0</td>\n",
       "      <td>0</td>\n",
       "      <td>0</td>\n",
       "    </tr>\n",
       "    <tr>\n",
       "      <th>126</th>\n",
       "      <td>0</td>\n",
       "      <td>0.67</td>\n",
       "      <td>0.20</td>\n",
       "      <td>0.34</td>\n",
       "      <td>1.00</td>\n",
       "      <td>0.46</td>\n",
       "      <td>0.55</td>\n",
       "      <td>0</td>\n",
       "      <td>0</td>\n",
       "      <td>1</td>\n",
       "      <td>0</td>\n",
       "      <td>0</td>\n",
       "      <td>0</td>\n",
       "    </tr>\n",
       "    <tr>\n",
       "      <th>167</th>\n",
       "      <td>0</td>\n",
       "      <td>0.31</td>\n",
       "      <td>0.20</td>\n",
       "      <td>0.14</td>\n",
       "      <td>0.44</td>\n",
       "      <td>0.45</td>\n",
       "      <td>1.00</td>\n",
       "      <td>0</td>\n",
       "      <td>0</td>\n",
       "      <td>0</td>\n",
       "      <td>0</td>\n",
       "      <td>0</td>\n",
       "      <td>0</td>\n",
       "    </tr>\n",
       "    <tr>\n",
       "      <th>2</th>\n",
       "      <td>0</td>\n",
       "      <td>0.32</td>\n",
       "      <td>0.20</td>\n",
       "      <td>0.26</td>\n",
       "      <td>0.63</td>\n",
       "      <td>0.25</td>\n",
       "      <td>0.35</td>\n",
       "      <td>0</td>\n",
       "      <td>0</td>\n",
       "      <td>0</td>\n",
       "      <td>0</td>\n",
       "      <td>0</td>\n",
       "      <td>0</td>\n",
       "    </tr>\n",
       "    <tr>\n",
       "      <th>200</th>\n",
       "      <td>0</td>\n",
       "      <td>0.58</td>\n",
       "      <td>0.20</td>\n",
       "      <td>0.26</td>\n",
       "      <td>0.75</td>\n",
       "      <td>0.48</td>\n",
       "      <td>0.39</td>\n",
       "      <td>0</td>\n",
       "      <td>0</td>\n",
       "      <td>0</td>\n",
       "      <td>0</td>\n",
       "      <td>0</td>\n",
       "      <td>0</td>\n",
       "    </tr>\n",
       "  </tbody>\n",
       "</table>\n",
       "</div>"
      ],
      "text/plain": [
       "     enginelocation  carwidth  cylindernumber  enginesize  boreratio  stroke  \\\n",
       "ID                                                                             \n",
       "123               0      0.29            0.20        0.14       0.23    0.53   \n",
       "126               0      0.67            0.20        0.34       1.00    0.46   \n",
       "167               0      0.31            0.20        0.14       0.44    0.45   \n",
       "2                 0      0.32            0.20        0.26       0.63    0.25   \n",
       "200               0      0.58            0.20        0.26       0.75    0.48   \n",
       "\n",
       "     peakrpm  car_make_bmw  car_make_peugeot  car_make_porsche  \\\n",
       "ID                                                               \n",
       "123     0.55             0                 0                 0   \n",
       "126     0.55             0                 0                 1   \n",
       "167     1.00             0                 0                 0   \n",
       "2       0.35             0                 0                 0   \n",
       "200     0.39             0                 0                 0   \n",
       "\n",
       "     enginetype_dohcv  enginetype_l  fuelsystem_idi  \n",
       "ID                                                   \n",
       "123                 0             0               0  \n",
       "126                 0             0               0  \n",
       "167                 0             0               0  \n",
       "2                   0             0               0  \n",
       "200                 0             0               0  "
      ]
     },
     "execution_count": 95,
     "metadata": {},
     "output_type": "execute_result"
    }
   ],
   "source": [
    "X_train4.head()"
   ]
  },
  {
   "cell_type": "code",
   "execution_count": 96,
   "metadata": {},
   "outputs": [
    {
     "data": {
      "text/html": [
       "<div>\n",
       "<style scoped>\n",
       "    .dataframe tbody tr th:only-of-type {\n",
       "        vertical-align: middle;\n",
       "    }\n",
       "\n",
       "    .dataframe tbody tr th {\n",
       "        vertical-align: top;\n",
       "    }\n",
       "\n",
       "    .dataframe thead th {\n",
       "        text-align: right;\n",
       "    }\n",
       "</style>\n",
       "<table border=\"1\" class=\"dataframe\">\n",
       "  <thead>\n",
       "    <tr style=\"text-align: right;\">\n",
       "      <th></th>\n",
       "      <th>Features</th>\n",
       "      <th>VIF</th>\n",
       "    </tr>\n",
       "  </thead>\n",
       "  <tbody>\n",
       "    <tr>\n",
       "      <th>1</th>\n",
       "      <td>carwidth</td>\n",
       "      <td>26.81</td>\n",
       "    </tr>\n",
       "    <tr>\n",
       "      <th>3</th>\n",
       "      <td>enginesize</td>\n",
       "      <td>25.86</td>\n",
       "    </tr>\n",
       "    <tr>\n",
       "      <th>2</th>\n",
       "      <td>cylindernumber</td>\n",
       "      <td>20.85</td>\n",
       "    </tr>\n",
       "    <tr>\n",
       "      <th>5</th>\n",
       "      <td>stroke</td>\n",
       "      <td>10.98</td>\n",
       "    </tr>\n",
       "    <tr>\n",
       "      <th>4</th>\n",
       "      <td>boreratio</td>\n",
       "      <td>10.29</td>\n",
       "    </tr>\n",
       "    <tr>\n",
       "      <th>8</th>\n",
       "      <td>car_make_peugeot</td>\n",
       "      <td>10.12</td>\n",
       "    </tr>\n",
       "    <tr>\n",
       "      <th>11</th>\n",
       "      <td>enginetype_l</td>\n",
       "      <td>9.41</td>\n",
       "    </tr>\n",
       "    <tr>\n",
       "      <th>6</th>\n",
       "      <td>peakrpm</td>\n",
       "      <td>8.28</td>\n",
       "    </tr>\n",
       "    <tr>\n",
       "      <th>9</th>\n",
       "      <td>car_make_porsche</td>\n",
       "      <td>3.25</td>\n",
       "    </tr>\n",
       "    <tr>\n",
       "      <th>0</th>\n",
       "      <td>enginelocation</td>\n",
       "      <td>2.17</td>\n",
       "    </tr>\n",
       "    <tr>\n",
       "      <th>10</th>\n",
       "      <td>enginetype_dohcv</td>\n",
       "      <td>2.14</td>\n",
       "    </tr>\n",
       "    <tr>\n",
       "      <th>12</th>\n",
       "      <td>fuelsystem_idi</td>\n",
       "      <td>1.89</td>\n",
       "    </tr>\n",
       "    <tr>\n",
       "      <th>7</th>\n",
       "      <td>car_make_bmw</td>\n",
       "      <td>1.15</td>\n",
       "    </tr>\n",
       "  </tbody>\n",
       "</table>\n",
       "</div>"
      ],
      "text/plain": [
       "            Features   VIF\n",
       "1           carwidth 26.81\n",
       "3         enginesize 25.86\n",
       "2     cylindernumber 20.85\n",
       "5             stroke 10.98\n",
       "4          boreratio 10.29\n",
       "8   car_make_peugeot 10.12\n",
       "11      enginetype_l  9.41\n",
       "6            peakrpm  8.28\n",
       "9   car_make_porsche  3.25\n",
       "0     enginelocation  2.17\n",
       "10  enginetype_dohcv  2.14\n",
       "12    fuelsystem_idi  1.89\n",
       "7       car_make_bmw  1.15"
      ]
     },
     "execution_count": 96,
     "metadata": {},
     "output_type": "execute_result"
    }
   ],
   "source": [
    "# Check VIF now\n",
    "vif = pd.DataFrame()\n",
    "vif['Features'] = X_train4.columns\n",
    "vif['VIF'] = [variance_inflation_factor(X_train4.values, i) for i in range(X_train4.shape[1])]\n",
    "vif['VIF'] = round(vif['VIF'], 2) #Round off VIF to 2 decimal places\n",
    "vif = vif.sort_values(by = \"VIF\", ascending = False) #Sort ascending\n",
    "vif"
   ]
  },
  {
   "cell_type": "markdown",
   "metadata": {},
   "source": [
    "### > **Observation**: \n",
    "- Adjusted R-square adusted has dropped but VIF of other variables has improved. So removing it reduced multicollinearity"
   ]
  },
  {
   "cell_type": "markdown",
   "metadata": {},
   "source": [
    "> **Note:** From the dataset, we can see that Peugeot cars have enginetype_l engines and we've seen that they are highly correlated so let's remove it. Not removing car_make_peugeot because the brand is likely to impact price more than the engine type"
   ]
  },
  {
   "cell_type": "markdown",
   "metadata": {},
   "source": [
    "<a id='4.5'></a>\n",
    "## Model 5 - RFE after removing enginetype_l"
   ]
  },
  {
   "cell_type": "code",
   "execution_count": 97,
   "metadata": {},
   "outputs": [
    {
     "name": "stderr",
     "output_type": "stream",
     "text": [
      "C:\\Users\\ksami\\AppData\\Local\\Continuum\\anaconda3\\lib\\site-packages\\numpy\\core\\fromnumeric.py:2389: FutureWarning: Method .ptp is deprecated and will be removed in a future version. Use numpy.ptp instead.\n",
      "  return ptp(axis=axis, out=out, **kwargs)\n"
     ]
    }
   ],
   "source": [
    "#Rebuild modela\n",
    "X_train5 = X_train4.drop(['enginetype_l'],axis=1)\n",
    "X_train5_const = sm.add_constant(X_train5)\n",
    "model5 = sm.OLS(y_train,X_train5_const).fit()"
   ]
  },
  {
   "cell_type": "code",
   "execution_count": 98,
   "metadata": {},
   "outputs": [
    {
     "data": {
      "text/html": [
       "<table class=\"simpletable\">\n",
       "<caption>OLS Regression Results</caption>\n",
       "<tr>\n",
       "  <th>Dep. Variable:</th>          <td>price</td>      <th>  R-squared:         </th> <td>   0.926</td>\n",
       "</tr>\n",
       "<tr>\n",
       "  <th>Model:</th>                   <td>OLS</td>       <th>  Adj. R-squared:    </th> <td>   0.919</td>\n",
       "</tr>\n",
       "<tr>\n",
       "  <th>Method:</th>             <td>Least Squares</td>  <th>  F-statistic:       </th> <td>   135.0</td>\n",
       "</tr>\n",
       "<tr>\n",
       "  <th>Date:</th>             <td>Mon, 26 Aug 2019</td> <th>  Prob (F-statistic):</th> <td>3.34e-67</td>\n",
       "</tr>\n",
       "<tr>\n",
       "  <th>Time:</th>                 <td>23:18:19</td>     <th>  Log-Likelihood:    </th> <td>  202.85</td>\n",
       "</tr>\n",
       "<tr>\n",
       "  <th>No. Observations:</th>      <td>   143</td>      <th>  AIC:               </th> <td>  -379.7</td>\n",
       "</tr>\n",
       "<tr>\n",
       "  <th>Df Residuals:</th>          <td>   130</td>      <th>  BIC:               </th> <td>  -341.2</td>\n",
       "</tr>\n",
       "<tr>\n",
       "  <th>Df Model:</th>              <td>    12</td>      <th>                     </th>     <td> </td>   \n",
       "</tr>\n",
       "<tr>\n",
       "  <th>Covariance Type:</th>      <td>nonrobust</td>    <th>                     </th>     <td> </td>   \n",
       "</tr>\n",
       "</table>\n",
       "<table class=\"simpletable\">\n",
       "<tr>\n",
       "          <td></td>            <th>coef</th>     <th>std err</th>      <th>t</th>      <th>P>|t|</th>  <th>[0.025</th>    <th>0.975]</th>  \n",
       "</tr>\n",
       "<tr>\n",
       "  <th>const</th>            <td>    0.2355</td> <td>    0.067</td> <td>    3.516</td> <td> 0.001</td> <td>    0.103</td> <td>    0.368</td>\n",
       "</tr>\n",
       "<tr>\n",
       "  <th>enginelocation</th>   <td>    0.3042</td> <td>    0.091</td> <td>    3.360</td> <td> 0.001</td> <td>    0.125</td> <td>    0.483</td>\n",
       "</tr>\n",
       "<tr>\n",
       "  <th>carwidth</th>         <td>    0.5283</td> <td>    0.053</td> <td>    9.989</td> <td> 0.000</td> <td>    0.424</td> <td>    0.633</td>\n",
       "</tr>\n",
       "<tr>\n",
       "  <th>cylindernumber</th>   <td>   -1.3860</td> <td>    0.195</td> <td>   -7.111</td> <td> 0.000</td> <td>   -1.772</td> <td>   -1.000</td>\n",
       "</tr>\n",
       "<tr>\n",
       "  <th>enginesize</th>       <td>    1.9336</td> <td>    0.182</td> <td>   10.635</td> <td> 0.000</td> <td>    1.574</td> <td>    2.293</td>\n",
       "</tr>\n",
       "<tr>\n",
       "  <th>boreratio</th>        <td>   -0.4426</td> <td>    0.068</td> <td>   -6.485</td> <td> 0.000</td> <td>   -0.578</td> <td>   -0.308</td>\n",
       "</tr>\n",
       "<tr>\n",
       "  <th>stroke</th>           <td>   -0.4449</td> <td>    0.061</td> <td>   -7.258</td> <td> 0.000</td> <td>   -0.566</td> <td>   -0.324</td>\n",
       "</tr>\n",
       "<tr>\n",
       "  <th>peakrpm</th>          <td>    0.1158</td> <td>    0.035</td> <td>    3.350</td> <td> 0.001</td> <td>    0.047</td> <td>    0.184</td>\n",
       "</tr>\n",
       "<tr>\n",
       "  <th>car_make_bmw</th>     <td>    0.2588</td> <td>    0.027</td> <td>    9.608</td> <td> 0.000</td> <td>    0.205</td> <td>    0.312</td>\n",
       "</tr>\n",
       "<tr>\n",
       "  <th>car_make_peugeot</th> <td>   -0.0966</td> <td>    0.026</td> <td>   -3.717</td> <td> 0.000</td> <td>   -0.148</td> <td>   -0.045</td>\n",
       "</tr>\n",
       "<tr>\n",
       "  <th>car_make_porsche</th> <td>    0.0853</td> <td>    0.064</td> <td>    1.330</td> <td> 0.186</td> <td>   -0.042</td> <td>    0.212</td>\n",
       "</tr>\n",
       "<tr>\n",
       "  <th>enginetype_dohcv</th> <td>    0.2463</td> <td>    0.098</td> <td>    2.507</td> <td> 0.013</td> <td>    0.052</td> <td>    0.441</td>\n",
       "</tr>\n",
       "<tr>\n",
       "  <th>fuelsystem_idi</th>   <td>    0.0871</td> <td>    0.023</td> <td>    3.717</td> <td> 0.000</td> <td>    0.041</td> <td>    0.133</td>\n",
       "</tr>\n",
       "</table>\n",
       "<table class=\"simpletable\">\n",
       "<tr>\n",
       "  <th>Omnibus:</th>       <td> 4.123</td> <th>  Durbin-Watson:     </th> <td>   1.980</td>\n",
       "</tr>\n",
       "<tr>\n",
       "  <th>Prob(Omnibus):</th> <td> 0.127</td> <th>  Jarque-Bera (JB):  </th> <td>   3.602</td>\n",
       "</tr>\n",
       "<tr>\n",
       "  <th>Skew:</th>          <td> 0.358</td> <th>  Prob(JB):          </th> <td>   0.165</td>\n",
       "</tr>\n",
       "<tr>\n",
       "  <th>Kurtosis:</th>      <td> 3.302</td> <th>  Cond. No.          </th> <td>    79.4</td>\n",
       "</tr>\n",
       "</table><br/><br/>Warnings:<br/>[1] Standard Errors assume that the covariance matrix of the errors is correctly specified."
      ],
      "text/plain": [
       "<class 'statsmodels.iolib.summary.Summary'>\n",
       "\"\"\"\n",
       "                            OLS Regression Results                            \n",
       "==============================================================================\n",
       "Dep. Variable:                  price   R-squared:                       0.926\n",
       "Model:                            OLS   Adj. R-squared:                  0.919\n",
       "Method:                 Least Squares   F-statistic:                     135.0\n",
       "Date:                Mon, 26 Aug 2019   Prob (F-statistic):           3.34e-67\n",
       "Time:                        23:18:19   Log-Likelihood:                 202.85\n",
       "No. Observations:                 143   AIC:                            -379.7\n",
       "Df Residuals:                     130   BIC:                            -341.2\n",
       "Df Model:                          12                                         \n",
       "Covariance Type:            nonrobust                                         \n",
       "====================================================================================\n",
       "                       coef    std err          t      P>|t|      [0.025      0.975]\n",
       "------------------------------------------------------------------------------------\n",
       "const                0.2355      0.067      3.516      0.001       0.103       0.368\n",
       "enginelocation       0.3042      0.091      3.360      0.001       0.125       0.483\n",
       "carwidth             0.5283      0.053      9.989      0.000       0.424       0.633\n",
       "cylindernumber      -1.3860      0.195     -7.111      0.000      -1.772      -1.000\n",
       "enginesize           1.9336      0.182     10.635      0.000       1.574       2.293\n",
       "boreratio           -0.4426      0.068     -6.485      0.000      -0.578      -0.308\n",
       "stroke              -0.4449      0.061     -7.258      0.000      -0.566      -0.324\n",
       "peakrpm              0.1158      0.035      3.350      0.001       0.047       0.184\n",
       "car_make_bmw         0.2588      0.027      9.608      0.000       0.205       0.312\n",
       "car_make_peugeot    -0.0966      0.026     -3.717      0.000      -0.148      -0.045\n",
       "car_make_porsche     0.0853      0.064      1.330      0.186      -0.042       0.212\n",
       "enginetype_dohcv     0.2463      0.098      2.507      0.013       0.052       0.441\n",
       "fuelsystem_idi       0.0871      0.023      3.717      0.000       0.041       0.133\n",
       "==============================================================================\n",
       "Omnibus:                        4.123   Durbin-Watson:                   1.980\n",
       "Prob(Omnibus):                  0.127   Jarque-Bera (JB):                3.602\n",
       "Skew:                           0.358   Prob(JB):                        0.165\n",
       "Kurtosis:                       3.302   Cond. No.                         79.4\n",
       "==============================================================================\n",
       "\n",
       "Warnings:\n",
       "[1] Standard Errors assume that the covariance matrix of the errors is correctly specified.\n",
       "\"\"\""
      ]
     },
     "execution_count": 98,
     "metadata": {},
     "output_type": "execute_result"
    }
   ],
   "source": [
    "model5.summary()"
   ]
  },
  {
   "cell_type": "code",
   "execution_count": 99,
   "metadata": {},
   "outputs": [
    {
     "data": {
      "text/html": [
       "<div>\n",
       "<style scoped>\n",
       "    .dataframe tbody tr th:only-of-type {\n",
       "        vertical-align: middle;\n",
       "    }\n",
       "\n",
       "    .dataframe tbody tr th {\n",
       "        vertical-align: top;\n",
       "    }\n",
       "\n",
       "    .dataframe thead th {\n",
       "        text-align: right;\n",
       "    }\n",
       "</style>\n",
       "<table border=\"1\" class=\"dataframe\">\n",
       "  <thead>\n",
       "    <tr style=\"text-align: right;\">\n",
       "      <th></th>\n",
       "      <th>Features</th>\n",
       "      <th>VIF</th>\n",
       "    </tr>\n",
       "  </thead>\n",
       "  <tbody>\n",
       "    <tr>\n",
       "      <th>1</th>\n",
       "      <td>carwidth</td>\n",
       "      <td>26.17</td>\n",
       "    </tr>\n",
       "    <tr>\n",
       "      <th>3</th>\n",
       "      <td>enginesize</td>\n",
       "      <td>25.82</td>\n",
       "    </tr>\n",
       "    <tr>\n",
       "      <th>2</th>\n",
       "      <td>cylindernumber</td>\n",
       "      <td>20.70</td>\n",
       "    </tr>\n",
       "    <tr>\n",
       "      <th>5</th>\n",
       "      <td>stroke</td>\n",
       "      <td>10.88</td>\n",
       "    </tr>\n",
       "    <tr>\n",
       "      <th>4</th>\n",
       "      <td>boreratio</td>\n",
       "      <td>10.22</td>\n",
       "    </tr>\n",
       "    <tr>\n",
       "      <th>6</th>\n",
       "      <td>peakrpm</td>\n",
       "      <td>8.28</td>\n",
       "    </tr>\n",
       "    <tr>\n",
       "      <th>9</th>\n",
       "      <td>car_make_porsche</td>\n",
       "      <td>3.25</td>\n",
       "    </tr>\n",
       "    <tr>\n",
       "      <th>0</th>\n",
       "      <td>enginelocation</td>\n",
       "      <td>2.17</td>\n",
       "    </tr>\n",
       "    <tr>\n",
       "      <th>10</th>\n",
       "      <td>enginetype_dohcv</td>\n",
       "      <td>2.14</td>\n",
       "    </tr>\n",
       "    <tr>\n",
       "      <th>11</th>\n",
       "      <td>fuelsystem_idi</td>\n",
       "      <td>1.89</td>\n",
       "    </tr>\n",
       "    <tr>\n",
       "      <th>8</th>\n",
       "      <td>car_make_peugeot</td>\n",
       "      <td>1.41</td>\n",
       "    </tr>\n",
       "    <tr>\n",
       "      <th>7</th>\n",
       "      <td>car_make_bmw</td>\n",
       "      <td>1.15</td>\n",
       "    </tr>\n",
       "  </tbody>\n",
       "</table>\n",
       "</div>"
      ],
      "text/plain": [
       "            Features   VIF\n",
       "1           carwidth 26.17\n",
       "3         enginesize 25.82\n",
       "2     cylindernumber 20.70\n",
       "5             stroke 10.88\n",
       "4          boreratio 10.22\n",
       "6            peakrpm  8.28\n",
       "9   car_make_porsche  3.25\n",
       "0     enginelocation  2.17\n",
       "10  enginetype_dohcv  2.14\n",
       "11    fuelsystem_idi  1.89\n",
       "8   car_make_peugeot  1.41\n",
       "7       car_make_bmw  1.15"
      ]
     },
     "execution_count": 99,
     "metadata": {},
     "output_type": "execute_result"
    }
   ],
   "source": [
    "# Check VIF \n",
    "vif = pd.DataFrame()\n",
    "vif['Features'] = X_train5.columns\n",
    "vif['VIF'] = [variance_inflation_factor(X_train5.values, i) for i in range(X_train5.shape[1])]\n",
    "vif['VIF'] = round(vif['VIF'], 2) #Round off VIF to 2 decimal places\n",
    "vif = vif.sort_values(by = \"VIF\", ascending = False) #Sort ascending\n",
    "vif"
   ]
  },
  {
   "cell_type": "markdown",
   "metadata": {},
   "source": [
    "### > **Observation**: \n",
    "Adjusted R-square has dropped a bit but VIF of other variables has improved, especially that of car_make_peugeot as expected."
   ]
  },
  {
   "cell_type": "markdown",
   "metadata": {},
   "source": [
    "> **Note:** From the dataset, we could see earlier that Porsche cars has mostly enginetype_dohcv engines and we've also seen that the two are significantly correlated so let's remove one of them. Not removing car_make_porsche because the brand is likely to impact price more than the engine typem"
   ]
  },
  {
   "cell_type": "markdown",
   "metadata": {},
   "source": [
    "<a id='4.6'></a>\n",
    "## Model 6 - RFE after removing enginetype_dohcv"
   ]
  },
  {
   "cell_type": "code",
   "execution_count": 100,
   "metadata": {},
   "outputs": [
    {
     "name": "stderr",
     "output_type": "stream",
     "text": [
      "C:\\Users\\ksami\\AppData\\Local\\Continuum\\anaconda3\\lib\\site-packages\\numpy\\core\\fromnumeric.py:2389: FutureWarning: Method .ptp is deprecated and will be removed in a future version. Use numpy.ptp instead.\n",
      "  return ptp(axis=axis, out=out, **kwargs)\n"
     ]
    }
   ],
   "source": [
    "#Rebuild model\n",
    "X_train6 = X_train5.drop(['enginetype_dohcv'],axis=1)\n",
    "X_train6_const = sm.add_constant(X_train6)\n",
    "model6 = sm.OLS(y_train,X_train6_const).fit()"
   ]
  },
  {
   "cell_type": "code",
   "execution_count": 101,
   "metadata": {},
   "outputs": [
    {
     "data": {
      "text/html": [
       "<table class=\"simpletable\">\n",
       "<caption>OLS Regression Results</caption>\n",
       "<tr>\n",
       "  <th>Dep. Variable:</th>          <td>price</td>      <th>  R-squared:         </th> <td>   0.922</td>\n",
       "</tr>\n",
       "<tr>\n",
       "  <th>Model:</th>                   <td>OLS</td>       <th>  Adj. R-squared:    </th> <td>   0.916</td>\n",
       "</tr>\n",
       "<tr>\n",
       "  <th>Method:</th>             <td>Least Squares</td>  <th>  F-statistic:       </th> <td>   141.0</td>\n",
       "</tr>\n",
       "<tr>\n",
       "  <th>Date:</th>             <td>Mon, 26 Aug 2019</td> <th>  Prob (F-statistic):</th> <td>5.78e-67</td>\n",
       "</tr>\n",
       "<tr>\n",
       "  <th>Time:</th>                 <td>23:18:20</td>     <th>  Log-Likelihood:    </th> <td>  199.47</td>\n",
       "</tr>\n",
       "<tr>\n",
       "  <th>No. Observations:</th>      <td>   143</td>      <th>  AIC:               </th> <td>  -374.9</td>\n",
       "</tr>\n",
       "<tr>\n",
       "  <th>Df Residuals:</th>          <td>   131</td>      <th>  BIC:               </th> <td>  -339.4</td>\n",
       "</tr>\n",
       "<tr>\n",
       "  <th>Df Model:</th>              <td>    11</td>      <th>                     </th>     <td> </td>   \n",
       "</tr>\n",
       "<tr>\n",
       "  <th>Covariance Type:</th>      <td>nonrobust</td>    <th>                     </th>     <td> </td>   \n",
       "</tr>\n",
       "</table>\n",
       "<table class=\"simpletable\">\n",
       "<tr>\n",
       "          <td></td>            <th>coef</th>     <th>std err</th>      <th>t</th>      <th>P>|t|</th>  <th>[0.025</th>    <th>0.975]</th>  \n",
       "</tr>\n",
       "<tr>\n",
       "  <th>const</th>            <td>    0.1675</td> <td>    0.062</td> <td>    2.681</td> <td> 0.008</td> <td>    0.044</td> <td>    0.291</td>\n",
       "</tr>\n",
       "<tr>\n",
       "  <th>enginelocation</th>   <td>    0.2111</td> <td>    0.084</td> <td>    2.507</td> <td> 0.013</td> <td>    0.045</td> <td>    0.378</td>\n",
       "</tr>\n",
       "<tr>\n",
       "  <th>carwidth</th>         <td>    0.5374</td> <td>    0.054</td> <td>    9.987</td> <td> 0.000</td> <td>    0.431</td> <td>    0.644</td>\n",
       "</tr>\n",
       "<tr>\n",
       "  <th>cylindernumber</th>   <td>   -1.1678</td> <td>    0.178</td> <td>   -6.565</td> <td> 0.000</td> <td>   -1.520</td> <td>   -0.816</td>\n",
       "</tr>\n",
       "<tr>\n",
       "  <th>enginesize</th>       <td>    1.7439</td> <td>    0.169</td> <td>   10.342</td> <td> 0.000</td> <td>    1.410</td> <td>    2.077</td>\n",
       "</tr>\n",
       "<tr>\n",
       "  <th>boreratio</th>        <td>   -0.3842</td> <td>    0.065</td> <td>   -5.872</td> <td> 0.000</td> <td>   -0.514</td> <td>   -0.255</td>\n",
       "</tr>\n",
       "<tr>\n",
       "  <th>stroke</th>           <td>   -0.3963</td> <td>    0.059</td> <td>   -6.681</td> <td> 0.000</td> <td>   -0.514</td> <td>   -0.279</td>\n",
       "</tr>\n",
       "<tr>\n",
       "  <th>peakrpm</th>          <td>    0.1210</td> <td>    0.035</td> <td>    3.438</td> <td> 0.001</td> <td>    0.051</td> <td>    0.191</td>\n",
       "</tr>\n",
       "<tr>\n",
       "  <th>car_make_bmw</th>     <td>    0.2580</td> <td>    0.027</td> <td>    9.392</td> <td> 0.000</td> <td>    0.204</td> <td>    0.312</td>\n",
       "</tr>\n",
       "<tr>\n",
       "  <th>car_make_peugeot</th> <td>   -0.0929</td> <td>    0.026</td> <td>   -3.511</td> <td> 0.001</td> <td>   -0.145</td> <td>   -0.041</td>\n",
       "</tr>\n",
       "<tr>\n",
       "  <th>car_make_porsche</th> <td>    0.1804</td> <td>    0.053</td> <td>    3.418</td> <td> 0.001</td> <td>    0.076</td> <td>    0.285</td>\n",
       "</tr>\n",
       "<tr>\n",
       "  <th>fuelsystem_idi</th>   <td>    0.0873</td> <td>    0.024</td> <td>    3.656</td> <td> 0.000</td> <td>    0.040</td> <td>    0.135</td>\n",
       "</tr>\n",
       "</table>\n",
       "<table class=\"simpletable\">\n",
       "<tr>\n",
       "  <th>Omnibus:</th>       <td> 3.664</td> <th>  Durbin-Watson:     </th> <td>   2.056</td>\n",
       "</tr>\n",
       "<tr>\n",
       "  <th>Prob(Omnibus):</th> <td> 0.160</td> <th>  Jarque-Bera (JB):  </th> <td>   3.191</td>\n",
       "</tr>\n",
       "<tr>\n",
       "  <th>Skew:</th>          <td> 0.349</td> <th>  Prob(JB):          </th> <td>   0.203</td>\n",
       "</tr>\n",
       "<tr>\n",
       "  <th>Kurtosis:</th>      <td> 3.222</td> <th>  Cond. No.          </th> <td>    71.2</td>\n",
       "</tr>\n",
       "</table><br/><br/>Warnings:<br/>[1] Standard Errors assume that the covariance matrix of the errors is correctly specified."
      ],
      "text/plain": [
       "<class 'statsmodels.iolib.summary.Summary'>\n",
       "\"\"\"\n",
       "                            OLS Regression Results                            \n",
       "==============================================================================\n",
       "Dep. Variable:                  price   R-squared:                       0.922\n",
       "Model:                            OLS   Adj. R-squared:                  0.916\n",
       "Method:                 Least Squares   F-statistic:                     141.0\n",
       "Date:                Mon, 26 Aug 2019   Prob (F-statistic):           5.78e-67\n",
       "Time:                        23:18:20   Log-Likelihood:                 199.47\n",
       "No. Observations:                 143   AIC:                            -374.9\n",
       "Df Residuals:                     131   BIC:                            -339.4\n",
       "Df Model:                          11                                         \n",
       "Covariance Type:            nonrobust                                         \n",
       "====================================================================================\n",
       "                       coef    std err          t      P>|t|      [0.025      0.975]\n",
       "------------------------------------------------------------------------------------\n",
       "const                0.1675      0.062      2.681      0.008       0.044       0.291\n",
       "enginelocation       0.2111      0.084      2.507      0.013       0.045       0.378\n",
       "carwidth             0.5374      0.054      9.987      0.000       0.431       0.644\n",
       "cylindernumber      -1.1678      0.178     -6.565      0.000      -1.520      -0.816\n",
       "enginesize           1.7439      0.169     10.342      0.000       1.410       2.077\n",
       "boreratio           -0.3842      0.065     -5.872      0.000      -0.514      -0.255\n",
       "stroke              -0.3963      0.059     -6.681      0.000      -0.514      -0.279\n",
       "peakrpm              0.1210      0.035      3.438      0.001       0.051       0.191\n",
       "car_make_bmw         0.2580      0.027      9.392      0.000       0.204       0.312\n",
       "car_make_peugeot    -0.0929      0.026     -3.511      0.001      -0.145      -0.041\n",
       "car_make_porsche     0.1804      0.053      3.418      0.001       0.076       0.285\n",
       "fuelsystem_idi       0.0873      0.024      3.656      0.000       0.040       0.135\n",
       "==============================================================================\n",
       "Omnibus:                        3.664   Durbin-Watson:                   2.056\n",
       "Prob(Omnibus):                  0.160   Jarque-Bera (JB):                3.191\n",
       "Skew:                           0.349   Prob(JB):                        0.203\n",
       "Kurtosis:                       3.222   Cond. No.                         71.2\n",
       "==============================================================================\n",
       "\n",
       "Warnings:\n",
       "[1] Standard Errors assume that the covariance matrix of the errors is correctly specified.\n",
       "\"\"\""
      ]
     },
     "execution_count": 101,
     "metadata": {},
     "output_type": "execute_result"
    }
   ],
   "source": [
    "model6.summary()"
   ]
  },
  {
   "cell_type": "code",
   "execution_count": 102,
   "metadata": {},
   "outputs": [
    {
     "data": {
      "text/html": [
       "<div>\n",
       "<style scoped>\n",
       "    .dataframe tbody tr th:only-of-type {\n",
       "        vertical-align: middle;\n",
       "    }\n",
       "\n",
       "    .dataframe tbody tr th {\n",
       "        vertical-align: top;\n",
       "    }\n",
       "\n",
       "    .dataframe thead th {\n",
       "        text-align: right;\n",
       "    }\n",
       "</style>\n",
       "<table border=\"1\" class=\"dataframe\">\n",
       "  <thead>\n",
       "    <tr style=\"text-align: right;\">\n",
       "      <th></th>\n",
       "      <th>Features</th>\n",
       "      <th>VIF</th>\n",
       "    </tr>\n",
       "  </thead>\n",
       "  <tbody>\n",
       "    <tr>\n",
       "      <th>1</th>\n",
       "      <td>carwidth</td>\n",
       "      <td>26.02</td>\n",
       "    </tr>\n",
       "    <tr>\n",
       "      <th>3</th>\n",
       "      <td>enginesize</td>\n",
       "      <td>25.28</td>\n",
       "    </tr>\n",
       "    <tr>\n",
       "      <th>2</th>\n",
       "      <td>cylindernumber</td>\n",
       "      <td>19.81</td>\n",
       "    </tr>\n",
       "    <tr>\n",
       "      <th>5</th>\n",
       "      <td>stroke</td>\n",
       "      <td>10.81</td>\n",
       "    </tr>\n",
       "    <tr>\n",
       "      <th>4</th>\n",
       "      <td>boreratio</td>\n",
       "      <td>10.19</td>\n",
       "    </tr>\n",
       "    <tr>\n",
       "      <th>6</th>\n",
       "      <td>peakrpm</td>\n",
       "      <td>8.25</td>\n",
       "    </tr>\n",
       "    <tr>\n",
       "      <th>10</th>\n",
       "      <td>fuelsystem_idi</td>\n",
       "      <td>1.89</td>\n",
       "    </tr>\n",
       "    <tr>\n",
       "      <th>9</th>\n",
       "      <td>car_make_porsche</td>\n",
       "      <td>1.71</td>\n",
       "    </tr>\n",
       "    <tr>\n",
       "      <th>0</th>\n",
       "      <td>enginelocation</td>\n",
       "      <td>1.69</td>\n",
       "    </tr>\n",
       "    <tr>\n",
       "      <th>8</th>\n",
       "      <td>car_make_peugeot</td>\n",
       "      <td>1.41</td>\n",
       "    </tr>\n",
       "    <tr>\n",
       "      <th>7</th>\n",
       "      <td>car_make_bmw</td>\n",
       "      <td>1.15</td>\n",
       "    </tr>\n",
       "  </tbody>\n",
       "</table>\n",
       "</div>"
      ],
      "text/plain": [
       "            Features   VIF\n",
       "1           carwidth 26.02\n",
       "3         enginesize 25.28\n",
       "2     cylindernumber 19.81\n",
       "5             stroke 10.81\n",
       "4          boreratio 10.19\n",
       "6            peakrpm  8.25\n",
       "10    fuelsystem_idi  1.89\n",
       "9   car_make_porsche  1.71\n",
       "0     enginelocation  1.69\n",
       "8   car_make_peugeot  1.41\n",
       "7       car_make_bmw  1.15"
      ]
     },
     "execution_count": 102,
     "metadata": {},
     "output_type": "execute_result"
    }
   ],
   "source": [
    "# Check VIF \n",
    "vif = pd.DataFrame()\n",
    "vif['Features'] = X_train6.columns\n",
    "vif['VIF'] = [variance_inflation_factor(X_train6.values, i) for i in range(X_train6.shape[1])]\n",
    "vif['VIF'] = round(vif['VIF'], 2) #Round off VIF to 2 decimal places\n",
    "vif = vif.sort_values(by = \"VIF\", ascending = False) #Sort ascending\n",
    "vif"
   ]
  },
  {
   "cell_type": "markdown",
   "metadata": {},
   "source": [
    "> **Observation**: \n",
    "- Adjusted R-square has dropped. \n",
    "- VIF of other variables has improved especially for car_make_porsche as expected\n",
    "- Therefore, removing enginetype_dohcv reduced multicollinearity"
   ]
  },
  {
   "cell_type": "markdown",
   "metadata": {},
   "source": [
    ">**Note:** From here onwards, we will follow a specific approach to dealing with multicollinearity. As I've learnt through some iterations, dropping variables in decreasing order of VIF leads to several *interactions issues* when those high VIF variables are highly correlated to the target variable. Also, we are aiming to predict and explain relationship and not forecast. \n",
    "\n",
    "> Therefore, I will remove variables that are correlated with others as found in earlier correlation analysis but ones that also have relatively low correlation to price."
   ]
  },
  {
   "cell_type": "markdown",
   "metadata": {},
   "source": [
    "<a id='4.7'></a>\n",
    "## Model 7 - RFE after removing stroke"
   ]
  },
  {
   "cell_type": "code",
   "execution_count": 103,
   "metadata": {},
   "outputs": [
    {
     "name": "stderr",
     "output_type": "stream",
     "text": [
      "C:\\Users\\ksami\\AppData\\Local\\Continuum\\anaconda3\\lib\\site-packages\\numpy\\core\\fromnumeric.py:2389: FutureWarning: Method .ptp is deprecated and will be removed in a future version. Use numpy.ptp instead.\n",
      "  return ptp(axis=axis, out=out, **kwargs)\n"
     ]
    }
   ],
   "source": [
    "#Rebuild model\n",
    "X_train7 = X_train6.drop(['stroke'],axis=1)\n",
    "X_train7_const = sm.add_constant(X_train7)\n",
    "model7 = sm.OLS(y_train,X_train7_const).fit()"
   ]
  },
  {
   "cell_type": "code",
   "execution_count": 104,
   "metadata": {},
   "outputs": [
    {
     "data": {
      "text/html": [
       "<table class=\"simpletable\">\n",
       "<caption>OLS Regression Results</caption>\n",
       "<tr>\n",
       "  <th>Dep. Variable:</th>          <td>price</td>      <th>  R-squared:         </th> <td>   0.896</td>\n",
       "</tr>\n",
       "<tr>\n",
       "  <th>Model:</th>                   <td>OLS</td>       <th>  Adj. R-squared:    </th> <td>   0.888</td>\n",
       "</tr>\n",
       "<tr>\n",
       "  <th>Method:</th>             <td>Least Squares</td>  <th>  F-statistic:       </th> <td>   113.2</td>\n",
       "</tr>\n",
       "<tr>\n",
       "  <th>Date:</th>             <td>Mon, 26 Aug 2019</td> <th>  Prob (F-statistic):</th> <td>1.02e-59</td>\n",
       "</tr>\n",
       "<tr>\n",
       "  <th>Time:</th>                 <td>23:18:20</td>     <th>  Log-Likelihood:    </th> <td>  178.50</td>\n",
       "</tr>\n",
       "<tr>\n",
       "  <th>No. Observations:</th>      <td>   143</td>      <th>  AIC:               </th> <td>  -335.0</td>\n",
       "</tr>\n",
       "<tr>\n",
       "  <th>Df Residuals:</th>          <td>   132</td>      <th>  BIC:               </th> <td>  -302.4</td>\n",
       "</tr>\n",
       "<tr>\n",
       "  <th>Df Model:</th>              <td>    10</td>      <th>                     </th>     <td> </td>   \n",
       "</tr>\n",
       "<tr>\n",
       "  <th>Covariance Type:</th>      <td>nonrobust</td>    <th>                     </th>     <td> </td>   \n",
       "</tr>\n",
       "</table>\n",
       "<table class=\"simpletable\">\n",
       "<tr>\n",
       "          <td></td>            <th>coef</th>     <th>std err</th>      <th>t</th>      <th>P>|t|</th>  <th>[0.025</th>    <th>0.975]</th>  \n",
       "</tr>\n",
       "<tr>\n",
       "  <th>const</th>            <td>   -0.1889</td> <td>    0.038</td> <td>   -5.035</td> <td> 0.000</td> <td>   -0.263</td> <td>   -0.115</td>\n",
       "</tr>\n",
       "<tr>\n",
       "  <th>enginelocation</th>   <td>    0.3397</td> <td>    0.095</td> <td>    3.592</td> <td> 0.000</td> <td>    0.153</td> <td>    0.527</td>\n",
       "</tr>\n",
       "<tr>\n",
       "  <th>carwidth</th>         <td>    0.4913</td> <td>    0.062</td> <td>    7.982</td> <td> 0.000</td> <td>    0.370</td> <td>    0.613</td>\n",
       "</tr>\n",
       "<tr>\n",
       "  <th>cylindernumber</th>   <td>   -0.2739</td> <td>    0.135</td> <td>   -2.026</td> <td> 0.045</td> <td>   -0.541</td> <td>   -0.006</td>\n",
       "</tr>\n",
       "<tr>\n",
       "  <th>enginesize</th>       <td>    0.8940</td> <td>    0.128</td> <td>    7.002</td> <td> 0.000</td> <td>    0.641</td> <td>    1.146</td>\n",
       "</tr>\n",
       "<tr>\n",
       "  <th>boreratio</th>        <td>   -0.0608</td> <td>    0.051</td> <td>   -1.197</td> <td> 0.234</td> <td>   -0.161</td> <td>    0.040</td>\n",
       "</tr>\n",
       "<tr>\n",
       "  <th>peakrpm</th>          <td>    0.1117</td> <td>    0.041</td> <td>    2.754</td> <td> 0.007</td> <td>    0.031</td> <td>    0.192</td>\n",
       "</tr>\n",
       "<tr>\n",
       "  <th>car_make_bmw</th>     <td>    0.2656</td> <td>    0.032</td> <td>    8.390</td> <td> 0.000</td> <td>    0.203</td> <td>    0.328</td>\n",
       "</tr>\n",
       "<tr>\n",
       "  <th>car_make_peugeot</th> <td>   -0.0669</td> <td>    0.030</td> <td>   -2.217</td> <td> 0.028</td> <td>   -0.127</td> <td>   -0.007</td>\n",
       "</tr>\n",
       "<tr>\n",
       "  <th>car_make_porsche</th> <td>    0.0877</td> <td>    0.059</td> <td>    1.493</td> <td> 0.138</td> <td>   -0.028</td> <td>    0.204</td>\n",
       "</tr>\n",
       "<tr>\n",
       "  <th>fuelsystem_idi</th>   <td>    0.0598</td> <td>    0.027</td> <td>    2.203</td> <td> 0.029</td> <td>    0.006</td> <td>    0.113</td>\n",
       "</tr>\n",
       "</table>\n",
       "<table class=\"simpletable\">\n",
       "<tr>\n",
       "  <th>Omnibus:</th>       <td> 5.205</td> <th>  Durbin-Watson:     </th> <td>   2.027</td>\n",
       "</tr>\n",
       "<tr>\n",
       "  <th>Prob(Omnibus):</th> <td> 0.074</td> <th>  Jarque-Bera (JB):  </th> <td>   4.757</td>\n",
       "</tr>\n",
       "<tr>\n",
       "  <th>Skew:</th>          <td> 0.430</td> <th>  Prob(JB):          </th> <td>  0.0927</td>\n",
       "</tr>\n",
       "<tr>\n",
       "  <th>Kurtosis:</th>      <td> 3.244</td> <th>  Cond. No.          </th> <td>    41.0</td>\n",
       "</tr>\n",
       "</table><br/><br/>Warnings:<br/>[1] Standard Errors assume that the covariance matrix of the errors is correctly specified."
      ],
      "text/plain": [
       "<class 'statsmodels.iolib.summary.Summary'>\n",
       "\"\"\"\n",
       "                            OLS Regression Results                            \n",
       "==============================================================================\n",
       "Dep. Variable:                  price   R-squared:                       0.896\n",
       "Model:                            OLS   Adj. R-squared:                  0.888\n",
       "Method:                 Least Squares   F-statistic:                     113.2\n",
       "Date:                Mon, 26 Aug 2019   Prob (F-statistic):           1.02e-59\n",
       "Time:                        23:18:20   Log-Likelihood:                 178.50\n",
       "No. Observations:                 143   AIC:                            -335.0\n",
       "Df Residuals:                     132   BIC:                            -302.4\n",
       "Df Model:                          10                                         \n",
       "Covariance Type:            nonrobust                                         \n",
       "====================================================================================\n",
       "                       coef    std err          t      P>|t|      [0.025      0.975]\n",
       "------------------------------------------------------------------------------------\n",
       "const               -0.1889      0.038     -5.035      0.000      -0.263      -0.115\n",
       "enginelocation       0.3397      0.095      3.592      0.000       0.153       0.527\n",
       "carwidth             0.4913      0.062      7.982      0.000       0.370       0.613\n",
       "cylindernumber      -0.2739      0.135     -2.026      0.045      -0.541      -0.006\n",
       "enginesize           0.8940      0.128      7.002      0.000       0.641       1.146\n",
       "boreratio           -0.0608      0.051     -1.197      0.234      -0.161       0.040\n",
       "peakrpm              0.1117      0.041      2.754      0.007       0.031       0.192\n",
       "car_make_bmw         0.2656      0.032      8.390      0.000       0.203       0.328\n",
       "car_make_peugeot    -0.0669      0.030     -2.217      0.028      -0.127      -0.007\n",
       "car_make_porsche     0.0877      0.059      1.493      0.138      -0.028       0.204\n",
       "fuelsystem_idi       0.0598      0.027      2.203      0.029       0.006       0.113\n",
       "==============================================================================\n",
       "Omnibus:                        5.205   Durbin-Watson:                   2.027\n",
       "Prob(Omnibus):                  0.074   Jarque-Bera (JB):                4.757\n",
       "Skew:                           0.430   Prob(JB):                       0.0927\n",
       "Kurtosis:                       3.244   Cond. No.                         41.0\n",
       "==============================================================================\n",
       "\n",
       "Warnings:\n",
       "[1] Standard Errors assume that the covariance matrix of the errors is correctly specified.\n",
       "\"\"\""
      ]
     },
     "execution_count": 104,
     "metadata": {},
     "output_type": "execute_result"
    }
   ],
   "source": [
    "model7.summary()"
   ]
  },
  {
   "cell_type": "code",
   "execution_count": 105,
   "metadata": {},
   "outputs": [
    {
     "data": {
      "text/html": [
       "<div>\n",
       "<style scoped>\n",
       "    .dataframe tbody tr th:only-of-type {\n",
       "        vertical-align: middle;\n",
       "    }\n",
       "\n",
       "    .dataframe tbody tr th {\n",
       "        vertical-align: top;\n",
       "    }\n",
       "\n",
       "    .dataframe thead th {\n",
       "        text-align: right;\n",
       "    }\n",
       "</style>\n",
       "<table border=\"1\" class=\"dataframe\">\n",
       "  <thead>\n",
       "    <tr style=\"text-align: right;\">\n",
       "      <th></th>\n",
       "      <th>Features</th>\n",
       "      <th>VIF</th>\n",
       "    </tr>\n",
       "  </thead>\n",
       "  <tbody>\n",
       "    <tr>\n",
       "      <th>1</th>\n",
       "      <td>carwidth</td>\n",
       "      <td>25.02</td>\n",
       "    </tr>\n",
       "    <tr>\n",
       "      <th>3</th>\n",
       "      <td>enginesize</td>\n",
       "      <td>24.81</td>\n",
       "    </tr>\n",
       "    <tr>\n",
       "      <th>2</th>\n",
       "      <td>cylindernumber</td>\n",
       "      <td>19.79</td>\n",
       "    </tr>\n",
       "    <tr>\n",
       "      <th>4</th>\n",
       "      <td>boreratio</td>\n",
       "      <td>10.17</td>\n",
       "    </tr>\n",
       "    <tr>\n",
       "      <th>5</th>\n",
       "      <td>peakrpm</td>\n",
       "      <td>5.70</td>\n",
       "    </tr>\n",
       "    <tr>\n",
       "      <th>0</th>\n",
       "      <td>enginelocation</td>\n",
       "      <td>1.68</td>\n",
       "    </tr>\n",
       "    <tr>\n",
       "      <th>9</th>\n",
       "      <td>fuelsystem_idi</td>\n",
       "      <td>1.62</td>\n",
       "    </tr>\n",
       "    <tr>\n",
       "      <th>8</th>\n",
       "      <td>car_make_porsche</td>\n",
       "      <td>1.61</td>\n",
       "    </tr>\n",
       "    <tr>\n",
       "      <th>7</th>\n",
       "      <td>car_make_peugeot</td>\n",
       "      <td>1.39</td>\n",
       "    </tr>\n",
       "    <tr>\n",
       "      <th>6</th>\n",
       "      <td>car_make_bmw</td>\n",
       "      <td>1.15</td>\n",
       "    </tr>\n",
       "  </tbody>\n",
       "</table>\n",
       "</div>"
      ],
      "text/plain": [
       "           Features   VIF\n",
       "1          carwidth 25.02\n",
       "3        enginesize 24.81\n",
       "2    cylindernumber 19.79\n",
       "4         boreratio 10.17\n",
       "5           peakrpm  5.70\n",
       "0    enginelocation  1.68\n",
       "9    fuelsystem_idi  1.62\n",
       "8  car_make_porsche  1.61\n",
       "7  car_make_peugeot  1.39\n",
       "6      car_make_bmw  1.15"
      ]
     },
     "execution_count": 105,
     "metadata": {},
     "output_type": "execute_result"
    }
   ],
   "source": [
    "# Check VIF \n",
    "vif = pd.DataFrame()\n",
    "vif['Features'] = X_train7.columns\n",
    "vif['VIF'] = [variance_inflation_factor(X_train7.values, i) for i in range(X_train7.shape[1])]\n",
    "vif['VIF'] = round(vif['VIF'], 2) #Round off VIF to 2 decimal places\n",
    "vif = vif.sort_values(by = \"VIF\", ascending = False) #Sort ascending\n",
    "vif"
   ]
  },
  {
   "cell_type": "markdown",
   "metadata": {},
   "source": [
    "> **Observation**: \n",
    "- Adjusted R-square has dropped marginally\n",
    "- VIF of other variables has improved significantly.\n",
    "- Therefore removing variable has reduced multicollinearity"
   ]
  },
  {
   "cell_type": "markdown",
   "metadata": {},
   "source": [
    "<a id='4.8'></a>\n",
    "## Model 8 - RFE after removing boreratio"
   ]
  },
  {
   "cell_type": "code",
   "execution_count": 106,
   "metadata": {},
   "outputs": [
    {
     "name": "stderr",
     "output_type": "stream",
     "text": [
      "C:\\Users\\ksami\\AppData\\Local\\Continuum\\anaconda3\\lib\\site-packages\\numpy\\core\\fromnumeric.py:2389: FutureWarning: Method .ptp is deprecated and will be removed in a future version. Use numpy.ptp instead.\n",
      "  return ptp(axis=axis, out=out, **kwargs)\n"
     ]
    }
   ],
   "source": [
    "#Rebuild model\n",
    "X_train8 = X_train7.drop(['boreratio'],axis=1)\n",
    "X_train8_const = sm.add_constant(X_train8)\n",
    "model8 = sm.OLS(y_train,X_train8_const).fit()"
   ]
  },
  {
   "cell_type": "code",
   "execution_count": 107,
   "metadata": {},
   "outputs": [
    {
     "data": {
      "text/html": [
       "<table class=\"simpletable\">\n",
       "<caption>OLS Regression Results</caption>\n",
       "<tr>\n",
       "  <th>Dep. Variable:</th>          <td>price</td>      <th>  R-squared:         </th> <td>   0.894</td>\n",
       "</tr>\n",
       "<tr>\n",
       "  <th>Model:</th>                   <td>OLS</td>       <th>  Adj. R-squared:    </th> <td>   0.887</td>\n",
       "</tr>\n",
       "<tr>\n",
       "  <th>Method:</th>             <td>Least Squares</td>  <th>  F-statistic:       </th> <td>   125.3</td>\n",
       "</tr>\n",
       "<tr>\n",
       "  <th>Date:</th>             <td>Mon, 26 Aug 2019</td> <th>  Prob (F-statistic):</th> <td>1.79e-60</td>\n",
       "</tr>\n",
       "<tr>\n",
       "  <th>Time:</th>                 <td>23:18:20</td>     <th>  Log-Likelihood:    </th> <td>  177.73</td>\n",
       "</tr>\n",
       "<tr>\n",
       "  <th>No. Observations:</th>      <td>   143</td>      <th>  AIC:               </th> <td>  -335.5</td>\n",
       "</tr>\n",
       "<tr>\n",
       "  <th>Df Residuals:</th>          <td>   133</td>      <th>  BIC:               </th> <td>  -305.8</td>\n",
       "</tr>\n",
       "<tr>\n",
       "  <th>Df Model:</th>              <td>     9</td>      <th>                     </th>     <td> </td>   \n",
       "</tr>\n",
       "<tr>\n",
       "  <th>Covariance Type:</th>      <td>nonrobust</td>    <th>                     </th>     <td> </td>   \n",
       "</tr>\n",
       "</table>\n",
       "<table class=\"simpletable\">\n",
       "<tr>\n",
       "          <td></td>            <th>coef</th>     <th>std err</th>      <th>t</th>      <th>P>|t|</th>  <th>[0.025</th>    <th>0.975]</th>  \n",
       "</tr>\n",
       "<tr>\n",
       "  <th>const</th>            <td>   -0.2207</td> <td>    0.026</td> <td>   -8.343</td> <td> 0.000</td> <td>   -0.273</td> <td>   -0.168</td>\n",
       "</tr>\n",
       "<tr>\n",
       "  <th>enginelocation</th>   <td>    0.3462</td> <td>    0.095</td> <td>    3.661</td> <td> 0.000</td> <td>    0.159</td> <td>    0.533</td>\n",
       "</tr>\n",
       "<tr>\n",
       "  <th>carwidth</th>         <td>    0.4757</td> <td>    0.060</td> <td>    7.895</td> <td> 0.000</td> <td>    0.357</td> <td>    0.595</td>\n",
       "</tr>\n",
       "<tr>\n",
       "  <th>cylindernumber</th>   <td>   -0.1763</td> <td>    0.108</td> <td>   -1.632</td> <td> 0.105</td> <td>   -0.390</td> <td>    0.037</td>\n",
       "</tr>\n",
       "<tr>\n",
       "  <th>enginesize</th>       <td>    0.8099</td> <td>    0.107</td> <td>    7.586</td> <td> 0.000</td> <td>    0.599</td> <td>    1.021</td>\n",
       "</tr>\n",
       "<tr>\n",
       "  <th>peakrpm</th>          <td>    0.1261</td> <td>    0.039</td> <td>    3.248</td> <td> 0.001</td> <td>    0.049</td> <td>    0.203</td>\n",
       "</tr>\n",
       "<tr>\n",
       "  <th>car_make_bmw</th>     <td>    0.2632</td> <td>    0.032</td> <td>    8.318</td> <td> 0.000</td> <td>    0.201</td> <td>    0.326</td>\n",
       "</tr>\n",
       "<tr>\n",
       "  <th>car_make_peugeot</th> <td>   -0.0710</td> <td>    0.030</td> <td>   -2.364</td> <td> 0.020</td> <td>   -0.130</td> <td>   -0.012</td>\n",
       "</tr>\n",
       "<tr>\n",
       "  <th>car_make_porsche</th> <td>    0.0609</td> <td>    0.054</td> <td>    1.120</td> <td> 0.265</td> <td>   -0.047</td> <td>    0.169</td>\n",
       "</tr>\n",
       "<tr>\n",
       "  <th>fuelsystem_idi</th>   <td>    0.0680</td> <td>    0.026</td> <td>    2.585</td> <td> 0.011</td> <td>    0.016</td> <td>    0.120</td>\n",
       "</tr>\n",
       "</table>\n",
       "<table class=\"simpletable\">\n",
       "<tr>\n",
       "  <th>Omnibus:</th>       <td> 5.014</td> <th>  Durbin-Watson:     </th> <td>   2.037</td>\n",
       "</tr>\n",
       "<tr>\n",
       "  <th>Prob(Omnibus):</th> <td> 0.081</td> <th>  Jarque-Bera (JB):  </th> <td>   4.567</td>\n",
       "</tr>\n",
       "<tr>\n",
       "  <th>Skew:</th>          <td> 0.422</td> <th>  Prob(JB):          </th> <td>   0.102</td>\n",
       "</tr>\n",
       "<tr>\n",
       "  <th>Kurtosis:</th>      <td> 3.233</td> <th>  Cond. No.          </th> <td>    30.3</td>\n",
       "</tr>\n",
       "</table><br/><br/>Warnings:<br/>[1] Standard Errors assume that the covariance matrix of the errors is correctly specified."
      ],
      "text/plain": [
       "<class 'statsmodels.iolib.summary.Summary'>\n",
       "\"\"\"\n",
       "                            OLS Regression Results                            \n",
       "==============================================================================\n",
       "Dep. Variable:                  price   R-squared:                       0.894\n",
       "Model:                            OLS   Adj. R-squared:                  0.887\n",
       "Method:                 Least Squares   F-statistic:                     125.3\n",
       "Date:                Mon, 26 Aug 2019   Prob (F-statistic):           1.79e-60\n",
       "Time:                        23:18:20   Log-Likelihood:                 177.73\n",
       "No. Observations:                 143   AIC:                            -335.5\n",
       "Df Residuals:                     133   BIC:                            -305.8\n",
       "Df Model:                           9                                         \n",
       "Covariance Type:            nonrobust                                         \n",
       "====================================================================================\n",
       "                       coef    std err          t      P>|t|      [0.025      0.975]\n",
       "------------------------------------------------------------------------------------\n",
       "const               -0.2207      0.026     -8.343      0.000      -0.273      -0.168\n",
       "enginelocation       0.3462      0.095      3.661      0.000       0.159       0.533\n",
       "carwidth             0.4757      0.060      7.895      0.000       0.357       0.595\n",
       "cylindernumber      -0.1763      0.108     -1.632      0.105      -0.390       0.037\n",
       "enginesize           0.8099      0.107      7.586      0.000       0.599       1.021\n",
       "peakrpm              0.1261      0.039      3.248      0.001       0.049       0.203\n",
       "car_make_bmw         0.2632      0.032      8.318      0.000       0.201       0.326\n",
       "car_make_peugeot    -0.0710      0.030     -2.364      0.020      -0.130      -0.012\n",
       "car_make_porsche     0.0609      0.054      1.120      0.265      -0.047       0.169\n",
       "fuelsystem_idi       0.0680      0.026      2.585      0.011       0.016       0.120\n",
       "==============================================================================\n",
       "Omnibus:                        5.014   Durbin-Watson:                   2.037\n",
       "Prob(Omnibus):                  0.081   Jarque-Bera (JB):                4.567\n",
       "Skew:                           0.422   Prob(JB):                        0.102\n",
       "Kurtosis:                       3.233   Cond. No.                         30.3\n",
       "==============================================================================\n",
       "\n",
       "Warnings:\n",
       "[1] Standard Errors assume that the covariance matrix of the errors is correctly specified.\n",
       "\"\"\""
      ]
     },
     "execution_count": 107,
     "metadata": {},
     "output_type": "execute_result"
    }
   ],
   "source": [
    "model8.summary()"
   ]
  },
  {
   "cell_type": "code",
   "execution_count": 108,
   "metadata": {},
   "outputs": [
    {
     "data": {
      "text/html": [
       "<div>\n",
       "<style scoped>\n",
       "    .dataframe tbody tr th:only-of-type {\n",
       "        vertical-align: middle;\n",
       "    }\n",
       "\n",
       "    .dataframe tbody tr th {\n",
       "        vertical-align: top;\n",
       "    }\n",
       "\n",
       "    .dataframe thead th {\n",
       "        text-align: right;\n",
       "    }\n",
       "</style>\n",
       "<table border=\"1\" class=\"dataframe\">\n",
       "  <thead>\n",
       "    <tr style=\"text-align: right;\">\n",
       "      <th></th>\n",
       "      <th>Features</th>\n",
       "      <th>VIF</th>\n",
       "    </tr>\n",
       "  </thead>\n",
       "  <tbody>\n",
       "    <tr>\n",
       "      <th>3</th>\n",
       "      <td>enginesize</td>\n",
       "      <td>23.20</td>\n",
       "    </tr>\n",
       "    <tr>\n",
       "      <th>1</th>\n",
       "      <td>carwidth</td>\n",
       "      <td>19.71</td>\n",
       "    </tr>\n",
       "    <tr>\n",
       "      <th>2</th>\n",
       "      <td>cylindernumber</td>\n",
       "      <td>18.58</td>\n",
       "    </tr>\n",
       "    <tr>\n",
       "      <th>4</th>\n",
       "      <td>peakrpm</td>\n",
       "      <td>5.39</td>\n",
       "    </tr>\n",
       "    <tr>\n",
       "      <th>0</th>\n",
       "      <td>enginelocation</td>\n",
       "      <td>1.68</td>\n",
       "    </tr>\n",
       "    <tr>\n",
       "      <th>8</th>\n",
       "      <td>fuelsystem_idi</td>\n",
       "      <td>1.62</td>\n",
       "    </tr>\n",
       "    <tr>\n",
       "      <th>7</th>\n",
       "      <td>car_make_porsche</td>\n",
       "      <td>1.59</td>\n",
       "    </tr>\n",
       "    <tr>\n",
       "      <th>6</th>\n",
       "      <td>car_make_peugeot</td>\n",
       "      <td>1.38</td>\n",
       "    </tr>\n",
       "    <tr>\n",
       "      <th>5</th>\n",
       "      <td>car_make_bmw</td>\n",
       "      <td>1.14</td>\n",
       "    </tr>\n",
       "  </tbody>\n",
       "</table>\n",
       "</div>"
      ],
      "text/plain": [
       "           Features   VIF\n",
       "3        enginesize 23.20\n",
       "1          carwidth 19.71\n",
       "2    cylindernumber 18.58\n",
       "4           peakrpm  5.39\n",
       "0    enginelocation  1.68\n",
       "8    fuelsystem_idi  1.62\n",
       "7  car_make_porsche  1.59\n",
       "6  car_make_peugeot  1.38\n",
       "5      car_make_bmw  1.14"
      ]
     },
     "execution_count": 108,
     "metadata": {},
     "output_type": "execute_result"
    }
   ],
   "source": [
    "# Check VIF \n",
    "vif = pd.DataFrame()\n",
    "vif['Features'] = X_train8.columns\n",
    "vif['VIF'] = [variance_inflation_factor(X_train8.values, i) for i in range(X_train8.shape[1])]\n",
    "vif['VIF'] = round(vif['VIF'], 2) #Round off VIF to 2 decimal places\n",
    "vif = vif.sort_values(by = \"VIF\", ascending = False) #Sort ascending\n",
    "vif"
   ]
  },
  {
   "cell_type": "markdown",
   "metadata": {},
   "source": [
    "> **Observation**: \n",
    "- Adjusted R-square has dropped although marginally. \n",
    "- VIF of other variables has improved significantly.\n",
    "- Boreration had high p-value in the previous model.\n",
    "- Therefore it was insignficant for the model and multicollinear "
   ]
  },
  {
   "cell_type": "markdown",
   "metadata": {},
   "source": [
    "<a id='4.9'></a>\n",
    "## Model 9 - RFE after removing cylindernumber"
   ]
  },
  {
   "cell_type": "code",
   "execution_count": 109,
   "metadata": {},
   "outputs": [
    {
     "name": "stderr",
     "output_type": "stream",
     "text": [
      "C:\\Users\\ksami\\AppData\\Local\\Continuum\\anaconda3\\lib\\site-packages\\numpy\\core\\fromnumeric.py:2389: FutureWarning: Method .ptp is deprecated and will be removed in a future version. Use numpy.ptp instead.\n",
      "  return ptp(axis=axis, out=out, **kwargs)\n"
     ]
    }
   ],
   "source": [
    "#Rebuild model\n",
    "X_train9 = X_train8.drop(['cylindernumber'],axis=1)\n",
    "X_train9_const = sm.add_constant(X_train9)\n",
    "model9 = sm.OLS(y_train,X_train9_const).fit()"
   ]
  },
  {
   "cell_type": "code",
   "execution_count": 110,
   "metadata": {},
   "outputs": [
    {
     "data": {
      "text/html": [
       "<table class=\"simpletable\">\n",
       "<caption>OLS Regression Results</caption>\n",
       "<tr>\n",
       "  <th>Dep. Variable:</th>          <td>price</td>      <th>  R-squared:         </th> <td>   0.892</td>\n",
       "</tr>\n",
       "<tr>\n",
       "  <th>Model:</th>                   <td>OLS</td>       <th>  Adj. R-squared:    </th> <td>   0.886</td>\n",
       "</tr>\n",
       "<tr>\n",
       "  <th>Method:</th>             <td>Least Squares</td>  <th>  F-statistic:       </th> <td>   138.9</td>\n",
       "</tr>\n",
       "<tr>\n",
       "  <th>Date:</th>             <td>Mon, 26 Aug 2019</td> <th>  Prob (F-statistic):</th> <td>5.45e-61</td>\n",
       "</tr>\n",
       "<tr>\n",
       "  <th>Time:</th>                 <td>23:18:20</td>     <th>  Log-Likelihood:    </th> <td>  176.32</td>\n",
       "</tr>\n",
       "<tr>\n",
       "  <th>No. Observations:</th>      <td>   143</td>      <th>  AIC:               </th> <td>  -334.6</td>\n",
       "</tr>\n",
       "<tr>\n",
       "  <th>Df Residuals:</th>          <td>   134</td>      <th>  BIC:               </th> <td>  -308.0</td>\n",
       "</tr>\n",
       "<tr>\n",
       "  <th>Df Model:</th>              <td>     8</td>      <th>                     </th>     <td> </td>   \n",
       "</tr>\n",
       "<tr>\n",
       "  <th>Covariance Type:</th>      <td>nonrobust</td>    <th>                     </th>     <td> </td>   \n",
       "</tr>\n",
       "</table>\n",
       "<table class=\"simpletable\">\n",
       "<tr>\n",
       "          <td></td>            <th>coef</th>     <th>std err</th>      <th>t</th>      <th>P>|t|</th>  <th>[0.025</th>    <th>0.975]</th>  \n",
       "</tr>\n",
       "<tr>\n",
       "  <th>const</th>            <td>   -0.2391</td> <td>    0.024</td> <td>   -9.918</td> <td> 0.000</td> <td>   -0.287</td> <td>   -0.191</td>\n",
       "</tr>\n",
       "<tr>\n",
       "  <th>enginelocation</th>   <td>    0.3634</td> <td>    0.095</td> <td>    3.843</td> <td> 0.000</td> <td>    0.176</td> <td>    0.550</td>\n",
       "</tr>\n",
       "<tr>\n",
       "  <th>carwidth</th>         <td>    0.4944</td> <td>    0.060</td> <td>    8.308</td> <td> 0.000</td> <td>    0.377</td> <td>    0.612</td>\n",
       "</tr>\n",
       "<tr>\n",
       "  <th>enginesize</th>       <td>    0.6779</td> <td>    0.070</td> <td>    9.665</td> <td> 0.000</td> <td>    0.539</td> <td>    0.817</td>\n",
       "</tr>\n",
       "<tr>\n",
       "  <th>peakrpm</th>          <td>    0.1222</td> <td>    0.039</td> <td>    3.134</td> <td> 0.002</td> <td>    0.045</td> <td>    0.199</td>\n",
       "</tr>\n",
       "<tr>\n",
       "  <th>car_make_bmw</th>     <td>    0.2622</td> <td>    0.032</td> <td>    8.237</td> <td> 0.000</td> <td>    0.199</td> <td>    0.325</td>\n",
       "</tr>\n",
       "<tr>\n",
       "  <th>car_make_peugeot</th> <td>   -0.0634</td> <td>    0.030</td> <td>   -2.123</td> <td> 0.036</td> <td>   -0.122</td> <td>   -0.004</td>\n",
       "</tr>\n",
       "<tr>\n",
       "  <th>car_make_porsche</th> <td>    0.0532</td> <td>    0.055</td> <td>    0.976</td> <td> 0.331</td> <td>   -0.055</td> <td>    0.161</td>\n",
       "</tr>\n",
       "<tr>\n",
       "  <th>fuelsystem_idi</th>   <td>    0.0717</td> <td>    0.026</td> <td>    2.718</td> <td> 0.007</td> <td>    0.020</td> <td>    0.124</td>\n",
       "</tr>\n",
       "</table>\n",
       "<table class=\"simpletable\">\n",
       "<tr>\n",
       "  <th>Omnibus:</th>       <td> 9.302</td> <th>  Durbin-Watson:     </th> <td>   2.030</td>\n",
       "</tr>\n",
       "<tr>\n",
       "  <th>Prob(Omnibus):</th> <td> 0.010</td> <th>  Jarque-Bera (JB):  </th> <td>   9.206</td>\n",
       "</tr>\n",
       "<tr>\n",
       "  <th>Skew:</th>          <td> 0.588</td> <th>  Prob(JB):          </th> <td>  0.0100</td>\n",
       "</tr>\n",
       "<tr>\n",
       "  <th>Kurtosis:</th>      <td> 3.405</td> <th>  Cond. No.          </th> <td>    21.6</td>\n",
       "</tr>\n",
       "</table><br/><br/>Warnings:<br/>[1] Standard Errors assume that the covariance matrix of the errors is correctly specified."
      ],
      "text/plain": [
       "<class 'statsmodels.iolib.summary.Summary'>\n",
       "\"\"\"\n",
       "                            OLS Regression Results                            \n",
       "==============================================================================\n",
       "Dep. Variable:                  price   R-squared:                       0.892\n",
       "Model:                            OLS   Adj. R-squared:                  0.886\n",
       "Method:                 Least Squares   F-statistic:                     138.9\n",
       "Date:                Mon, 26 Aug 2019   Prob (F-statistic):           5.45e-61\n",
       "Time:                        23:18:20   Log-Likelihood:                 176.32\n",
       "No. Observations:                 143   AIC:                            -334.6\n",
       "Df Residuals:                     134   BIC:                            -308.0\n",
       "Df Model:                           8                                         \n",
       "Covariance Type:            nonrobust                                         \n",
       "====================================================================================\n",
       "                       coef    std err          t      P>|t|      [0.025      0.975]\n",
       "------------------------------------------------------------------------------------\n",
       "const               -0.2391      0.024     -9.918      0.000      -0.287      -0.191\n",
       "enginelocation       0.3634      0.095      3.843      0.000       0.176       0.550\n",
       "carwidth             0.4944      0.060      8.308      0.000       0.377       0.612\n",
       "enginesize           0.6779      0.070      9.665      0.000       0.539       0.817\n",
       "peakrpm              0.1222      0.039      3.134      0.002       0.045       0.199\n",
       "car_make_bmw         0.2622      0.032      8.237      0.000       0.199       0.325\n",
       "car_make_peugeot    -0.0634      0.030     -2.123      0.036      -0.122      -0.004\n",
       "car_make_porsche     0.0532      0.055      0.976      0.331      -0.055       0.161\n",
       "fuelsystem_idi       0.0717      0.026      2.718      0.007       0.020       0.124\n",
       "==============================================================================\n",
       "Omnibus:                        9.302   Durbin-Watson:                   2.030\n",
       "Prob(Omnibus):                  0.010   Jarque-Bera (JB):                9.206\n",
       "Skew:                           0.588   Prob(JB):                       0.0100\n",
       "Kurtosis:                       3.405   Cond. No.                         21.6\n",
       "==============================================================================\n",
       "\n",
       "Warnings:\n",
       "[1] Standard Errors assume that the covariance matrix of the errors is correctly specified.\n",
       "\"\"\""
      ]
     },
     "execution_count": 110,
     "metadata": {},
     "output_type": "execute_result"
    }
   ],
   "source": [
    "model9.summary()"
   ]
  },
  {
   "cell_type": "code",
   "execution_count": 111,
   "metadata": {},
   "outputs": [
    {
     "data": {
      "text/html": [
       "<div>\n",
       "<style scoped>\n",
       "    .dataframe tbody tr th:only-of-type {\n",
       "        vertical-align: middle;\n",
       "    }\n",
       "\n",
       "    .dataframe tbody tr th {\n",
       "        vertical-align: top;\n",
       "    }\n",
       "\n",
       "    .dataframe thead th {\n",
       "        text-align: right;\n",
       "    }\n",
       "</style>\n",
       "<table border=\"1\" class=\"dataframe\">\n",
       "  <thead>\n",
       "    <tr style=\"text-align: right;\">\n",
       "      <th></th>\n",
       "      <th>Features</th>\n",
       "      <th>VIF</th>\n",
       "    </tr>\n",
       "  </thead>\n",
       "  <tbody>\n",
       "    <tr>\n",
       "      <th>1</th>\n",
       "      <td>carwidth</td>\n",
       "      <td>19.71</td>\n",
       "    </tr>\n",
       "    <tr>\n",
       "      <th>2</th>\n",
       "      <td>enginesize</td>\n",
       "      <td>10.85</td>\n",
       "    </tr>\n",
       "    <tr>\n",
       "      <th>3</th>\n",
       "      <td>peakrpm</td>\n",
       "      <td>4.45</td>\n",
       "    </tr>\n",
       "    <tr>\n",
       "      <th>0</th>\n",
       "      <td>enginelocation</td>\n",
       "      <td>1.67</td>\n",
       "    </tr>\n",
       "    <tr>\n",
       "      <th>7</th>\n",
       "      <td>fuelsystem_idi</td>\n",
       "      <td>1.62</td>\n",
       "    </tr>\n",
       "    <tr>\n",
       "      <th>6</th>\n",
       "      <td>car_make_porsche</td>\n",
       "      <td>1.59</td>\n",
       "    </tr>\n",
       "    <tr>\n",
       "      <th>5</th>\n",
       "      <td>car_make_peugeot</td>\n",
       "      <td>1.34</td>\n",
       "    </tr>\n",
       "    <tr>\n",
       "      <th>4</th>\n",
       "      <td>car_make_bmw</td>\n",
       "      <td>1.14</td>\n",
       "    </tr>\n",
       "  </tbody>\n",
       "</table>\n",
       "</div>"
      ],
      "text/plain": [
       "           Features   VIF\n",
       "1          carwidth 19.71\n",
       "2        enginesize 10.85\n",
       "3           peakrpm  4.45\n",
       "0    enginelocation  1.67\n",
       "7    fuelsystem_idi  1.62\n",
       "6  car_make_porsche  1.59\n",
       "5  car_make_peugeot  1.34\n",
       "4      car_make_bmw  1.14"
      ]
     },
     "execution_count": 111,
     "metadata": {},
     "output_type": "execute_result"
    }
   ],
   "source": [
    "# Check VIF \n",
    "vif = pd.DataFrame()\n",
    "vif['Features'] = X_train9.columns\n",
    "vif['VIF'] = [variance_inflation_factor(X_train9.values, i) for i in range(X_train9.shape[1])]\n",
    "vif['VIF'] = round(vif['VIF'], 2) #Round off VIF to 2 decimal places\n",
    "vif = vif.sort_values(by = \"VIF\", ascending = False) #Sort ascending\n",
    "vif"
   ]
  },
  {
   "cell_type": "markdown",
   "metadata": {},
   "source": [
    "> **Observation**: \n",
    "- Adjusted R-square has dropped although marginally. \n",
    "- VIF of other variables has improved significantly.\n",
    "- Cylindernumber had high p-value in the previous model. \n",
    "- Therefore it was insignficant for the model and multicollinear "
   ]
  },
  {
   "cell_type": "markdown",
   "metadata": {},
   "source": [
    "<a id='4.10'></a>\n",
    "## Model 10 - RFE after removing carwidth"
   ]
  },
  {
   "cell_type": "code",
   "execution_count": 112,
   "metadata": {},
   "outputs": [
    {
     "name": "stderr",
     "output_type": "stream",
     "text": [
      "C:\\Users\\ksami\\AppData\\Local\\Continuum\\anaconda3\\lib\\site-packages\\numpy\\core\\fromnumeric.py:2389: FutureWarning: Method .ptp is deprecated and will be removed in a future version. Use numpy.ptp instead.\n",
      "  return ptp(axis=axis, out=out, **kwargs)\n"
     ]
    }
   ],
   "source": [
    "#Rebuild model\n",
    "X_train10 = X_train9.drop(['carwidth'],axis=1)\n",
    "X_train10_const = sm.add_constant(X_train10)\n",
    "model10 = sm.OLS(y_train,X_train10_const).fit()"
   ]
  },
  {
   "cell_type": "code",
   "execution_count": 113,
   "metadata": {},
   "outputs": [
    {
     "data": {
      "text/html": [
       "<table class=\"simpletable\">\n",
       "<caption>OLS Regression Results</caption>\n",
       "<tr>\n",
       "  <th>Dep. Variable:</th>          <td>price</td>      <th>  R-squared:         </th> <td>   0.837</td>\n",
       "</tr>\n",
       "<tr>\n",
       "  <th>Model:</th>                   <td>OLS</td>       <th>  Adj. R-squared:    </th> <td>   0.828</td>\n",
       "</tr>\n",
       "<tr>\n",
       "  <th>Method:</th>             <td>Least Squares</td>  <th>  F-statistic:       </th> <td>   98.96</td>\n",
       "</tr>\n",
       "<tr>\n",
       "  <th>Date:</th>             <td>Mon, 26 Aug 2019</td> <th>  Prob (F-statistic):</th> <td>5.36e-50</td>\n",
       "</tr>\n",
       "<tr>\n",
       "  <th>Time:</th>                 <td>23:18:20</td>     <th>  Log-Likelihood:    </th> <td>  146.61</td>\n",
       "</tr>\n",
       "<tr>\n",
       "  <th>No. Observations:</th>      <td>   143</td>      <th>  AIC:               </th> <td>  -277.2</td>\n",
       "</tr>\n",
       "<tr>\n",
       "  <th>Df Residuals:</th>          <td>   135</td>      <th>  BIC:               </th> <td>  -253.5</td>\n",
       "</tr>\n",
       "<tr>\n",
       "  <th>Df Model:</th>              <td>     7</td>      <th>                     </th>     <td> </td>   \n",
       "</tr>\n",
       "<tr>\n",
       "  <th>Covariance Type:</th>      <td>nonrobust</td>    <th>                     </th>     <td> </td>   \n",
       "</tr>\n",
       "</table>\n",
       "<table class=\"simpletable\">\n",
       "<tr>\n",
       "          <td></td>            <th>coef</th>     <th>std err</th>      <th>t</th>      <th>P>|t|</th>  <th>[0.025</th>    <th>0.975]</th>  \n",
       "</tr>\n",
       "<tr>\n",
       "  <th>const</th>            <td>   -0.1580</td> <td>    0.027</td> <td>   -5.845</td> <td> 0.000</td> <td>   -0.211</td> <td>   -0.105</td>\n",
       "</tr>\n",
       "<tr>\n",
       "  <th>enginelocation</th>   <td>    0.1077</td> <td>    0.110</td> <td>    0.983</td> <td> 0.328</td> <td>   -0.109</td> <td>    0.325</td>\n",
       "</tr>\n",
       "<tr>\n",
       "  <th>enginesize</th>       <td>    1.1335</td> <td>    0.054</td> <td>   21.136</td> <td> 0.000</td> <td>    1.027</td> <td>    1.240</td>\n",
       "</tr>\n",
       "<tr>\n",
       "  <th>peakrpm</th>          <td>    0.1939</td> <td>    0.047</td> <td>    4.160</td> <td> 0.000</td> <td>    0.102</td> <td>    0.286</td>\n",
       "</tr>\n",
       "<tr>\n",
       "  <th>car_make_bmw</th>     <td>    0.2357</td> <td>    0.039</td> <td>    6.067</td> <td> 0.000</td> <td>    0.159</td> <td>    0.312</td>\n",
       "</tr>\n",
       "<tr>\n",
       "  <th>car_make_peugeot</th> <td>    0.0128</td> <td>    0.035</td> <td>    0.369</td> <td> 0.713</td> <td>   -0.056</td> <td>    0.082</td>\n",
       "</tr>\n",
       "<tr>\n",
       "  <th>car_make_porsche</th> <td>    0.1416</td> <td>    0.066</td> <td>    2.159</td> <td> 0.033</td> <td>    0.012</td> <td>    0.271</td>\n",
       "</tr>\n",
       "<tr>\n",
       "  <th>fuelsystem_idi</th>   <td>    0.1304</td> <td>    0.031</td> <td>    4.186</td> <td> 0.000</td> <td>    0.069</td> <td>    0.192</td>\n",
       "</tr>\n",
       "</table>\n",
       "<table class=\"simpletable\">\n",
       "<tr>\n",
       "  <th>Omnibus:</th>       <td>11.437</td> <th>  Durbin-Watson:     </th> <td>   1.984</td>\n",
       "</tr>\n",
       "<tr>\n",
       "  <th>Prob(Omnibus):</th> <td> 0.003</td> <th>  Jarque-Bera (JB):  </th> <td>  11.796</td>\n",
       "</tr>\n",
       "<tr>\n",
       "  <th>Skew:</th>          <td> 0.639</td> <th>  Prob(JB):          </th> <td> 0.00274</td>\n",
       "</tr>\n",
       "<tr>\n",
       "  <th>Kurtosis:</th>      <td> 3.590</td> <th>  Cond. No.          </th> <td>    17.4</td>\n",
       "</tr>\n",
       "</table><br/><br/>Warnings:<br/>[1] Standard Errors assume that the covariance matrix of the errors is correctly specified."
      ],
      "text/plain": [
       "<class 'statsmodels.iolib.summary.Summary'>\n",
       "\"\"\"\n",
       "                            OLS Regression Results                            \n",
       "==============================================================================\n",
       "Dep. Variable:                  price   R-squared:                       0.837\n",
       "Model:                            OLS   Adj. R-squared:                  0.828\n",
       "Method:                 Least Squares   F-statistic:                     98.96\n",
       "Date:                Mon, 26 Aug 2019   Prob (F-statistic):           5.36e-50\n",
       "Time:                        23:18:20   Log-Likelihood:                 146.61\n",
       "No. Observations:                 143   AIC:                            -277.2\n",
       "Df Residuals:                     135   BIC:                            -253.5\n",
       "Df Model:                           7                                         \n",
       "Covariance Type:            nonrobust                                         \n",
       "====================================================================================\n",
       "                       coef    std err          t      P>|t|      [0.025      0.975]\n",
       "------------------------------------------------------------------------------------\n",
       "const               -0.1580      0.027     -5.845      0.000      -0.211      -0.105\n",
       "enginelocation       0.1077      0.110      0.983      0.328      -0.109       0.325\n",
       "enginesize           1.1335      0.054     21.136      0.000       1.027       1.240\n",
       "peakrpm              0.1939      0.047      4.160      0.000       0.102       0.286\n",
       "car_make_bmw         0.2357      0.039      6.067      0.000       0.159       0.312\n",
       "car_make_peugeot     0.0128      0.035      0.369      0.713      -0.056       0.082\n",
       "car_make_porsche     0.1416      0.066      2.159      0.033       0.012       0.271\n",
       "fuelsystem_idi       0.1304      0.031      4.186      0.000       0.069       0.192\n",
       "==============================================================================\n",
       "Omnibus:                       11.437   Durbin-Watson:                   1.984\n",
       "Prob(Omnibus):                  0.003   Jarque-Bera (JB):               11.796\n",
       "Skew:                           0.639   Prob(JB):                      0.00274\n",
       "Kurtosis:                       3.590   Cond. No.                         17.4\n",
       "==============================================================================\n",
       "\n",
       "Warnings:\n",
       "[1] Standard Errors assume that the covariance matrix of the errors is correctly specified.\n",
       "\"\"\""
      ]
     },
     "execution_count": 113,
     "metadata": {},
     "output_type": "execute_result"
    }
   ],
   "source": [
    "model10.summary()"
   ]
  },
  {
   "cell_type": "code",
   "execution_count": 114,
   "metadata": {},
   "outputs": [
    {
     "data": {
      "text/html": [
       "<div>\n",
       "<style scoped>\n",
       "    .dataframe tbody tr th:only-of-type {\n",
       "        vertical-align: middle;\n",
       "    }\n",
       "\n",
       "    .dataframe tbody tr th {\n",
       "        vertical-align: top;\n",
       "    }\n",
       "\n",
       "    .dataframe thead th {\n",
       "        text-align: right;\n",
       "    }\n",
       "</style>\n",
       "<table border=\"1\" class=\"dataframe\">\n",
       "  <thead>\n",
       "    <tr style=\"text-align: right;\">\n",
       "      <th></th>\n",
       "      <th>Features</th>\n",
       "      <th>VIF</th>\n",
       "    </tr>\n",
       "  </thead>\n",
       "  <tbody>\n",
       "    <tr>\n",
       "      <th>1</th>\n",
       "      <td>enginesize</td>\n",
       "      <td>2.61</td>\n",
       "    </tr>\n",
       "    <tr>\n",
       "      <th>2</th>\n",
       "      <td>peakrpm</td>\n",
       "      <td>2.08</td>\n",
       "    </tr>\n",
       "    <tr>\n",
       "      <th>5</th>\n",
       "      <td>car_make_porsche</td>\n",
       "      <td>1.57</td>\n",
       "    </tr>\n",
       "    <tr>\n",
       "      <th>0</th>\n",
       "      <td>enginelocation</td>\n",
       "      <td>1.50</td>\n",
       "    </tr>\n",
       "    <tr>\n",
       "      <th>6</th>\n",
       "      <td>fuelsystem_idi</td>\n",
       "      <td>1.36</td>\n",
       "    </tr>\n",
       "    <tr>\n",
       "      <th>4</th>\n",
       "      <td>car_make_peugeot</td>\n",
       "      <td>1.20</td>\n",
       "    </tr>\n",
       "    <tr>\n",
       "      <th>3</th>\n",
       "      <td>car_make_bmw</td>\n",
       "      <td>1.13</td>\n",
       "    </tr>\n",
       "  </tbody>\n",
       "</table>\n",
       "</div>"
      ],
      "text/plain": [
       "           Features  VIF\n",
       "1        enginesize 2.61\n",
       "2           peakrpm 2.08\n",
       "5  car_make_porsche 1.57\n",
       "0    enginelocation 1.50\n",
       "6    fuelsystem_idi 1.36\n",
       "4  car_make_peugeot 1.20\n",
       "3      car_make_bmw 1.13"
      ]
     },
     "execution_count": 114,
     "metadata": {},
     "output_type": "execute_result"
    }
   ],
   "source": [
    "# Check VIF \n",
    "vif = pd.DataFrame()\n",
    "vif['Features'] = X_train10.columns\n",
    "vif['VIF'] = [variance_inflation_factor(X_train10.values, i) for i in range(X_train10.shape[1])]\n",
    "vif['VIF'] = round(vif['VIF'], 2) #Round off VIF to 2 decimal places\n",
    "vif = vif.sort_values(by = \"VIF\", ascending = False) #Sort ascending\n",
    "vif"
   ]
  },
  {
   "cell_type": "markdown",
   "metadata": {},
   "source": [
    "> **Observation**: \n",
    "- Adjusted R-square has dropped a bit\n",
    "- VIF of other variables has improved significantly.\n",
    "- Therefore variable was insignficant for the model and multicollinear "
   ]
  },
  {
   "cell_type": "markdown",
   "metadata": {},
   "source": [
    "> **Note:** Let'snow  drop car_make_peugeot given its high p-value indicating low significance"
   ]
  },
  {
   "cell_type": "markdown",
   "metadata": {},
   "source": [
    "<a id='4.11'></a>\n",
    "## Model 11 - RFE after removing car_make_peugeot"
   ]
  },
  {
   "cell_type": "code",
   "execution_count": 115,
   "metadata": {},
   "outputs": [
    {
     "name": "stderr",
     "output_type": "stream",
     "text": [
      "C:\\Users\\ksami\\AppData\\Local\\Continuum\\anaconda3\\lib\\site-packages\\numpy\\core\\fromnumeric.py:2389: FutureWarning: Method .ptp is deprecated and will be removed in a future version. Use numpy.ptp instead.\n",
      "  return ptp(axis=axis, out=out, **kwargs)\n"
     ]
    }
   ],
   "source": [
    "#Rebuild model\n",
    "X_train11 = X_train10.drop(['car_make_peugeot'],axis=1)\n",
    "X_train11_const = sm.add_constant(X_train11)\n",
    "model11 = sm.OLS(y_train,X_train11_const).fit()"
   ]
  },
  {
   "cell_type": "code",
   "execution_count": 116,
   "metadata": {},
   "outputs": [
    {
     "data": {
      "text/html": [
       "<table class=\"simpletable\">\n",
       "<caption>OLS Regression Results</caption>\n",
       "<tr>\n",
       "  <th>Dep. Variable:</th>          <td>price</td>      <th>  R-squared:         </th> <td>   0.837</td>\n",
       "</tr>\n",
       "<tr>\n",
       "  <th>Model:</th>                   <td>OLS</td>       <th>  Adj. R-squared:    </th> <td>   0.830</td>\n",
       "</tr>\n",
       "<tr>\n",
       "  <th>Method:</th>             <td>Least Squares</td>  <th>  F-statistic:       </th> <td>   116.2</td>\n",
       "</tr>\n",
       "<tr>\n",
       "  <th>Date:</th>             <td>Mon, 26 Aug 2019</td> <th>  Prob (F-statistic):</th> <td>5.09e-51</td>\n",
       "</tr>\n",
       "<tr>\n",
       "  <th>Time:</th>                 <td>23:18:20</td>     <th>  Log-Likelihood:    </th> <td>  146.54</td>\n",
       "</tr>\n",
       "<tr>\n",
       "  <th>No. Observations:</th>      <td>   143</td>      <th>  AIC:               </th> <td>  -279.1</td>\n",
       "</tr>\n",
       "<tr>\n",
       "  <th>Df Residuals:</th>          <td>   136</td>      <th>  BIC:               </th> <td>  -258.3</td>\n",
       "</tr>\n",
       "<tr>\n",
       "  <th>Df Model:</th>              <td>     6</td>      <th>                     </th>     <td> </td>   \n",
       "</tr>\n",
       "<tr>\n",
       "  <th>Covariance Type:</th>      <td>nonrobust</td>    <th>                     </th>     <td> </td>   \n",
       "</tr>\n",
       "</table>\n",
       "<table class=\"simpletable\">\n",
       "<tr>\n",
       "          <td></td>            <th>coef</th>     <th>std err</th>      <th>t</th>      <th>P>|t|</th>  <th>[0.025</th>    <th>0.975]</th>  \n",
       "</tr>\n",
       "<tr>\n",
       "  <th>const</th>            <td>   -0.1570</td> <td>    0.027</td> <td>   -5.856</td> <td> 0.000</td> <td>   -0.210</td> <td>   -0.104</td>\n",
       "</tr>\n",
       "<tr>\n",
       "  <th>enginelocation</th>   <td>    0.1079</td> <td>    0.109</td> <td>    0.987</td> <td> 0.325</td> <td>   -0.108</td> <td>    0.324</td>\n",
       "</tr>\n",
       "<tr>\n",
       "  <th>enginesize</th>       <td>    1.1338</td> <td>    0.053</td> <td>   21.215</td> <td> 0.000</td> <td>    1.028</td> <td>    1.240</td>\n",
       "</tr>\n",
       "<tr>\n",
       "  <th>peakrpm</th>          <td>    0.1924</td> <td>    0.046</td> <td>    4.157</td> <td> 0.000</td> <td>    0.101</td> <td>    0.284</td>\n",
       "</tr>\n",
       "<tr>\n",
       "  <th>car_make_bmw</th>     <td>    0.2350</td> <td>    0.039</td> <td>    6.075</td> <td> 0.000</td> <td>    0.158</td> <td>    0.311</td>\n",
       "</tr>\n",
       "<tr>\n",
       "  <th>car_make_porsche</th> <td>    0.1414</td> <td>    0.065</td> <td>    2.162</td> <td> 0.032</td> <td>    0.012</td> <td>    0.271</td>\n",
       "</tr>\n",
       "<tr>\n",
       "  <th>fuelsystem_idi</th>   <td>    0.1334</td> <td>    0.030</td> <td>    4.450</td> <td> 0.000</td> <td>    0.074</td> <td>    0.193</td>\n",
       "</tr>\n",
       "</table>\n",
       "<table class=\"simpletable\">\n",
       "<tr>\n",
       "  <th>Omnibus:</th>       <td>11.157</td> <th>  Durbin-Watson:     </th> <td>   1.976</td>\n",
       "</tr>\n",
       "<tr>\n",
       "  <th>Prob(Omnibus):</th> <td> 0.004</td> <th>  Jarque-Bera (JB):  </th> <td>  11.446</td>\n",
       "</tr>\n",
       "<tr>\n",
       "  <th>Skew:</th>          <td> 0.630</td> <th>  Prob(JB):          </th> <td> 0.00327</td>\n",
       "</tr>\n",
       "<tr>\n",
       "  <th>Kurtosis:</th>      <td> 3.577</td> <th>  Cond. No.          </th> <td>    17.4</td>\n",
       "</tr>\n",
       "</table><br/><br/>Warnings:<br/>[1] Standard Errors assume that the covariance matrix of the errors is correctly specified."
      ],
      "text/plain": [
       "<class 'statsmodels.iolib.summary.Summary'>\n",
       "\"\"\"\n",
       "                            OLS Regression Results                            \n",
       "==============================================================================\n",
       "Dep. Variable:                  price   R-squared:                       0.837\n",
       "Model:                            OLS   Adj. R-squared:                  0.830\n",
       "Method:                 Least Squares   F-statistic:                     116.2\n",
       "Date:                Mon, 26 Aug 2019   Prob (F-statistic):           5.09e-51\n",
       "Time:                        23:18:20   Log-Likelihood:                 146.54\n",
       "No. Observations:                 143   AIC:                            -279.1\n",
       "Df Residuals:                     136   BIC:                            -258.3\n",
       "Df Model:                           6                                         \n",
       "Covariance Type:            nonrobust                                         \n",
       "====================================================================================\n",
       "                       coef    std err          t      P>|t|      [0.025      0.975]\n",
       "------------------------------------------------------------------------------------\n",
       "const               -0.1570      0.027     -5.856      0.000      -0.210      -0.104\n",
       "enginelocation       0.1079      0.109      0.987      0.325      -0.108       0.324\n",
       "enginesize           1.1338      0.053     21.215      0.000       1.028       1.240\n",
       "peakrpm              0.1924      0.046      4.157      0.000       0.101       0.284\n",
       "car_make_bmw         0.2350      0.039      6.075      0.000       0.158       0.311\n",
       "car_make_porsche     0.1414      0.065      2.162      0.032       0.012       0.271\n",
       "fuelsystem_idi       0.1334      0.030      4.450      0.000       0.074       0.193\n",
       "==============================================================================\n",
       "Omnibus:                       11.157   Durbin-Watson:                   1.976\n",
       "Prob(Omnibus):                  0.004   Jarque-Bera (JB):               11.446\n",
       "Skew:                           0.630   Prob(JB):                      0.00327\n",
       "Kurtosis:                       3.577   Cond. No.                         17.4\n",
       "==============================================================================\n",
       "\n",
       "Warnings:\n",
       "[1] Standard Errors assume that the covariance matrix of the errors is correctly specified.\n",
       "\"\"\""
      ]
     },
     "execution_count": 116,
     "metadata": {},
     "output_type": "execute_result"
    }
   ],
   "source": [
    "model11.summary()"
   ]
  },
  {
   "cell_type": "code",
   "execution_count": 117,
   "metadata": {},
   "outputs": [
    {
     "data": {
      "text/html": [
       "<div>\n",
       "<style scoped>\n",
       "    .dataframe tbody tr th:only-of-type {\n",
       "        vertical-align: middle;\n",
       "    }\n",
       "\n",
       "    .dataframe tbody tr th {\n",
       "        vertical-align: top;\n",
       "    }\n",
       "\n",
       "    .dataframe thead th {\n",
       "        text-align: right;\n",
       "    }\n",
       "</style>\n",
       "<table border=\"1\" class=\"dataframe\">\n",
       "  <thead>\n",
       "    <tr style=\"text-align: right;\">\n",
       "      <th></th>\n",
       "      <th>Features</th>\n",
       "      <th>VIF</th>\n",
       "    </tr>\n",
       "  </thead>\n",
       "  <tbody>\n",
       "    <tr>\n",
       "      <th>1</th>\n",
       "      <td>enginesize</td>\n",
       "      <td>2.58</td>\n",
       "    </tr>\n",
       "    <tr>\n",
       "      <th>2</th>\n",
       "      <td>peakrpm</td>\n",
       "      <td>2.08</td>\n",
       "    </tr>\n",
       "    <tr>\n",
       "      <th>4</th>\n",
       "      <td>car_make_porsche</td>\n",
       "      <td>1.57</td>\n",
       "    </tr>\n",
       "    <tr>\n",
       "      <th>0</th>\n",
       "      <td>enginelocation</td>\n",
       "      <td>1.50</td>\n",
       "    </tr>\n",
       "    <tr>\n",
       "      <th>5</th>\n",
       "      <td>fuelsystem_idi</td>\n",
       "      <td>1.22</td>\n",
       "    </tr>\n",
       "    <tr>\n",
       "      <th>3</th>\n",
       "      <td>car_make_bmw</td>\n",
       "      <td>1.13</td>\n",
       "    </tr>\n",
       "  </tbody>\n",
       "</table>\n",
       "</div>"
      ],
      "text/plain": [
       "           Features  VIF\n",
       "1        enginesize 2.58\n",
       "2           peakrpm 2.08\n",
       "4  car_make_porsche 1.57\n",
       "0    enginelocation 1.50\n",
       "5    fuelsystem_idi 1.22\n",
       "3      car_make_bmw 1.13"
      ]
     },
     "execution_count": 117,
     "metadata": {},
     "output_type": "execute_result"
    }
   ],
   "source": [
    "# Check VIF \n",
    "vif = pd.DataFrame()\n",
    "vif['Features'] = X_train11.columns\n",
    "vif['VIF'] = [variance_inflation_factor(X_train11.values, i) for i in range(X_train11.shape[1])]\n",
    "vif['VIF'] = round(vif['VIF'], 2) #Round off VIF to 2 decimal places\n",
    "vif = vif.sort_values(by = \"VIF\", ascending = False) #Sort ascending\n",
    "vif"
   ]
  },
  {
   "cell_type": "markdown",
   "metadata": {},
   "source": [
    "> **Observation**: \n",
    "- Adjusted R-square has increased a bit and VIF is barely affected\n",
    "- This could be because car_make_peugeot had a very small beta coefficient of 0.0128."
   ]
  },
  {
   "cell_type": "markdown",
   "metadata": {},
   "source": [
    "> **Note:** Removing any further parameters may not improve the model. We can safely ignore the slightly high p-value of car_make_peugeot given its small beta coefficient and the fact that removing it does not impact the model "
   ]
  },
  {
   "cell_type": "markdown",
   "metadata": {},
   "source": [
    "> Let's now add some variables to model 10, our best model so far based on: \n",
    "- My domain knowldge\n",
    "- High correlation with price as seen before\n",
    "\n",
    "> These variables *may* improve the explainability of the model"
   ]
  },
  {
   "cell_type": "markdown",
   "metadata": {},
   "source": [
    "<a id='4.12'></a>\n",
    "## Model 12 - RFE after adding citympg"
   ]
  },
  {
   "cell_type": "code",
   "execution_count": 118,
   "metadata": {},
   "outputs": [],
   "source": [
    "#Add citympg to train dataset\n",
    "X_train12 = X_train10.copy()\n",
    "X_train12['citympg'] = X_train['citympg']"
   ]
  },
  {
   "cell_type": "code",
   "execution_count": 119,
   "metadata": {},
   "outputs": [
    {
     "name": "stderr",
     "output_type": "stream",
     "text": [
      "C:\\Users\\ksami\\AppData\\Local\\Continuum\\anaconda3\\lib\\site-packages\\numpy\\core\\fromnumeric.py:2389: FutureWarning: Method .ptp is deprecated and will be removed in a future version. Use numpy.ptp instead.\n",
      "  return ptp(axis=axis, out=out, **kwargs)\n"
     ]
    }
   ],
   "source": [
    "#Rebuild model\n",
    "X_train12_const = sm.add_constant(X_train12)\n",
    "model12 = sm.OLS(y_train,X_train12_const).fit()"
   ]
  },
  {
   "cell_type": "code",
   "execution_count": 120,
   "metadata": {},
   "outputs": [
    {
     "data": {
      "text/html": [
       "<table class=\"simpletable\">\n",
       "<caption>OLS Regression Results</caption>\n",
       "<tr>\n",
       "  <th>Dep. Variable:</th>          <td>price</td>      <th>  R-squared:         </th> <td>   0.866</td>\n",
       "</tr>\n",
       "<tr>\n",
       "  <th>Model:</th>                   <td>OLS</td>       <th>  Adj. R-squared:    </th> <td>   0.857</td>\n",
       "</tr>\n",
       "<tr>\n",
       "  <th>Method:</th>             <td>Least Squares</td>  <th>  F-statistic:       </th> <td>   107.8</td>\n",
       "</tr>\n",
       "<tr>\n",
       "  <th>Date:</th>             <td>Mon, 26 Aug 2019</td> <th>  Prob (F-statistic):</th> <td>1.49e-54</td>\n",
       "</tr>\n",
       "<tr>\n",
       "  <th>Time:</th>                 <td>23:18:20</td>     <th>  Log-Likelihood:    </th> <td>  160.40</td>\n",
       "</tr>\n",
       "<tr>\n",
       "  <th>No. Observations:</th>      <td>   143</td>      <th>  AIC:               </th> <td>  -302.8</td>\n",
       "</tr>\n",
       "<tr>\n",
       "  <th>Df Residuals:</th>          <td>   134</td>      <th>  BIC:               </th> <td>  -276.1</td>\n",
       "</tr>\n",
       "<tr>\n",
       "  <th>Df Model:</th>              <td>     8</td>      <th>                     </th>     <td> </td>   \n",
       "</tr>\n",
       "<tr>\n",
       "  <th>Covariance Type:</th>      <td>nonrobust</td>    <th>                     </th>     <td> </td>   \n",
       "</tr>\n",
       "</table>\n",
       "<table class=\"simpletable\">\n",
       "<tr>\n",
       "          <td></td>            <th>coef</th>     <th>std err</th>      <th>t</th>      <th>P>|t|</th>  <th>[0.025</th>    <th>0.975]</th>  \n",
       "</tr>\n",
       "<tr>\n",
       "  <th>const</th>            <td>    0.0254</td> <td>    0.042</td> <td>    0.600</td> <td> 0.549</td> <td>   -0.058</td> <td>    0.109</td>\n",
       "</tr>\n",
       "<tr>\n",
       "  <th>enginelocation</th>   <td>    0.1228</td> <td>    0.100</td> <td>    1.229</td> <td> 0.221</td> <td>   -0.075</td> <td>    0.321</td>\n",
       "</tr>\n",
       "<tr>\n",
       "  <th>enginesize</th>       <td>    0.8875</td> <td>    0.067</td> <td>   13.217</td> <td> 0.000</td> <td>    0.755</td> <td>    1.020</td>\n",
       "</tr>\n",
       "<tr>\n",
       "  <th>peakrpm</th>          <td>    0.1286</td> <td>    0.044</td> <td>    2.908</td> <td> 0.004</td> <td>    0.041</td> <td>    0.216</td>\n",
       "</tr>\n",
       "<tr>\n",
       "  <th>car_make_bmw</th>     <td>    0.2237</td> <td>    0.035</td> <td>    6.306</td> <td> 0.000</td> <td>    0.154</td> <td>    0.294</td>\n",
       "</tr>\n",
       "<tr>\n",
       "  <th>car_make_peugeot</th> <td>   -0.0283</td> <td>    0.033</td> <td>   -0.867</td> <td> 0.387</td> <td>   -0.093</td> <td>    0.036</td>\n",
       "</tr>\n",
       "<tr>\n",
       "  <th>car_make_porsche</th> <td>    0.1453</td> <td>    0.060</td> <td>    2.431</td> <td> 0.016</td> <td>    0.027</td> <td>    0.264</td>\n",
       "</tr>\n",
       "<tr>\n",
       "  <th>fuelsystem_idi</th>   <td>    0.1755</td> <td>    0.030</td> <td>    5.926</td> <td> 0.000</td> <td>    0.117</td> <td>    0.234</td>\n",
       "</tr>\n",
       "<tr>\n",
       "  <th>citympg</th>          <td>   -0.2887</td> <td>    0.054</td> <td>   -5.340</td> <td> 0.000</td> <td>   -0.396</td> <td>   -0.182</td>\n",
       "</tr>\n",
       "</table>\n",
       "<table class=\"simpletable\">\n",
       "<tr>\n",
       "  <th>Omnibus:</th>       <td> 9.667</td> <th>  Durbin-Watson:     </th> <td>   2.002</td>\n",
       "</tr>\n",
       "<tr>\n",
       "  <th>Prob(Omnibus):</th> <td> 0.008</td> <th>  Jarque-Bera (JB):  </th> <td>   9.783</td>\n",
       "</tr>\n",
       "<tr>\n",
       "  <th>Skew:</th>          <td> 0.554</td> <th>  Prob(JB):          </th> <td> 0.00751</td>\n",
       "</tr>\n",
       "<tr>\n",
       "  <th>Kurtosis:</th>      <td> 3.644</td> <th>  Cond. No.          </th> <td>    18.2</td>\n",
       "</tr>\n",
       "</table><br/><br/>Warnings:<br/>[1] Standard Errors assume that the covariance matrix of the errors is correctly specified."
      ],
      "text/plain": [
       "<class 'statsmodels.iolib.summary.Summary'>\n",
       "\"\"\"\n",
       "                            OLS Regression Results                            \n",
       "==============================================================================\n",
       "Dep. Variable:                  price   R-squared:                       0.866\n",
       "Model:                            OLS   Adj. R-squared:                  0.857\n",
       "Method:                 Least Squares   F-statistic:                     107.8\n",
       "Date:                Mon, 26 Aug 2019   Prob (F-statistic):           1.49e-54\n",
       "Time:                        23:18:20   Log-Likelihood:                 160.40\n",
       "No. Observations:                 143   AIC:                            -302.8\n",
       "Df Residuals:                     134   BIC:                            -276.1\n",
       "Df Model:                           8                                         \n",
       "Covariance Type:            nonrobust                                         \n",
       "====================================================================================\n",
       "                       coef    std err          t      P>|t|      [0.025      0.975]\n",
       "------------------------------------------------------------------------------------\n",
       "const                0.0254      0.042      0.600      0.549      -0.058       0.109\n",
       "enginelocation       0.1228      0.100      1.229      0.221      -0.075       0.321\n",
       "enginesize           0.8875      0.067     13.217      0.000       0.755       1.020\n",
       "peakrpm              0.1286      0.044      2.908      0.004       0.041       0.216\n",
       "car_make_bmw         0.2237      0.035      6.306      0.000       0.154       0.294\n",
       "car_make_peugeot    -0.0283      0.033     -0.867      0.387      -0.093       0.036\n",
       "car_make_porsche     0.1453      0.060      2.431      0.016       0.027       0.264\n",
       "fuelsystem_idi       0.1755      0.030      5.926      0.000       0.117       0.234\n",
       "citympg             -0.2887      0.054     -5.340      0.000      -0.396      -0.182\n",
       "==============================================================================\n",
       "Omnibus:                        9.667   Durbin-Watson:                   2.002\n",
       "Prob(Omnibus):                  0.008   Jarque-Bera (JB):                9.783\n",
       "Skew:                           0.554   Prob(JB):                      0.00751\n",
       "Kurtosis:                       3.644   Cond. No.                         18.2\n",
       "==============================================================================\n",
       "\n",
       "Warnings:\n",
       "[1] Standard Errors assume that the covariance matrix of the errors is correctly specified.\n",
       "\"\"\""
      ]
     },
     "execution_count": 120,
     "metadata": {},
     "output_type": "execute_result"
    }
   ],
   "source": [
    "model12.summary()"
   ]
  },
  {
   "cell_type": "code",
   "execution_count": 121,
   "metadata": {},
   "outputs": [
    {
     "data": {
      "text/html": [
       "<div>\n",
       "<style scoped>\n",
       "    .dataframe tbody tr th:only-of-type {\n",
       "        vertical-align: middle;\n",
       "    }\n",
       "\n",
       "    .dataframe tbody tr th {\n",
       "        vertical-align: top;\n",
       "    }\n",
       "\n",
       "    .dataframe thead th {\n",
       "        text-align: right;\n",
       "    }\n",
       "</style>\n",
       "<table border=\"1\" class=\"dataframe\">\n",
       "  <thead>\n",
       "    <tr style=\"text-align: right;\">\n",
       "      <th></th>\n",
       "      <th>Features</th>\n",
       "      <th>VIF</th>\n",
       "    </tr>\n",
       "  </thead>\n",
       "  <tbody>\n",
       "    <tr>\n",
       "      <th>2</th>\n",
       "      <td>peakrpm</td>\n",
       "      <td>4.22</td>\n",
       "    </tr>\n",
       "    <tr>\n",
       "      <th>7</th>\n",
       "      <td>citympg</td>\n",
       "      <td>3.27</td>\n",
       "    </tr>\n",
       "    <tr>\n",
       "      <th>1</th>\n",
       "      <td>enginesize</td>\n",
       "      <td>2.62</td>\n",
       "    </tr>\n",
       "    <tr>\n",
       "      <th>6</th>\n",
       "      <td>fuelsystem_idi</td>\n",
       "      <td>1.72</td>\n",
       "    </tr>\n",
       "    <tr>\n",
       "      <th>5</th>\n",
       "      <td>car_make_porsche</td>\n",
       "      <td>1.60</td>\n",
       "    </tr>\n",
       "    <tr>\n",
       "      <th>0</th>\n",
       "      <td>enginelocation</td>\n",
       "      <td>1.50</td>\n",
       "    </tr>\n",
       "    <tr>\n",
       "      <th>4</th>\n",
       "      <td>car_make_peugeot</td>\n",
       "      <td>1.21</td>\n",
       "    </tr>\n",
       "    <tr>\n",
       "      <th>3</th>\n",
       "      <td>car_make_bmw</td>\n",
       "      <td>1.13</td>\n",
       "    </tr>\n",
       "  </tbody>\n",
       "</table>\n",
       "</div>"
      ],
      "text/plain": [
       "           Features  VIF\n",
       "2           peakrpm 4.22\n",
       "7           citympg 3.27\n",
       "1        enginesize 2.62\n",
       "6    fuelsystem_idi 1.72\n",
       "5  car_make_porsche 1.60\n",
       "0    enginelocation 1.50\n",
       "4  car_make_peugeot 1.21\n",
       "3      car_make_bmw 1.13"
      ]
     },
     "execution_count": 121,
     "metadata": {},
     "output_type": "execute_result"
    }
   ],
   "source": [
    "# Check VIF \n",
    "vif = pd.DataFrame()\n",
    "vif['Features'] = X_train12.columns\n",
    "vif['VIF'] = [variance_inflation_factor(X_train12.values, i) for i in range(X_train12.shape[1])]\n",
    "vif['VIF'] = round(vif['VIF'], 2) #Round off VIF to 2 decimal places\n",
    "vif = vif.sort_values(by = \"VIF\", ascending = False) #Sort ascending\n",
    "vif"
   ]
  },
  {
   "cell_type": "markdown",
   "metadata": {},
   "source": [
    "> **Observation**: \n",
    "- R-square ahase increased!\n",
    "- p-value of citympg is low so it is significant!\n",
    "- VIF of other variables has increased but marginally\n",
    "- Therefore, citympg improves the model's explanatory power"
   ]
  },
  {
   "cell_type": "markdown",
   "metadata": {},
   "source": [
    "Next - Horsepower is highly correlated to price, let's try adding it to the model"
   ]
  },
  {
   "cell_type": "markdown",
   "metadata": {},
   "source": [
    "<a id='4.13'></a>\n",
    "## Model 13 - RFE after adding horsepower"
   ]
  },
  {
   "cell_type": "code",
   "execution_count": 122,
   "metadata": {},
   "outputs": [],
   "source": [
    "#Add horsepower to train dataset\n",
    "X_train13 = X_train12.copy()\n",
    "X_train13['horsepower'] = X_train['horsepower']"
   ]
  },
  {
   "cell_type": "code",
   "execution_count": 123,
   "metadata": {},
   "outputs": [
    {
     "name": "stderr",
     "output_type": "stream",
     "text": [
      "C:\\Users\\ksami\\AppData\\Local\\Continuum\\anaconda3\\lib\\site-packages\\numpy\\core\\fromnumeric.py:2389: FutureWarning: Method .ptp is deprecated and will be removed in a future version. Use numpy.ptp instead.\n",
      "  return ptp(axis=axis, out=out, **kwargs)\n"
     ]
    }
   ],
   "source": [
    "#Rebuild model\n",
    "X_train13_const = sm.add_constant(X_train13)\n",
    "model13 = sm.OLS(y_train,X_train13_const).fit()"
   ]
  },
  {
   "cell_type": "code",
   "execution_count": 124,
   "metadata": {},
   "outputs": [
    {
     "data": {
      "text/html": [
       "<table class=\"simpletable\">\n",
       "<caption>OLS Regression Results</caption>\n",
       "<tr>\n",
       "  <th>Dep. Variable:</th>          <td>price</td>      <th>  R-squared:         </th> <td>   0.867</td>\n",
       "</tr>\n",
       "<tr>\n",
       "  <th>Model:</th>                   <td>OLS</td>       <th>  Adj. R-squared:    </th> <td>   0.858</td>\n",
       "</tr>\n",
       "<tr>\n",
       "  <th>Method:</th>             <td>Least Squares</td>  <th>  F-statistic:       </th> <td>   96.17</td>\n",
       "</tr>\n",
       "<tr>\n",
       "  <th>Date:</th>             <td>Mon, 26 Aug 2019</td> <th>  Prob (F-statistic):</th> <td>8.50e-54</td>\n",
       "</tr>\n",
       "<tr>\n",
       "  <th>Time:</th>                 <td>23:18:20</td>     <th>  Log-Likelihood:    </th> <td>  161.09</td>\n",
       "</tr>\n",
       "<tr>\n",
       "  <th>No. Observations:</th>      <td>   143</td>      <th>  AIC:               </th> <td>  -302.2</td>\n",
       "</tr>\n",
       "<tr>\n",
       "  <th>Df Residuals:</th>          <td>   133</td>      <th>  BIC:               </th> <td>  -272.5</td>\n",
       "</tr>\n",
       "<tr>\n",
       "  <th>Df Model:</th>              <td>     9</td>      <th>                     </th>     <td> </td>   \n",
       "</tr>\n",
       "<tr>\n",
       "  <th>Covariance Type:</th>      <td>nonrobust</td>    <th>                     </th>     <td> </td>   \n",
       "</tr>\n",
       "</table>\n",
       "<table class=\"simpletable\">\n",
       "<tr>\n",
       "          <td></td>            <th>coef</th>     <th>std err</th>      <th>t</th>      <th>P>|t|</th>  <th>[0.025</th>    <th>0.975]</th>  \n",
       "</tr>\n",
       "<tr>\n",
       "  <th>const</th>            <td>    0.0128</td> <td>    0.044</td> <td>    0.293</td> <td> 0.770</td> <td>   -0.074</td> <td>    0.099</td>\n",
       "</tr>\n",
       "<tr>\n",
       "  <th>enginelocation</th>   <td>    0.1365</td> <td>    0.101</td> <td>    1.357</td> <td> 0.177</td> <td>   -0.062</td> <td>    0.335</td>\n",
       "</tr>\n",
       "<tr>\n",
       "  <th>enginesize</th>       <td>    0.8000</td> <td>    0.102</td> <td>    7.811</td> <td> 0.000</td> <td>    0.597</td> <td>    1.003</td>\n",
       "</tr>\n",
       "<tr>\n",
       "  <th>peakrpm</th>          <td>    0.1071</td> <td>    0.048</td> <td>    2.229</td> <td> 0.027</td> <td>    0.012</td> <td>    0.202</td>\n",
       "</tr>\n",
       "<tr>\n",
       "  <th>car_make_bmw</th>     <td>    0.2232</td> <td>    0.035</td> <td>    6.298</td> <td> 0.000</td> <td>    0.153</td> <td>    0.293</td>\n",
       "</tr>\n",
       "<tr>\n",
       "  <th>car_make_peugeot</th> <td>   -0.0261</td> <td>    0.033</td> <td>   -0.797</td> <td> 0.427</td> <td>   -0.091</td> <td>    0.039</td>\n",
       "</tr>\n",
       "<tr>\n",
       "  <th>car_make_porsche</th> <td>    0.1131</td> <td>    0.066</td> <td>    1.709</td> <td> 0.090</td> <td>   -0.018</td> <td>    0.244</td>\n",
       "</tr>\n",
       "<tr>\n",
       "  <th>fuelsystem_idi</th>   <td>    0.1766</td> <td>    0.030</td> <td>    5.965</td> <td> 0.000</td> <td>    0.118</td> <td>    0.235</td>\n",
       "</tr>\n",
       "<tr>\n",
       "  <th>citympg</th>          <td>   -0.2506</td> <td>    0.064</td> <td>   -3.939</td> <td> 0.000</td> <td>   -0.376</td> <td>   -0.125</td>\n",
       "</tr>\n",
       "<tr>\n",
       "  <th>horsepower</th>       <td>    0.1300</td> <td>    0.115</td> <td>    1.131</td> <td> 0.260</td> <td>   -0.097</td> <td>    0.357</td>\n",
       "</tr>\n",
       "</table>\n",
       "<table class=\"simpletable\">\n",
       "<tr>\n",
       "  <th>Omnibus:</th>       <td> 9.864</td> <th>  Durbin-Watson:     </th> <td>   1.974</td>\n",
       "</tr>\n",
       "<tr>\n",
       "  <th>Prob(Omnibus):</th> <td> 0.007</td> <th>  Jarque-Bera (JB):  </th> <td>  10.243</td>\n",
       "</tr>\n",
       "<tr>\n",
       "  <th>Skew:</th>          <td> 0.539</td> <th>  Prob(JB):          </th> <td> 0.00597</td>\n",
       "</tr>\n",
       "<tr>\n",
       "  <th>Kurtosis:</th>      <td> 3.747</td> <th>  Cond. No.          </th> <td>    26.6</td>\n",
       "</tr>\n",
       "</table><br/><br/>Warnings:<br/>[1] Standard Errors assume that the covariance matrix of the errors is correctly specified."
      ],
      "text/plain": [
       "<class 'statsmodels.iolib.summary.Summary'>\n",
       "\"\"\"\n",
       "                            OLS Regression Results                            \n",
       "==============================================================================\n",
       "Dep. Variable:                  price   R-squared:                       0.867\n",
       "Model:                            OLS   Adj. R-squared:                  0.858\n",
       "Method:                 Least Squares   F-statistic:                     96.17\n",
       "Date:                Mon, 26 Aug 2019   Prob (F-statistic):           8.50e-54\n",
       "Time:                        23:18:20   Log-Likelihood:                 161.09\n",
       "No. Observations:                 143   AIC:                            -302.2\n",
       "Df Residuals:                     133   BIC:                            -272.5\n",
       "Df Model:                           9                                         \n",
       "Covariance Type:            nonrobust                                         \n",
       "====================================================================================\n",
       "                       coef    std err          t      P>|t|      [0.025      0.975]\n",
       "------------------------------------------------------------------------------------\n",
       "const                0.0128      0.044      0.293      0.770      -0.074       0.099\n",
       "enginelocation       0.1365      0.101      1.357      0.177      -0.062       0.335\n",
       "enginesize           0.8000      0.102      7.811      0.000       0.597       1.003\n",
       "peakrpm              0.1071      0.048      2.229      0.027       0.012       0.202\n",
       "car_make_bmw         0.2232      0.035      6.298      0.000       0.153       0.293\n",
       "car_make_peugeot    -0.0261      0.033     -0.797      0.427      -0.091       0.039\n",
       "car_make_porsche     0.1131      0.066      1.709      0.090      -0.018       0.244\n",
       "fuelsystem_idi       0.1766      0.030      5.965      0.000       0.118       0.235\n",
       "citympg             -0.2506      0.064     -3.939      0.000      -0.376      -0.125\n",
       "horsepower           0.1300      0.115      1.131      0.260      -0.097       0.357\n",
       "==============================================================================\n",
       "Omnibus:                        9.864   Durbin-Watson:                   1.974\n",
       "Prob(Omnibus):                  0.007   Jarque-Bera (JB):               10.243\n",
       "Skew:                           0.539   Prob(JB):                      0.00597\n",
       "Kurtosis:                       3.747   Cond. No.                         26.6\n",
       "==============================================================================\n",
       "\n",
       "Warnings:\n",
       "[1] Standard Errors assume that the covariance matrix of the errors is correctly specified.\n",
       "\"\"\""
      ]
     },
     "execution_count": 124,
     "metadata": {},
     "output_type": "execute_result"
    }
   ],
   "source": [
    "model13.summary()"
   ]
  },
  {
   "cell_type": "code",
   "execution_count": 125,
   "metadata": {},
   "outputs": [
    {
     "data": {
      "text/html": [
       "<div>\n",
       "<style scoped>\n",
       "    .dataframe tbody tr th:only-of-type {\n",
       "        vertical-align: middle;\n",
       "    }\n",
       "\n",
       "    .dataframe tbody tr th {\n",
       "        vertical-align: top;\n",
       "    }\n",
       "\n",
       "    .dataframe thead th {\n",
       "        text-align: right;\n",
       "    }\n",
       "</style>\n",
       "<table border=\"1\" class=\"dataframe\">\n",
       "  <thead>\n",
       "    <tr style=\"text-align: right;\">\n",
       "      <th></th>\n",
       "      <th>Features</th>\n",
       "      <th>VIF</th>\n",
       "    </tr>\n",
       "  </thead>\n",
       "  <tbody>\n",
       "    <tr>\n",
       "      <th>8</th>\n",
       "      <td>horsepower</td>\n",
       "      <td>21.06</td>\n",
       "    </tr>\n",
       "    <tr>\n",
       "      <th>1</th>\n",
       "      <td>enginesize</td>\n",
       "      <td>16.61</td>\n",
       "    </tr>\n",
       "    <tr>\n",
       "      <th>2</th>\n",
       "      <td>peakrpm</td>\n",
       "      <td>7.17</td>\n",
       "    </tr>\n",
       "    <tr>\n",
       "      <th>7</th>\n",
       "      <td>citympg</td>\n",
       "      <td>4.78</td>\n",
       "    </tr>\n",
       "    <tr>\n",
       "      <th>5</th>\n",
       "      <td>car_make_porsche</td>\n",
       "      <td>1.90</td>\n",
       "    </tr>\n",
       "    <tr>\n",
       "      <th>6</th>\n",
       "      <td>fuelsystem_idi</td>\n",
       "      <td>1.72</td>\n",
       "    </tr>\n",
       "    <tr>\n",
       "      <th>0</th>\n",
       "      <td>enginelocation</td>\n",
       "      <td>1.53</td>\n",
       "    </tr>\n",
       "    <tr>\n",
       "      <th>4</th>\n",
       "      <td>car_make_peugeot</td>\n",
       "      <td>1.21</td>\n",
       "    </tr>\n",
       "    <tr>\n",
       "      <th>3</th>\n",
       "      <td>car_make_bmw</td>\n",
       "      <td>1.13</td>\n",
       "    </tr>\n",
       "  </tbody>\n",
       "</table>\n",
       "</div>"
      ],
      "text/plain": [
       "           Features   VIF\n",
       "8        horsepower 21.06\n",
       "1        enginesize 16.61\n",
       "2           peakrpm  7.17\n",
       "7           citympg  4.78\n",
       "5  car_make_porsche  1.90\n",
       "6    fuelsystem_idi  1.72\n",
       "0    enginelocation  1.53\n",
       "4  car_make_peugeot  1.21\n",
       "3      car_make_bmw  1.13"
      ]
     },
     "execution_count": 125,
     "metadata": {},
     "output_type": "execute_result"
    }
   ],
   "source": [
    "# Check VIF \n",
    "vif = pd.DataFrame()\n",
    "vif['Features'] = X_train13.columns\n",
    "vif['VIF'] = [variance_inflation_factor(X_train13.values, i) for i in range(X_train13.shape[1])]\n",
    "vif['VIF'] = round(vif['VIF'], 2) #Round off VIF to 2 decimal places\n",
    "vif = vif.sort_values(by = \"VIF\", ascending = False) #Sort ascending\n",
    "vif"
   ]
  },
  {
   "cell_type": "markdown",
   "metadata": {},
   "source": [
    "> **Observation**: \n",
    "- R-square adusted has increased by 0.1 so explanatory power hasn't really improved \n",
    "- VIF of other variables has increased significantly\n",
    "\n",
    "> In summary, horsepower does NOT improve the model"
   ]
  },
  {
   "cell_type": "markdown",
   "metadata": {},
   "source": [
    "Let's trying adding one more highly correlated variable 'car length' to **model 12**, our best model so far"
   ]
  },
  {
   "cell_type": "markdown",
   "metadata": {},
   "source": [
    "<a id='4.14'></a>\n",
    "## Model 14 - RFE after adding car length"
   ]
  },
  {
   "cell_type": "code",
   "execution_count": 126,
   "metadata": {},
   "outputs": [],
   "source": [
    "#Add drivwheel_rwd to train dataset\n",
    "X_train14 = X_train12.copy()\n",
    "X_train14['carlength'] = X_train['carlength']"
   ]
  },
  {
   "cell_type": "code",
   "execution_count": 127,
   "metadata": {},
   "outputs": [
    {
     "name": "stderr",
     "output_type": "stream",
     "text": [
      "C:\\Users\\ksami\\AppData\\Local\\Continuum\\anaconda3\\lib\\site-packages\\numpy\\core\\fromnumeric.py:2389: FutureWarning: Method .ptp is deprecated and will be removed in a future version. Use numpy.ptp instead.\n",
      "  return ptp(axis=axis, out=out, **kwargs)\n"
     ]
    }
   ],
   "source": [
    "#Rebuild model\n",
    "X_train14_const = sm.add_constant(X_train14)\n",
    "model14 = sm.OLS(y_train,X_train14_const).fit()"
   ]
  },
  {
   "cell_type": "code",
   "execution_count": 128,
   "metadata": {},
   "outputs": [
    {
     "data": {
      "text/html": [
       "<table class=\"simpletable\">\n",
       "<caption>OLS Regression Results</caption>\n",
       "<tr>\n",
       "  <th>Dep. Variable:</th>          <td>price</td>      <th>  R-squared:         </th> <td>   0.873</td>\n",
       "</tr>\n",
       "<tr>\n",
       "  <th>Model:</th>                   <td>OLS</td>       <th>  Adj. R-squared:    </th> <td>   0.864</td>\n",
       "</tr>\n",
       "<tr>\n",
       "  <th>Method:</th>             <td>Least Squares</td>  <th>  F-statistic:       </th> <td>   101.4</td>\n",
       "</tr>\n",
       "<tr>\n",
       "  <th>Date:</th>             <td>Mon, 26 Aug 2019</td> <th>  Prob (F-statistic):</th> <td>4.01e-55</td>\n",
       "</tr>\n",
       "<tr>\n",
       "  <th>Time:</th>                 <td>23:18:20</td>     <th>  Log-Likelihood:    </th> <td>  164.40</td>\n",
       "</tr>\n",
       "<tr>\n",
       "  <th>No. Observations:</th>      <td>   143</td>      <th>  AIC:               </th> <td>  -308.8</td>\n",
       "</tr>\n",
       "<tr>\n",
       "  <th>Df Residuals:</th>          <td>   133</td>      <th>  BIC:               </th> <td>  -279.2</td>\n",
       "</tr>\n",
       "<tr>\n",
       "  <th>Df Model:</th>              <td>     9</td>      <th>                     </th>     <td> </td>   \n",
       "</tr>\n",
       "<tr>\n",
       "  <th>Covariance Type:</th>      <td>nonrobust</td>    <th>                     </th>     <td> </td>   \n",
       "</tr>\n",
       "</table>\n",
       "<table class=\"simpletable\">\n",
       "<tr>\n",
       "          <td></td>            <th>coef</th>     <th>std err</th>      <th>t</th>      <th>P>|t|</th>  <th>[0.025</th>    <th>0.975]</th>  \n",
       "</tr>\n",
       "<tr>\n",
       "  <th>const</th>            <td>   -0.0893</td> <td>    0.059</td> <td>   -1.527</td> <td> 0.129</td> <td>   -0.205</td> <td>    0.026</td>\n",
       "</tr>\n",
       "<tr>\n",
       "  <th>enginelocation</th>   <td>    0.1384</td> <td>    0.098</td> <td>    1.417</td> <td> 0.159</td> <td>   -0.055</td> <td>    0.332</td>\n",
       "</tr>\n",
       "<tr>\n",
       "  <th>enginesize</th>       <td>    0.8110</td> <td>    0.071</td> <td>   11.398</td> <td> 0.000</td> <td>    0.670</td> <td>    0.952</td>\n",
       "</tr>\n",
       "<tr>\n",
       "  <th>peakrpm</th>          <td>    0.1465</td> <td>    0.044</td> <td>    3.358</td> <td> 0.001</td> <td>    0.060</td> <td>    0.233</td>\n",
       "</tr>\n",
       "<tr>\n",
       "  <th>car_make_bmw</th>     <td>    0.2187</td> <td>    0.035</td> <td>    6.308</td> <td> 0.000</td> <td>    0.150</td> <td>    0.287</td>\n",
       "</tr>\n",
       "<tr>\n",
       "  <th>car_make_peugeot</th> <td>   -0.0554</td> <td>    0.033</td> <td>   -1.661</td> <td> 0.099</td> <td>   -0.121</td> <td>    0.011</td>\n",
       "</tr>\n",
       "<tr>\n",
       "  <th>car_make_porsche</th> <td>    0.1778</td> <td>    0.060</td> <td>    2.987</td> <td> 0.003</td> <td>    0.060</td> <td>    0.296</td>\n",
       "</tr>\n",
       "<tr>\n",
       "  <th>fuelsystem_idi</th>   <td>    0.1475</td> <td>    0.031</td> <td>    4.812</td> <td> 0.000</td> <td>    0.087</td> <td>    0.208</td>\n",
       "</tr>\n",
       "<tr>\n",
       "  <th>citympg</th>          <td>   -0.1846</td> <td>    0.065</td> <td>   -2.847</td> <td> 0.005</td> <td>   -0.313</td> <td>   -0.056</td>\n",
       "</tr>\n",
       "<tr>\n",
       "  <th>carlength</th>        <td>    0.1782</td> <td>    0.064</td> <td>    2.764</td> <td> 0.007</td> <td>    0.051</td> <td>    0.306</td>\n",
       "</tr>\n",
       "</table>\n",
       "<table class=\"simpletable\">\n",
       "<tr>\n",
       "  <th>Omnibus:</th>       <td>10.039</td> <th>  Durbin-Watson:     </th> <td>   1.976</td>\n",
       "</tr>\n",
       "<tr>\n",
       "  <th>Prob(Omnibus):</th> <td> 0.007</td> <th>  Jarque-Bera (JB):  </th> <td>  10.861</td>\n",
       "</tr>\n",
       "<tr>\n",
       "  <th>Skew:</th>          <td> 0.518</td> <th>  Prob(JB):          </th> <td> 0.00438</td>\n",
       "</tr>\n",
       "<tr>\n",
       "  <th>Kurtosis:</th>      <td> 3.867</td> <th>  Cond. No.          </th> <td>    20.0</td>\n",
       "</tr>\n",
       "</table><br/><br/>Warnings:<br/>[1] Standard Errors assume that the covariance matrix of the errors is correctly specified."
      ],
      "text/plain": [
       "<class 'statsmodels.iolib.summary.Summary'>\n",
       "\"\"\"\n",
       "                            OLS Regression Results                            \n",
       "==============================================================================\n",
       "Dep. Variable:                  price   R-squared:                       0.873\n",
       "Model:                            OLS   Adj. R-squared:                  0.864\n",
       "Method:                 Least Squares   F-statistic:                     101.4\n",
       "Date:                Mon, 26 Aug 2019   Prob (F-statistic):           4.01e-55\n",
       "Time:                        23:18:20   Log-Likelihood:                 164.40\n",
       "No. Observations:                 143   AIC:                            -308.8\n",
       "Df Residuals:                     133   BIC:                            -279.2\n",
       "Df Model:                           9                                         \n",
       "Covariance Type:            nonrobust                                         \n",
       "====================================================================================\n",
       "                       coef    std err          t      P>|t|      [0.025      0.975]\n",
       "------------------------------------------------------------------------------------\n",
       "const               -0.0893      0.059     -1.527      0.129      -0.205       0.026\n",
       "enginelocation       0.1384      0.098      1.417      0.159      -0.055       0.332\n",
       "enginesize           0.8110      0.071     11.398      0.000       0.670       0.952\n",
       "peakrpm              0.1465      0.044      3.358      0.001       0.060       0.233\n",
       "car_make_bmw         0.2187      0.035      6.308      0.000       0.150       0.287\n",
       "car_make_peugeot    -0.0554      0.033     -1.661      0.099      -0.121       0.011\n",
       "car_make_porsche     0.1778      0.060      2.987      0.003       0.060       0.296\n",
       "fuelsystem_idi       0.1475      0.031      4.812      0.000       0.087       0.208\n",
       "citympg             -0.1846      0.065     -2.847      0.005      -0.313      -0.056\n",
       "carlength            0.1782      0.064      2.764      0.007       0.051       0.306\n",
       "==============================================================================\n",
       "Omnibus:                       10.039   Durbin-Watson:                   1.976\n",
       "Prob(Omnibus):                  0.007   Jarque-Bera (JB):               10.861\n",
       "Skew:                           0.518   Prob(JB):                      0.00438\n",
       "Kurtosis:                       3.867   Cond. No.                         20.0\n",
       "==============================================================================\n",
       "\n",
       "Warnings:\n",
       "[1] Standard Errors assume that the covariance matrix of the errors is correctly specified.\n",
       "\"\"\""
      ]
     },
     "execution_count": 128,
     "metadata": {},
     "output_type": "execute_result"
    }
   ],
   "source": [
    "model14.summary()"
   ]
  },
  {
   "cell_type": "code",
   "execution_count": 129,
   "metadata": {},
   "outputs": [
    {
     "data": {
      "text/html": [
       "<div>\n",
       "<style scoped>\n",
       "    .dataframe tbody tr th:only-of-type {\n",
       "        vertical-align: middle;\n",
       "    }\n",
       "\n",
       "    .dataframe tbody tr th {\n",
       "        vertical-align: top;\n",
       "    }\n",
       "\n",
       "    .dataframe thead th {\n",
       "        text-align: right;\n",
       "    }\n",
       "</style>\n",
       "<table border=\"1\" class=\"dataframe\">\n",
       "  <thead>\n",
       "    <tr style=\"text-align: right;\">\n",
       "      <th></th>\n",
       "      <th>Features</th>\n",
       "      <th>VIF</th>\n",
       "    </tr>\n",
       "  </thead>\n",
       "  <tbody>\n",
       "    <tr>\n",
       "      <th>8</th>\n",
       "      <td>carlength</td>\n",
       "      <td>14.86</td>\n",
       "    </tr>\n",
       "    <tr>\n",
       "      <th>1</th>\n",
       "      <td>enginesize</td>\n",
       "      <td>8.78</td>\n",
       "    </tr>\n",
       "    <tr>\n",
       "      <th>2</th>\n",
       "      <td>peakrpm</td>\n",
       "      <td>5.51</td>\n",
       "    </tr>\n",
       "    <tr>\n",
       "      <th>7</th>\n",
       "      <td>citympg</td>\n",
       "      <td>3.33</td>\n",
       "    </tr>\n",
       "    <tr>\n",
       "      <th>6</th>\n",
       "      <td>fuelsystem_idi</td>\n",
       "      <td>1.81</td>\n",
       "    </tr>\n",
       "    <tr>\n",
       "      <th>5</th>\n",
       "      <td>car_make_porsche</td>\n",
       "      <td>1.68</td>\n",
       "    </tr>\n",
       "    <tr>\n",
       "      <th>0</th>\n",
       "      <td>enginelocation</td>\n",
       "      <td>1.51</td>\n",
       "    </tr>\n",
       "    <tr>\n",
       "      <th>4</th>\n",
       "      <td>car_make_peugeot</td>\n",
       "      <td>1.41</td>\n",
       "    </tr>\n",
       "    <tr>\n",
       "      <th>3</th>\n",
       "      <td>car_make_bmw</td>\n",
       "      <td>1.14</td>\n",
       "    </tr>\n",
       "  </tbody>\n",
       "</table>\n",
       "</div>"
      ],
      "text/plain": [
       "           Features   VIF\n",
       "8         carlength 14.86\n",
       "1        enginesize  8.78\n",
       "2           peakrpm  5.51\n",
       "7           citympg  3.33\n",
       "6    fuelsystem_idi  1.81\n",
       "5  car_make_porsche  1.68\n",
       "0    enginelocation  1.51\n",
       "4  car_make_peugeot  1.41\n",
       "3      car_make_bmw  1.14"
      ]
     },
     "execution_count": 129,
     "metadata": {},
     "output_type": "execute_result"
    }
   ],
   "source": [
    "# Check VIF \n",
    "vif = pd.DataFrame()\n",
    "vif['Features'] = X_train14.columns\n",
    "vif['VIF'] = [variance_inflation_factor(X_train14.values, i) for i in range(X_train14.shape[1])]\n",
    "vif['VIF'] = round(vif['VIF'], 2) #Round off VIF to 2 decimal places\n",
    "vif = vif.sort_values(by = \"VIF\", ascending = False) #Sort ascending\n",
    "vif"
   ]
  },
  {
   "cell_type": "markdown",
   "metadata": {},
   "source": [
    "> **Observation**: \n",
    "- R-square adusted increased\n",
    "- p-value of car length is low so it appears to be significant\n",
    "- But, VIF of other variables has increased and carlength itself has a high VIF so it introduced multicollinearity in our model. \n",
    "\n",
    "> In summary, carlength does not improve our model"
   ]
  },
  {
   "cell_type": "markdown",
   "metadata": {},
   "source": [
    ">**Note: Clearly, adding more variables, even those highly correlated with price is NOT improving our model much.**  **So best model so far is Model 12. Let us proceed to analyze residuals.**"
   ]
  },
  {
   "cell_type": "markdown",
   "metadata": {},
   "source": [
    "<a id='4.1'></a>\n",
    "## Residual Analysis"
   ]
  },
  {
   "cell_type": "markdown",
   "metadata": {},
   "source": [
    "Let's verify that the model fulfills the assumptions of linear regression i.e. are the error terms normally distributed"
   ]
  },
  {
   "cell_type": "code",
   "execution_count": 130,
   "metadata": {},
   "outputs": [],
   "source": [
    "#Predict on training data set\n",
    "y_train_pred = model12.predict(X_train12_const)"
   ]
  },
  {
   "cell_type": "code",
   "execution_count": 131,
   "metadata": {},
   "outputs": [
    {
     "data": {
      "text/plain": [
       "<matplotlib.axes._subplots.AxesSubplot at 0x1f4bb961668>"
      ]
     },
     "execution_count": 131,
     "metadata": {},
     "output_type": "execute_result"
    },
    {
     "data": {
      "text/plain": [
       "Text(0.5, 0.98, 'Distribution of Error terms')"
      ]
     },
     "execution_count": 131,
     "metadata": {},
     "output_type": "execute_result"
    },
    {
     "data": {
      "text/plain": [
       "Text(0.5, 0, 'Error terms')"
      ]
     },
     "execution_count": 131,
     "metadata": {},
     "output_type": "execute_result"
    },
    {
     "data": {
      "image/png": "[encoded data removed]",
      "text/plain": [
       "<Figure size 432x288 with 1 Axes>"
      ]
     },
     "metadata": {},
     "output_type": "display_data"
    }
   ],
   "source": [
    "#Plot histogram of error terms (difference between predicted and actual train values)\n",
    "\n",
    "fig = plt.figure()\n",
    "sns.distplot(y_train - y_train_pred)\n",
    "fig.suptitle(\"Distribution of Error terms\")\n",
    "plt.xlabel(\"Error terms\")"
   ]
  },
  {
   "cell_type": "markdown",
   "metadata": {},
   "source": [
    "> **Observation:** Error terms are normally distributed with a mean of zero, so we can use this model to do predictions"
   ]
  },
  {
   "cell_type": "markdown",
   "metadata": {},
   "source": [
    "<a id='4.1'></a>\n",
    "## Predicting and Model Evaluation"
   ]
  },
  {
   "cell_type": "markdown",
   "metadata": {},
   "source": [
    "Let's predict the car prices in the test data set using linear regression model numer 12"
   ]
  },
  {
   "cell_type": "markdown",
   "metadata": {},
   "source": [
    "<a id='5.1'></a>\n",
    "## Prepare Test Data"
   ]
  },
  {
   "cell_type": "code",
   "execution_count": 132,
   "metadata": {},
   "outputs": [
    {
     "name": "stderr",
     "output_type": "stream",
     "text": [
      "C:\\Users\\ksami\\AppData\\Local\\Continuum\\anaconda3\\lib\\site-packages\\ipykernel_launcher.py:2: SettingWithCopyWarning: \n",
      "A value is trying to be set on a copy of a slice from a DataFrame.\n",
      "Try using .loc[row_indexer,col_indexer] = value instead\n",
      "\n",
      "See the caveats in the documentation: http://pandas.pydata.org/pandas-docs/stable/indexing.html#indexing-view-versus-copy\n",
      "  \n",
      "C:\\Users\\ksami\\AppData\\Local\\Continuum\\anaconda3\\lib\\site-packages\\pandas\\core\\indexing.py:543: SettingWithCopyWarning: \n",
      "A value is trying to be set on a copy of a slice from a DataFrame.\n",
      "Try using .loc[row_indexer,col_indexer] = value instead\n",
      "\n",
      "See the caveats in the documentation: http://pandas.pydata.org/pandas-docs/stable/indexing.html#indexing-view-versus-copy\n",
      "  self.obj[item] = s\n"
     ]
    }
   ],
   "source": [
    "#Rescale test data\n",
    "data_test[vars_to_scale] = scaler.transform(data_test[vars_to_scale])"
   ]
  },
  {
   "cell_type": "code",
   "execution_count": 133,
   "metadata": {},
   "outputs": [
    {
     "data": {
      "text/html": [
       "<div>\n",
       "<style scoped>\n",
       "    .dataframe tbody tr th:only-of-type {\n",
       "        vertical-align: middle;\n",
       "    }\n",
       "\n",
       "    .dataframe tbody tr th {\n",
       "        vertical-align: top;\n",
       "    }\n",
       "\n",
       "    .dataframe thead th {\n",
       "        text-align: right;\n",
       "    }\n",
       "</style>\n",
       "<table border=\"1\" class=\"dataframe\">\n",
       "  <thead>\n",
       "    <tr style=\"text-align: right;\">\n",
       "      <th></th>\n",
       "      <th>symboling</th>\n",
       "      <th>fueltype</th>\n",
       "      <th>aspiration</th>\n",
       "      <th>doornumber</th>\n",
       "      <th>enginelocation</th>\n",
       "      <th>wheelbase</th>\n",
       "      <th>carlength</th>\n",
       "      <th>carwidth</th>\n",
       "      <th>carheight</th>\n",
       "      <th>curbweight</th>\n",
       "      <th>cylindernumber</th>\n",
       "      <th>enginesize</th>\n",
       "      <th>boreratio</th>\n",
       "      <th>stroke</th>\n",
       "      <th>compressionratio</th>\n",
       "      <th>horsepower</th>\n",
       "      <th>peakrpm</th>\n",
       "      <th>citympg</th>\n",
       "      <th>highwaympg</th>\n",
       "      <th>price</th>\n",
       "      <th>car_make_audi</th>\n",
       "      <th>car_make_bmw</th>\n",
       "      <th>car_make_buick</th>\n",
       "      <th>car_make_chevrolet</th>\n",
       "      <th>car_make_dodge</th>\n",
       "      <th>car_make_honda</th>\n",
       "      <th>car_make_isuzu</th>\n",
       "      <th>car_make_jaguar</th>\n",
       "      <th>car_make_mazda</th>\n",
       "      <th>car_make_mercury</th>\n",
       "      <th>car_make_mitsubishi</th>\n",
       "      <th>car_make_nissan</th>\n",
       "      <th>car_make_peugeot</th>\n",
       "      <th>car_make_plymouth</th>\n",
       "      <th>car_make_porsche</th>\n",
       "      <th>car_make_renault</th>\n",
       "      <th>car_make_saab</th>\n",
       "      <th>car_make_subaru</th>\n",
       "      <th>car_make_toyota</th>\n",
       "      <th>car_make_volkswagen</th>\n",
       "      <th>car_make_volvo</th>\n",
       "      <th>carbody_hardtop</th>\n",
       "      <th>carbody_hatchback</th>\n",
       "      <th>carbody_sedan</th>\n",
       "      <th>carbody_wagon</th>\n",
       "      <th>drivewheel_fwd</th>\n",
       "      <th>drivewheel_rwd</th>\n",
       "      <th>enginetype_dohcv</th>\n",
       "      <th>enginetype_l</th>\n",
       "      <th>enginetype_ohc</th>\n",
       "      <th>enginetype_ohcf</th>\n",
       "      <th>enginetype_ohcv</th>\n",
       "      <th>enginetype_rotor</th>\n",
       "      <th>fuelsystem_2bbl</th>\n",
       "      <th>fuelsystem_4bbl</th>\n",
       "      <th>fuelsystem_idi</th>\n",
       "      <th>fuelsystem_mfi</th>\n",
       "      <th>fuelsystem_mpfi</th>\n",
       "      <th>fuelsystem_spdi</th>\n",
       "      <th>fuelsystem_spfi</th>\n",
       "    </tr>\n",
       "  </thead>\n",
       "  <tbody>\n",
       "    <tr>\n",
       "      <th>count</th>\n",
       "      <td>62.00</td>\n",
       "      <td>62.00</td>\n",
       "      <td>62.00</td>\n",
       "      <td>62.00</td>\n",
       "      <td>62.00</td>\n",
       "      <td>62.00</td>\n",
       "      <td>62.00</td>\n",
       "      <td>62.00</td>\n",
       "      <td>62.00</td>\n",
       "      <td>62.00</td>\n",
       "      <td>62.00</td>\n",
       "      <td>62.00</td>\n",
       "      <td>62.00</td>\n",
       "      <td>62.00</td>\n",
       "      <td>62.00</td>\n",
       "      <td>62.00</td>\n",
       "      <td>62.00</td>\n",
       "      <td>62.00</td>\n",
       "      <td>62.00</td>\n",
       "      <td>62.00</td>\n",
       "      <td>62.00</td>\n",
       "      <td>62.00</td>\n",
       "      <td>62.00</td>\n",
       "      <td>62.00</td>\n",
       "      <td>62.00</td>\n",
       "      <td>62.00</td>\n",
       "      <td>62.00</td>\n",
       "      <td>62.00</td>\n",
       "      <td>62.00</td>\n",
       "      <td>62.00</td>\n",
       "      <td>62.00</td>\n",
       "      <td>62.00</td>\n",
       "      <td>62.00</td>\n",
       "      <td>62.00</td>\n",
       "      <td>62.00</td>\n",
       "      <td>62.00</td>\n",
       "      <td>62.00</td>\n",
       "      <td>62.00</td>\n",
       "      <td>62.00</td>\n",
       "      <td>62.00</td>\n",
       "      <td>62.00</td>\n",
       "      <td>62.00</td>\n",
       "      <td>62.00</td>\n",
       "      <td>62.00</td>\n",
       "      <td>62.00</td>\n",
       "      <td>62.00</td>\n",
       "      <td>62.00</td>\n",
       "      <td>62.00</td>\n",
       "      <td>62.00</td>\n",
       "      <td>62.00</td>\n",
       "      <td>62.00</td>\n",
       "      <td>62.00</td>\n",
       "      <td>62.00</td>\n",
       "      <td>62.00</td>\n",
       "      <td>62.00</td>\n",
       "      <td>62.00</td>\n",
       "      <td>62.00</td>\n",
       "      <td>62.00</td>\n",
       "      <td>62.00</td>\n",
       "      <td>62.00</td>\n",
       "    </tr>\n",
       "    <tr>\n",
       "      <th>mean</th>\n",
       "      <td>0.58</td>\n",
       "      <td>0.11</td>\n",
       "      <td>0.18</td>\n",
       "      <td>0.56</td>\n",
       "      <td>0.03</td>\n",
       "      <td>0.44</td>\n",
       "      <td>0.56</td>\n",
       "      <td>0.48</td>\n",
       "      <td>0.56</td>\n",
       "      <td>0.43</td>\n",
       "      <td>0.23</td>\n",
       "      <td>0.27</td>\n",
       "      <td>0.56</td>\n",
       "      <td>0.54</td>\n",
       "      <td>0.21</td>\n",
       "      <td>0.25</td>\n",
       "      <td>0.39</td>\n",
       "      <td>0.33</td>\n",
       "      <td>0.36</td>\n",
       "      <td>0.24</td>\n",
       "      <td>0.03</td>\n",
       "      <td>0.03</td>\n",
       "      <td>0.05</td>\n",
       "      <td>0.00</td>\n",
       "      <td>0.05</td>\n",
       "      <td>0.06</td>\n",
       "      <td>0.02</td>\n",
       "      <td>0.00</td>\n",
       "      <td>0.06</td>\n",
       "      <td>0.02</td>\n",
       "      <td>0.06</td>\n",
       "      <td>0.06</td>\n",
       "      <td>0.05</td>\n",
       "      <td>0.05</td>\n",
       "      <td>0.03</td>\n",
       "      <td>0.00</td>\n",
       "      <td>0.05</td>\n",
       "      <td>0.02</td>\n",
       "      <td>0.19</td>\n",
       "      <td>0.08</td>\n",
       "      <td>0.08</td>\n",
       "      <td>0.08</td>\n",
       "      <td>0.34</td>\n",
       "      <td>0.45</td>\n",
       "      <td>0.10</td>\n",
       "      <td>0.56</td>\n",
       "      <td>0.42</td>\n",
       "      <td>0.00</td>\n",
       "      <td>0.05</td>\n",
       "      <td>0.81</td>\n",
       "      <td>0.05</td>\n",
       "      <td>0.06</td>\n",
       "      <td>0.00</td>\n",
       "      <td>0.26</td>\n",
       "      <td>0.00</td>\n",
       "      <td>0.11</td>\n",
       "      <td>0.02</td>\n",
       "      <td>0.50</td>\n",
       "      <td>0.05</td>\n",
       "      <td>0.02</td>\n",
       "    </tr>\n",
       "    <tr>\n",
       "      <th>std</th>\n",
       "      <td>0.27</td>\n",
       "      <td>0.32</td>\n",
       "      <td>0.39</td>\n",
       "      <td>0.50</td>\n",
       "      <td>0.18</td>\n",
       "      <td>0.21</td>\n",
       "      <td>0.19</td>\n",
       "      <td>0.17</td>\n",
       "      <td>0.22</td>\n",
       "      <td>0.18</td>\n",
       "      <td>0.09</td>\n",
       "      <td>0.16</td>\n",
       "      <td>0.23</td>\n",
       "      <td>0.16</td>\n",
       "      <td>0.27</td>\n",
       "      <td>0.16</td>\n",
       "      <td>0.19</td>\n",
       "      <td>0.17</td>\n",
       "      <td>0.18</td>\n",
       "      <td>0.23</td>\n",
       "      <td>0.18</td>\n",
       "      <td>0.18</td>\n",
       "      <td>0.22</td>\n",
       "      <td>0.00</td>\n",
       "      <td>0.22</td>\n",
       "      <td>0.25</td>\n",
       "      <td>0.13</td>\n",
       "      <td>0.00</td>\n",
       "      <td>0.25</td>\n",
       "      <td>0.13</td>\n",
       "      <td>0.25</td>\n",
       "      <td>0.25</td>\n",
       "      <td>0.22</td>\n",
       "      <td>0.22</td>\n",
       "      <td>0.18</td>\n",
       "      <td>0.00</td>\n",
       "      <td>0.22</td>\n",
       "      <td>0.13</td>\n",
       "      <td>0.40</td>\n",
       "      <td>0.27</td>\n",
       "      <td>0.27</td>\n",
       "      <td>0.27</td>\n",
       "      <td>0.48</td>\n",
       "      <td>0.50</td>\n",
       "      <td>0.30</td>\n",
       "      <td>0.50</td>\n",
       "      <td>0.50</td>\n",
       "      <td>0.00</td>\n",
       "      <td>0.22</td>\n",
       "      <td>0.40</td>\n",
       "      <td>0.22</td>\n",
       "      <td>0.25</td>\n",
       "      <td>0.00</td>\n",
       "      <td>0.44</td>\n",
       "      <td>0.00</td>\n",
       "      <td>0.32</td>\n",
       "      <td>0.13</td>\n",
       "      <td>0.50</td>\n",
       "      <td>0.22</td>\n",
       "      <td>0.13</td>\n",
       "    </tr>\n",
       "    <tr>\n",
       "      <th>min</th>\n",
       "      <td>0.00</td>\n",
       "      <td>0.00</td>\n",
       "      <td>0.00</td>\n",
       "      <td>0.00</td>\n",
       "      <td>0.00</td>\n",
       "      <td>0.00</td>\n",
       "      <td>0.06</td>\n",
       "      <td>0.18</td>\n",
       "      <td>0.14</td>\n",
       "      <td>0.13</td>\n",
       "      <td>0.20</td>\n",
       "      <td>0.07</td>\n",
       "      <td>-0.11</td>\n",
       "      <td>-0.06</td>\n",
       "      <td>0.00</td>\n",
       "      <td>0.02</td>\n",
       "      <td>0.00</td>\n",
       "      <td>0.03</td>\n",
       "      <td>-0.03</td>\n",
       "      <td>0.01</td>\n",
       "      <td>0.00</td>\n",
       "      <td>0.00</td>\n",
       "      <td>0.00</td>\n",
       "      <td>0.00</td>\n",
       "      <td>0.00</td>\n",
       "      <td>0.00</td>\n",
       "      <td>0.00</td>\n",
       "      <td>0.00</td>\n",
       "      <td>0.00</td>\n",
       "      <td>0.00</td>\n",
       "      <td>0.00</td>\n",
       "      <td>0.00</td>\n",
       "      <td>0.00</td>\n",
       "      <td>0.00</td>\n",
       "      <td>0.00</td>\n",
       "      <td>0.00</td>\n",
       "      <td>0.00</td>\n",
       "      <td>0.00</td>\n",
       "      <td>0.00</td>\n",
       "      <td>0.00</td>\n",
       "      <td>0.00</td>\n",
       "      <td>0.00</td>\n",
       "      <td>0.00</td>\n",
       "      <td>0.00</td>\n",
       "      <td>0.00</td>\n",
       "      <td>0.00</td>\n",
       "      <td>0.00</td>\n",
       "      <td>0.00</td>\n",
       "      <td>0.00</td>\n",
       "      <td>0.00</td>\n",
       "      <td>0.00</td>\n",
       "      <td>0.00</td>\n",
       "      <td>0.00</td>\n",
       "      <td>0.00</td>\n",
       "      <td>0.00</td>\n",
       "      <td>0.00</td>\n",
       "      <td>0.00</td>\n",
       "      <td>0.00</td>\n",
       "      <td>0.00</td>\n",
       "      <td>0.00</td>\n",
       "    </tr>\n",
       "    <tr>\n",
       "      <th>25%</th>\n",
       "      <td>0.40</td>\n",
       "      <td>0.00</td>\n",
       "      <td>0.00</td>\n",
       "      <td>0.00</td>\n",
       "      <td>0.00</td>\n",
       "      <td>0.31</td>\n",
       "      <td>0.46</td>\n",
       "      <td>0.36</td>\n",
       "      <td>0.38</td>\n",
       "      <td>0.31</td>\n",
       "      <td>0.20</td>\n",
       "      <td>0.18</td>\n",
       "      <td>0.40</td>\n",
       "      <td>0.48</td>\n",
       "      <td>0.09</td>\n",
       "      <td>0.11</td>\n",
       "      <td>0.27</td>\n",
       "      <td>0.17</td>\n",
       "      <td>0.22</td>\n",
       "      <td>0.09</td>\n",
       "      <td>0.00</td>\n",
       "      <td>0.00</td>\n",
       "      <td>0.00</td>\n",
       "      <td>0.00</td>\n",
       "      <td>0.00</td>\n",
       "      <td>0.00</td>\n",
       "      <td>0.00</td>\n",
       "      <td>0.00</td>\n",
       "      <td>0.00</td>\n",
       "      <td>0.00</td>\n",
       "      <td>0.00</td>\n",
       "      <td>0.00</td>\n",
       "      <td>0.00</td>\n",
       "      <td>0.00</td>\n",
       "      <td>0.00</td>\n",
       "      <td>0.00</td>\n",
       "      <td>0.00</td>\n",
       "      <td>0.00</td>\n",
       "      <td>0.00</td>\n",
       "      <td>0.00</td>\n",
       "      <td>0.00</td>\n",
       "      <td>0.00</td>\n",
       "      <td>0.00</td>\n",
       "      <td>0.00</td>\n",
       "      <td>0.00</td>\n",
       "      <td>0.00</td>\n",
       "      <td>0.00</td>\n",
       "      <td>0.00</td>\n",
       "      <td>0.00</td>\n",
       "      <td>1.00</td>\n",
       "      <td>0.00</td>\n",
       "      <td>0.00</td>\n",
       "      <td>0.00</td>\n",
       "      <td>0.00</td>\n",
       "      <td>0.00</td>\n",
       "      <td>0.00</td>\n",
       "      <td>0.00</td>\n",
       "      <td>0.00</td>\n",
       "      <td>0.00</td>\n",
       "      <td>0.00</td>\n",
       "    </tr>\n",
       "    <tr>\n",
       "      <th>50%</th>\n",
       "      <td>0.60</td>\n",
       "      <td>0.00</td>\n",
       "      <td>0.00</td>\n",
       "      <td>1.00</td>\n",
       "      <td>0.00</td>\n",
       "      <td>0.39</td>\n",
       "      <td>0.55</td>\n",
       "      <td>0.44</td>\n",
       "      <td>0.59</td>\n",
       "      <td>0.41</td>\n",
       "      <td>0.20</td>\n",
       "      <td>0.23</td>\n",
       "      <td>0.56</td>\n",
       "      <td>0.59</td>\n",
       "      <td>0.12</td>\n",
       "      <td>0.22</td>\n",
       "      <td>0.35</td>\n",
       "      <td>0.31</td>\n",
       "      <td>0.35</td>\n",
       "      <td>0.16</td>\n",
       "      <td>0.00</td>\n",
       "      <td>0.00</td>\n",
       "      <td>0.00</td>\n",
       "      <td>0.00</td>\n",
       "      <td>0.00</td>\n",
       "      <td>0.00</td>\n",
       "      <td>0.00</td>\n",
       "      <td>0.00</td>\n",
       "      <td>0.00</td>\n",
       "      <td>0.00</td>\n",
       "      <td>0.00</td>\n",
       "      <td>0.00</td>\n",
       "      <td>0.00</td>\n",
       "      <td>0.00</td>\n",
       "      <td>0.00</td>\n",
       "      <td>0.00</td>\n",
       "      <td>0.00</td>\n",
       "      <td>0.00</td>\n",
       "      <td>0.00</td>\n",
       "      <td>0.00</td>\n",
       "      <td>0.00</td>\n",
       "      <td>0.00</td>\n",
       "      <td>0.00</td>\n",
       "      <td>0.00</td>\n",
       "      <td>0.00</td>\n",
       "      <td>1.00</td>\n",
       "      <td>0.00</td>\n",
       "      <td>0.00</td>\n",
       "      <td>0.00</td>\n",
       "      <td>1.00</td>\n",
       "      <td>0.00</td>\n",
       "      <td>0.00</td>\n",
       "      <td>0.00</td>\n",
       "      <td>0.00</td>\n",
       "      <td>0.00</td>\n",
       "      <td>0.00</td>\n",
       "      <td>0.00</td>\n",
       "      <td>0.50</td>\n",
       "      <td>0.00</td>\n",
       "      <td>0.00</td>\n",
       "    </tr>\n",
       "    <tr>\n",
       "      <th>75%</th>\n",
       "      <td>0.80</td>\n",
       "      <td>0.00</td>\n",
       "      <td>0.00</td>\n",
       "      <td>1.00</td>\n",
       "      <td>0.00</td>\n",
       "      <td>0.57</td>\n",
       "      <td>0.72</td>\n",
       "      <td>0.52</td>\n",
       "      <td>0.70</td>\n",
       "      <td>0.56</td>\n",
       "      <td>0.20</td>\n",
       "      <td>0.32</td>\n",
       "      <td>0.75</td>\n",
       "      <td>0.64</td>\n",
       "      <td>0.15</td>\n",
       "      <td>0.30</td>\n",
       "      <td>0.54</td>\n",
       "      <td>0.44</td>\n",
       "      <td>0.46</td>\n",
       "      <td>0.32</td>\n",
       "      <td>0.00</td>\n",
       "      <td>0.00</td>\n",
       "      <td>0.00</td>\n",
       "      <td>0.00</td>\n",
       "      <td>0.00</td>\n",
       "      <td>0.00</td>\n",
       "      <td>0.00</td>\n",
       "      <td>0.00</td>\n",
       "      <td>0.00</td>\n",
       "      <td>0.00</td>\n",
       "      <td>0.00</td>\n",
       "      <td>0.00</td>\n",
       "      <td>0.00</td>\n",
       "      <td>0.00</td>\n",
       "      <td>0.00</td>\n",
       "      <td>0.00</td>\n",
       "      <td>0.00</td>\n",
       "      <td>0.00</td>\n",
       "      <td>0.00</td>\n",
       "      <td>0.00</td>\n",
       "      <td>0.00</td>\n",
       "      <td>0.00</td>\n",
       "      <td>1.00</td>\n",
       "      <td>1.00</td>\n",
       "      <td>0.00</td>\n",
       "      <td>1.00</td>\n",
       "      <td>1.00</td>\n",
       "      <td>0.00</td>\n",
       "      <td>0.00</td>\n",
       "      <td>1.00</td>\n",
       "      <td>0.00</td>\n",
       "      <td>0.00</td>\n",
       "      <td>0.00</td>\n",
       "      <td>0.75</td>\n",
       "      <td>0.00</td>\n",
       "      <td>0.00</td>\n",
       "      <td>0.00</td>\n",
       "      <td>1.00</td>\n",
       "      <td>0.00</td>\n",
       "      <td>0.00</td>\n",
       "    </tr>\n",
       "    <tr>\n",
       "      <th>max</th>\n",
       "      <td>1.00</td>\n",
       "      <td>1.00</td>\n",
       "      <td>1.00</td>\n",
       "      <td>1.00</td>\n",
       "      <td>1.00</td>\n",
       "      <td>1.18</td>\n",
       "      <td>1.09</td>\n",
       "      <td>0.98</td>\n",
       "      <td>1.06</td>\n",
       "      <td>0.94</td>\n",
       "      <td>0.60</td>\n",
       "      <td>0.93</td>\n",
       "      <td>0.89</td>\n",
       "      <td>0.86</td>\n",
       "      <td>1.00</td>\n",
       "      <td>0.66</td>\n",
       "      <td>1.00</td>\n",
       "      <td>0.69</td>\n",
       "      <td>0.81</td>\n",
       "      <td>1.11</td>\n",
       "      <td>1.00</td>\n",
       "      <td>1.00</td>\n",
       "      <td>1.00</td>\n",
       "      <td>0.00</td>\n",
       "      <td>1.00</td>\n",
       "      <td>1.00</td>\n",
       "      <td>1.00</td>\n",
       "      <td>0.00</td>\n",
       "      <td>1.00</td>\n",
       "      <td>1.00</td>\n",
       "      <td>1.00</td>\n",
       "      <td>1.00</td>\n",
       "      <td>1.00</td>\n",
       "      <td>1.00</td>\n",
       "      <td>1.00</td>\n",
       "      <td>0.00</td>\n",
       "      <td>1.00</td>\n",
       "      <td>1.00</td>\n",
       "      <td>1.00</td>\n",
       "      <td>1.00</td>\n",
       "      <td>1.00</td>\n",
       "      <td>1.00</td>\n",
       "      <td>1.00</td>\n",
       "      <td>1.00</td>\n",
       "      <td>1.00</td>\n",
       "      <td>1.00</td>\n",
       "      <td>1.00</td>\n",
       "      <td>0.00</td>\n",
       "      <td>1.00</td>\n",
       "      <td>1.00</td>\n",
       "      <td>1.00</td>\n",
       "      <td>1.00</td>\n",
       "      <td>0.00</td>\n",
       "      <td>1.00</td>\n",
       "      <td>0.00</td>\n",
       "      <td>1.00</td>\n",
       "      <td>1.00</td>\n",
       "      <td>1.00</td>\n",
       "      <td>1.00</td>\n",
       "      <td>1.00</td>\n",
       "    </tr>\n",
       "  </tbody>\n",
       "</table>\n",
       "</div>"
      ],
      "text/plain": [
       "       symboling  fueltype  aspiration  doornumber  enginelocation  wheelbase  \\\n",
       "count      62.00     62.00       62.00       62.00           62.00      62.00   \n",
       "mean        0.58      0.11        0.18        0.56            0.03       0.44   \n",
       "std         0.27      0.32        0.39        0.50            0.18       0.21   \n",
       "min         0.00      0.00        0.00        0.00            0.00       0.00   \n",
       "25%         0.40      0.00        0.00        0.00            0.00       0.31   \n",
       "50%         0.60      0.00        0.00        1.00            0.00       0.39   \n",
       "75%         0.80      0.00        0.00        1.00            0.00       0.57   \n",
       "max         1.00      1.00        1.00        1.00            1.00       1.18   \n",
       "\n",
       "       carlength  carwidth  carheight  curbweight  cylindernumber  enginesize  \\\n",
       "count      62.00     62.00      62.00       62.00           62.00       62.00   \n",
       "mean        0.56      0.48       0.56        0.43            0.23        0.27   \n",
       "std         0.19      0.17       0.22        0.18            0.09        0.16   \n",
       "min         0.06      0.18       0.14        0.13            0.20        0.07   \n",
       "25%         0.46      0.36       0.38        0.31            0.20        0.18   \n",
       "50%         0.55      0.44       0.59        0.41            0.20        0.23   \n",
       "75%         0.72      0.52       0.70        0.56            0.20        0.32   \n",
       "max         1.09      0.98       1.06        0.94            0.60        0.93   \n",
       "\n",
       "       boreratio  stroke  compressionratio  horsepower  peakrpm  citympg  \\\n",
       "count      62.00   62.00             62.00       62.00    62.00    62.00   \n",
       "mean        0.56    0.54              0.21        0.25     0.39     0.33   \n",
       "std         0.23    0.16              0.27        0.16     0.19     0.17   \n",
       "min        -0.11   -0.06              0.00        0.02     0.00     0.03   \n",
       "25%         0.40    0.48              0.09        0.11     0.27     0.17   \n",
       "50%         0.56    0.59              0.12        0.22     0.35     0.31   \n",
       "75%         0.75    0.64              0.15        0.30     0.54     0.44   \n",
       "max         0.89    0.86              1.00        0.66     1.00     0.69   \n",
       "\n",
       "       highwaympg  price  car_make_audi  car_make_bmw  car_make_buick  \\\n",
       "count       62.00  62.00          62.00         62.00           62.00   \n",
       "mean         0.36   0.24           0.03          0.03            0.05   \n",
       "std          0.18   0.23           0.18          0.18            0.22   \n",
       "min         -0.03   0.01           0.00          0.00            0.00   \n",
       "25%          0.22   0.09           0.00          0.00            0.00   \n",
       "50%          0.35   0.16           0.00          0.00            0.00   \n",
       "75%          0.46   0.32           0.00          0.00            0.00   \n",
       "max          0.81   1.11           1.00          1.00            1.00   \n",
       "\n",
       "       car_make_chevrolet  car_make_dodge  car_make_honda  car_make_isuzu  \\\n",
       "count               62.00           62.00           62.00           62.00   \n",
       "mean                 0.00            0.05            0.06            0.02   \n",
       "std                  0.00            0.22            0.25            0.13   \n",
       "min                  0.00            0.00            0.00            0.00   \n",
       "25%                  0.00            0.00            0.00            0.00   \n",
       "50%                  0.00            0.00            0.00            0.00   \n",
       "75%                  0.00            0.00            0.00            0.00   \n",
       "max                  0.00            1.00            1.00            1.00   \n",
       "\n",
       "       car_make_jaguar  car_make_mazda  car_make_mercury  car_make_mitsubishi  \\\n",
       "count            62.00           62.00             62.00                62.00   \n",
       "mean              0.00            0.06              0.02                 0.06   \n",
       "std               0.00            0.25              0.13                 0.25   \n",
       "min               0.00            0.00              0.00                 0.00   \n",
       "25%               0.00            0.00              0.00                 0.00   \n",
       "50%               0.00            0.00              0.00                 0.00   \n",
       "75%               0.00            0.00              0.00                 0.00   \n",
       "max               0.00            1.00              1.00                 1.00   \n",
       "\n",
       "       car_make_nissan  car_make_peugeot  car_make_plymouth  car_make_porsche  \\\n",
       "count            62.00             62.00              62.00             62.00   \n",
       "mean              0.06              0.05               0.05              0.03   \n",
       "std               0.25              0.22               0.22              0.18   \n",
       "min               0.00              0.00               0.00              0.00   \n",
       "25%               0.00              0.00               0.00              0.00   \n",
       "50%               0.00              0.00               0.00              0.00   \n",
       "75%               0.00              0.00               0.00              0.00   \n",
       "max               1.00              1.00               1.00              1.00   \n",
       "\n",
       "       car_make_renault  car_make_saab  car_make_subaru  car_make_toyota  \\\n",
       "count             62.00          62.00            62.00            62.00   \n",
       "mean               0.00           0.05             0.02             0.19   \n",
       "std                0.00           0.22             0.13             0.40   \n",
       "min                0.00           0.00             0.00             0.00   \n",
       "25%                0.00           0.00             0.00             0.00   \n",
       "50%                0.00           0.00             0.00             0.00   \n",
       "75%                0.00           0.00             0.00             0.00   \n",
       "max                0.00           1.00             1.00             1.00   \n",
       "\n",
       "       car_make_volkswagen  car_make_volvo  carbody_hardtop  \\\n",
       "count                62.00           62.00            62.00   \n",
       "mean                  0.08            0.08             0.08   \n",
       "std                   0.27            0.27             0.27   \n",
       "min                   0.00            0.00             0.00   \n",
       "25%                   0.00            0.00             0.00   \n",
       "50%                   0.00            0.00             0.00   \n",
       "75%                   0.00            0.00             0.00   \n",
       "max                   1.00            1.00             1.00   \n",
       "\n",
       "       carbody_hatchback  carbody_sedan  carbody_wagon  drivewheel_fwd  \\\n",
       "count              62.00          62.00          62.00           62.00   \n",
       "mean                0.34           0.45           0.10            0.56   \n",
       "std                 0.48           0.50           0.30            0.50   \n",
       "min                 0.00           0.00           0.00            0.00   \n",
       "25%                 0.00           0.00           0.00            0.00   \n",
       "50%                 0.00           0.00           0.00            1.00   \n",
       "75%                 1.00           1.00           0.00            1.00   \n",
       "max                 1.00           1.00           1.00            1.00   \n",
       "\n",
       "       drivewheel_rwd  enginetype_dohcv  enginetype_l  enginetype_ohc  \\\n",
       "count           62.00             62.00         62.00           62.00   \n",
       "mean             0.42              0.00          0.05            0.81   \n",
       "std              0.50              0.00          0.22            0.40   \n",
       "min              0.00              0.00          0.00            0.00   \n",
       "25%              0.00              0.00          0.00            1.00   \n",
       "50%              0.00              0.00          0.00            1.00   \n",
       "75%              1.00              0.00          0.00            1.00   \n",
       "max              1.00              0.00          1.00            1.00   \n",
       "\n",
       "       enginetype_ohcf  enginetype_ohcv  enginetype_rotor  fuelsystem_2bbl  \\\n",
       "count            62.00            62.00             62.00            62.00   \n",
       "mean              0.05             0.06              0.00             0.26   \n",
       "std               0.22             0.25              0.00             0.44   \n",
       "min               0.00             0.00              0.00             0.00   \n",
       "25%               0.00             0.00              0.00             0.00   \n",
       "50%               0.00             0.00              0.00             0.00   \n",
       "75%               0.00             0.00              0.00             0.75   \n",
       "max               1.00             1.00              0.00             1.00   \n",
       "\n",
       "       fuelsystem_4bbl  fuelsystem_idi  fuelsystem_mfi  fuelsystem_mpfi  \\\n",
       "count            62.00           62.00           62.00            62.00   \n",
       "mean              0.00            0.11            0.02             0.50   \n",
       "std               0.00            0.32            0.13             0.50   \n",
       "min               0.00            0.00            0.00             0.00   \n",
       "25%               0.00            0.00            0.00             0.00   \n",
       "50%               0.00            0.00            0.00             0.50   \n",
       "75%               0.00            0.00            0.00             1.00   \n",
       "max               0.00            1.00            1.00             1.00   \n",
       "\n",
       "       fuelsystem_spdi  fuelsystem_spfi  \n",
       "count            62.00            62.00  \n",
       "mean              0.05             0.02  \n",
       "std               0.22             0.13  \n",
       "min               0.00             0.00  \n",
       "25%               0.00             0.00  \n",
       "50%               0.00             0.00  \n",
       "75%               0.00             0.00  \n",
       "max               1.00             1.00  "
      ]
     },
     "execution_count": 133,
     "metadata": {},
     "output_type": "execute_result"
    }
   ],
   "source": [
    "#Verify outcome of scaling\n",
    "data_test.describe()"
   ]
  },
  {
   "cell_type": "code",
   "execution_count": 134,
   "metadata": {},
   "outputs": [],
   "source": [
    "#Create X,y for test dataset\n",
    "y_test = data_test.pop('price')\n",
    "X_test = data_test"
   ]
  },
  {
   "cell_type": "code",
   "execution_count": 135,
   "metadata": {},
   "outputs": [
    {
     "data": {
      "text/plain": [
       "(62,)"
      ]
     },
     "execution_count": 135,
     "metadata": {},
     "output_type": "execute_result"
    },
    {
     "data": {
      "text/plain": [
       "(62, 59)"
      ]
     },
     "execution_count": 135,
     "metadata": {},
     "output_type": "execute_result"
    }
   ],
   "source": [
    "y_test.shape\n",
    "X_test.shape"
   ]
  },
  {
   "cell_type": "code",
   "execution_count": 136,
   "metadata": {},
   "outputs": [
    {
     "name": "stderr",
     "output_type": "stream",
     "text": [
      "C:\\Users\\ksami\\AppData\\Local\\Continuum\\anaconda3\\lib\\site-packages\\numpy\\core\\fromnumeric.py:2389: FutureWarning: Method .ptp is deprecated and will be removed in a future version. Use numpy.ptp instead.\n",
      "  return ptp(axis=axis, out=out, **kwargs)\n"
     ]
    }
   ],
   "source": [
    "# Drop variables from X_test which are not in X_train\n",
    "X_test = X_test[X_train12.columns]\n",
    "\n",
    "# Add constant variable \n",
    "X_test_const = sm.add_constant(X_test)"
   ]
  },
  {
   "cell_type": "markdown",
   "metadata": {},
   "source": [
    "<a id='5.1'></a>\n",
    "## Predict Prices on Test Data"
   ]
  },
  {
   "cell_type": "code",
   "execution_count": 137,
   "metadata": {},
   "outputs": [],
   "source": [
    "# Making predictions using the model\n",
    "y_test_pred = model12.predict(X_test_const)"
   ]
  },
  {
   "cell_type": "code",
   "execution_count": 138,
   "metadata": {},
   "outputs": [
    {
     "data": {
      "text/plain": [
       "<matplotlib.collections.PathCollection at 0x1f4bba13a58>"
      ]
     },
     "execution_count": 138,
     "metadata": {},
     "output_type": "execute_result"
    },
    {
     "data": {
      "text/plain": [
       "Text(0.5, 0.98, 'y_test vs y_pred')"
      ]
     },
     "execution_count": 138,
     "metadata": {},
     "output_type": "execute_result"
    },
    {
     "data": {
      "text/plain": [
       "Text(0.5, 0, 'y_test')"
      ]
     },
     "execution_count": 138,
     "metadata": {},
     "output_type": "execute_result"
    },
    {
     "data": {
      "text/plain": [
       "Text(0, 0.5, 'y_pred')"
      ]
     },
     "execution_count": 138,
     "metadata": {},
     "output_type": "execute_result"
    },
    {
     "data": {
      "image/png": "[encoded data removed]",
      "text/plain": [
       "<Figure size 432x288 with 1 Axes>"
      ]
     },
     "metadata": {},
     "output_type": "display_data"
    }
   ],
   "source": [
    "# Plotting y_test and y_pred to understand the spread\n",
    "\n",
    "fig = plt.figure()\n",
    "plt.scatter(y_test, y_test_pred)\n",
    "fig.suptitle('y_test vs y_pred', fontsize = 20)              # Plot heading \n",
    "plt.xlabel('y_test', fontsize = 18)                          # X-label\n",
    "plt.ylabel('y_pred', fontsize = 16)      "
   ]
  },
  {
   "cell_type": "markdown",
   "metadata": {},
   "source": [
    "<a id='5.2'></a>\n",
    "## Evaluate Model"
   ]
  },
  {
   "cell_type": "markdown",
   "metadata": {},
   "source": [
    "Let's first visualize the actual vs predicted car prices in the test data set"
   ]
  },
  {
   "cell_type": "code",
   "execution_count": 139,
   "metadata": {},
   "outputs": [
    {
     "data": {
      "text/plain": [
       "(62,)"
      ]
     },
     "execution_count": 139,
     "metadata": {},
     "output_type": "execute_result"
    }
   ],
   "source": [
    "y_test.shape"
   ]
  },
  {
   "cell_type": "code",
   "execution_count": 140,
   "metadata": {},
   "outputs": [
    {
     "data": {
      "text/plain": [
       "[<matplotlib.lines.Line2D at 0x1f4bb8027f0>]"
      ]
     },
     "execution_count": 140,
     "metadata": {},
     "output_type": "execute_result"
    },
    {
     "data": {
      "text/plain": [
       "[<matplotlib.lines.Line2D at 0x1f4bbd3f5f8>]"
      ]
     },
     "execution_count": 140,
     "metadata": {},
     "output_type": "execute_result"
    },
    {
     "data": {
      "text/plain": [
       "Text(0.5, 0.98, 'Actual vs Predicted Test Data')"
      ]
     },
     "execution_count": 140,
     "metadata": {},
     "output_type": "execute_result"
    },
    {
     "data": {
      "text/plain": [
       "Text(0.5, 0, 'Index')"
      ]
     },
     "execution_count": 140,
     "metadata": {},
     "output_type": "execute_result"
    },
    {
     "data": {
      "text/plain": [
       "Text(0, 0.5, 'Car Prices')"
      ]
     },
     "execution_count": 140,
     "metadata": {},
     "output_type": "execute_result"
    },
    {
     "data": {
      "image/png": "[encoded data removed]",
      "text/plain": [
       "<Figure size 1440x576 with 1 Axes>"
      ]
     },
     "metadata": {},
     "output_type": "display_data"
    }
   ],
   "source": [
    "#Let's visualize Actual vs Predicted for Test Data\n",
    "c = [i for i in range(1,63,1)]\n",
    "fig = plt.figure(figsize=(20,8))\n",
    "plt.plot(c,y_test, color=\"blue\", linewidth=2.5, linestyle=\"-\")\n",
    "plt.plot(c,y_test_pred, color=\"red\",  linewidth=2.5, linestyle=\"-\")\n",
    "fig.suptitle('Actual vs Predicted Test Data', fontsize=20)              # Plot heading \n",
    "plt.xlabel('Index', fontsize=18)                               # X-label\n",
    "plt.ylabel('Car Prices', fontsize=16)                               # Y-label"
   ]
  },
  {
   "cell_type": "code",
   "execution_count": 141,
   "metadata": {},
   "outputs": [
    {
     "data": {
      "text/plain": [
       "0.8564792061048639"
      ]
     },
     "execution_count": 141,
     "metadata": {},
     "output_type": "execute_result"
    }
   ],
   "source": [
    "#Let's get the r-square for test data\n",
    "r2_score(y_test, y_test_pred)"
   ]
  },
  {
   "cell_type": "markdown",
   "metadata": {},
   "source": [
    "<a id='5.3'></a>\n",
    "## Analysis Conclusion: "
   ]
  },
  {
   "cell_type": "markdown",
   "metadata": {},
   "source": [
    "The model explains 85.6% of variance in car price is explained by the 8 independent variables and their relationship is given as: \n",
    "\n",
    "**price = 0.0254 + 0.1228 * enginelocation + 0.8875 enginesize + 0.1286 * peakrpm + 0.2237 * car_make_bmw - 0.0283 * car_make_peugeot + 0.1453 * car_make_porsche + 0.1755 * fuelsystem_idi -0.2887 *citympg**\n",
    "\n",
    "Peugeot's brand appears to negatively impact its price whereas Porsche and BMW positively impacts its price. \n",
    "\n",
    "Overall it's that **engine size**, **mileage** and **brand/make** are the key drivers for car price which Geely Auto must focus on."
   ]
  },
  {
   "cell_type": "markdown",
   "metadata": {},
   "source": [
    "This is a pretty good model although it can be improved perhaps by adding derivative features such as ratios based on domain knowledge.\n"
   ]
  },
  {
   "cell_type": "markdown",
   "metadata": {},
   "source": [
    "<a id='6'></a>\n",
    "## References"
   ]
  },
  {
   "cell_type": "markdown",
   "metadata": {},
   "source": [
    "**Domain Research References**\n",
    "\n",
    "- Data Dictionary - https://archive.ics.uci.edu/ml/datasets/automobile\n",
    "- Fuel Injection - https://www.cars.com/articles/what-are-the-different-types-of-fuel-injection-1420690418419/\n",
    "- Fuel Economy - https://en.wikipedia.org/wiki/Fuel_economy_in_automobiles\n",
    "- Relationship between compression ratio and fuel economy - https://auto.howstuffworks.com/compression-ratio-fuel-economy.htm\n",
    "- Engine displacement (size) and relationship with horsepower - https://www.yourmechanic.com/article/what-is-engine-displacement \n",
    "- Engine displacement calculator - http://performancetrends.com/Calculators/Engine-Displacement/Engine-Displacement.php\n",
    "- Aspiration - https://www.autoinfluence.com/quick-look-difference-naturally-aspirated-turbocharged-engines/\n",
    "- Fuel system - https://www.cars.com/articles/what-are-the-different-types-of-fuel-injection-1420690418419/\n"
   ]
  },
  {
   "cell_type": "code",
   "execution_count": null,
   "metadata": {},
   "outputs": [],
   "source": []
  }
 ],
 "metadata": {
  "kernelspec": {
   "display_name": "Python 3",
   "language": "python",
   "name": "python3"
  },
  "language_info": {
   "codemirror_mode": {
    "name": "ipython",
    "version": 3
   },
   "file_extension": ".py",
   "mimetype": "text/x-python",
   "name": "python",
   "nbconvert_exporter": "python",
   "pygments_lexer": "ipython3",
   "version": "3.7.6"
  }
 },
 "nbformat": 4,
 "nbformat_minor": 2
}
